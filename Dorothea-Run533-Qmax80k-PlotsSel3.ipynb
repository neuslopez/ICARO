{
 "cells": [
  {
   "cell_type": "code",
   "execution_count": 1,
   "metadata": {},
   "outputs": [],
   "source": [
    "import invisible_cities.io.rwf_io as rwfio"
   ]
  },
  {
   "cell_type": "code",
   "execution_count": 2,
   "metadata": {},
   "outputs": [
    {
     "name": "stdout",
     "output_type": "stream",
     "text": [
      "Running on  Thu Apr 11 15:27:01 2019\n"
     ]
    }
   ],
   "source": [
    "import sys\n",
    "import os\n",
    "import shutil\n",
    "import functools\n",
    "import time\n",
    "import glob\n",
    "\n",
    "%matplotlib inline\n",
    "print(\"Running on \", time.asctime())\n",
    "\n",
    "import numpy             as np\n",
    "import tables            as tb\n",
    "import matplotlib.pyplot as plt\n",
    "from   matplotlib.colors import LogNorm\n",
    "import pandas as pd"
   ]
  },
  {
   "cell_type": "code",
   "execution_count": 3,
   "metadata": {},
   "outputs": [],
   "source": [
    "from matplotlib import pylab as plt"
   ]
  },
  {
   "cell_type": "code",
   "execution_count": 4,
   "metadata": {},
   "outputs": [],
   "source": [
    "import numpy  as np\n",
    "import tables as tb\n",
    "import pandas as pd\n",
    "\n",
    "from invisible_cities.types.ic_types import minmax\n",
    "from invisible_cities.database       import load_db\n",
    "\n",
    "from invisible_cities.core.system_of_units_c import units\n",
    "\n",
    "from invisible_cities.reco                  import tbl_functions        as tbl\n",
    "from invisible_cities.reco                  import  peak_functions      as pkf\n",
    "from invisible_cities.core.random_sampling  import NoiseSampler         as SiPMsNoiseSampler\n",
    "from invisible_cities.io  .        pmaps_io import          pmap_writer\n",
    "from invisible_cities.io.        mcinfo_io  import       mc_info_writer\n",
    "from invisible_cities.io  .run_and_event_io import run_and_event_writer\n",
    "from invisible_cities.io  .trigger_io       import       trigger_writer\n",
    "from invisible_cities.io  .event_filter_io  import  event_filter_writer\n",
    "\n",
    "from invisible_cities.dataflow            import dataflow as fl\n",
    "from invisible_cities.dataflow.dataflow   import push\n",
    "from invisible_cities.dataflow.dataflow   import pipe\n",
    "from invisible_cities.dataflow.dataflow   import sink\n",
    "\n",
    "from invisible_cities.cities.components import city\n",
    "from invisible_cities.cities.components import print_every\n",
    "from invisible_cities.cities.components import deconv_pmt\n",
    "from invisible_cities.cities.components import calibrate_pmts\n",
    "from invisible_cities.cities.components import calibrate_sipms\n",
    "from invisible_cities.cities.components import zero_suppress_wfs\n",
    "from invisible_cities.cities.components import WfType\n",
    "from invisible_cities.cities.components import wf_from_files\n",
    "# dorothea\n",
    "from invisible_cities.cities.components      import peak_classifier\n",
    "from invisible_cities.filters.s1s2_filter    import S12Selector\n",
    "from invisible_cities.cities.components             import peak_classifier\n",
    "\n",
    "from   invisible_cities.cities.irene       import build_pmap\n",
    "import invisible_cities.reco.dst_functions as dstf\n",
    "import invisible_cities.io.dst_io          as dsts\n",
    "\n",
    "from invisible_cities.icaro.hst_functions  import hist2d, hist2d_profile\n",
    "from invisible_cities.core.fit_functions   import  *\n",
    "\n",
    "import invisible_cities.core.fit_functions as fitf"
   ]
  },
  {
   "cell_type": "markdown",
   "metadata": {},
   "source": [
    "## Open Dorothea Kr file:"
   ]
  },
  {
   "cell_type": "code",
   "execution_count": 5,
   "metadata": {},
   "outputs": [],
   "source": [
    "demopp  = os.environ['ICTDIR'] + '/invisible_cities/database/localdb.DEMOPPDB.sqlite3'"
   ]
  },
  {
   "cell_type": "code",
   "execution_count": 6,
   "metadata": {},
   "outputs": [
    {
     "data": {
      "text/plain": [
       "'/Users/neus/IC/invisible_cities/database/localdb.DEMOPPDB.sqlite3'"
      ]
     },
     "execution_count": 6,
     "metadata": {},
     "output_type": "execute_result"
    }
   ],
   "source": [
    "demopp"
   ]
  },
  {
   "cell_type": "code",
   "execution_count": 7,
   "metadata": {},
   "outputs": [],
   "source": [
    "sipm = load_db.DataSiPM(load_db.DetDB.demopp,533)"
   ]
  },
  {
   "cell_type": "code",
   "execution_count": 8,
   "metadata": {},
   "outputs": [
    {
     "data": {
      "text/plain": [
       "'/Users/neus/IC/invisible_cities/database/localdb.DEMOPPDB.sqlite3'"
      ]
     },
     "execution_count": 8,
     "metadata": {},
     "output_type": "execute_result"
    }
   ],
   "source": [
    "demopp"
   ]
  },
  {
   "cell_type": "markdown",
   "metadata": {},
   "source": [
    "### Open files:"
   ]
  },
  {
   "cell_type": "code",
   "execution_count": 9,
   "metadata": {},
   "outputs": [],
   "source": [
    "path = '/Users/neus/current-work/data/533/kdst/trigger1/'"
   ]
  },
  {
   "cell_type": "code",
   "execution_count": 10,
   "metadata": {},
   "outputs": [],
   "source": [
    "files_all = [path+f for f in os.listdir(path) if os.path.isfile( os.path.join(path, f) )]"
   ]
  },
  {
   "cell_type": "code",
   "execution_count": null,
   "metadata": {},
   "outputs": [],
   "source": [
    "d = dsts.load_dsts(files_all, \"DST\", \"Events\")"
   ]
  },
  {
   "cell_type": "code",
   "execution_count": null,
   "metadata": {},
   "outputs": [],
   "source": [
    "len(d),type(d)"
   ]
  },
  {
   "cell_type": "code",
   "execution_count": null,
   "metadata": {},
   "outputs": [],
   "source": [
    "d.dtypes.index"
   ]
  },
  {
   "cell_type": "code",
   "execution_count": null,
   "metadata": {},
   "outputs": [],
   "source": [
    "d.head()"
   ]
  },
  {
   "cell_type": "code",
   "execution_count": null,
   "metadata": {},
   "outputs": [],
   "source": [
    "d.tail()"
   ]
  },
  {
   "cell_type": "markdown",
   "metadata": {},
   "source": [
    "## Selection:"
   ]
  },
  {
   "cell_type": "code",
   "execution_count": null,
   "metadata": {},
   "outputs": [],
   "source": [
    "sel = (d.nS1 == 1) & (d.Z<350) \n",
    "sel2 = (d.nS1 == 1) & (d.nS2 == 1) & (d.Z < 350)  \n",
    "sel3 = (d.nS1 == 1) & (d.nS2 == 1) & (d.Z < 300) & (d.Z > 20)  & (d.R<60)"
   ]
  },
  {
   "cell_type": "code",
   "execution_count": null,
   "metadata": {},
   "outputs": [],
   "source": [
    "fig = plt.figure(figsize = (15,25))\n",
    "\n",
    "ax2 = fig.add_subplot(6,3,1)\n",
    "plt.hist(d.S2e,     100,[0,10000])\n",
    "plt.hist(d.S2e[sel],100,[0,10000])\n",
    "plt.xlabel('S2e')\n",
    "\n",
    "ax2 = fig.add_subplot(6,3,2)\n",
    "plt.hist(d.S2e,     100,[0,10000])\n",
    "plt.hist(d.S2e[sel],100,[0,10000])\n",
    "plt.xlabel('S2e')\n",
    "\n",
    "ax2 = fig.add_subplot(6,3,3)\n",
    "plt.hist(d.S2e[sel],100,[4000,7000])\n",
    "plt.xlabel('S2e')\n",
    "\n",
    "plt.show()"
   ]
  },
  {
   "cell_type": "code",
   "execution_count": null,
   "metadata": {},
   "outputs": [],
   "source": [
    "fig = plt.figure(figsize = (11,13))\n",
    "\n",
    "ax2 = fig.add_subplot(3,2,6)\n",
    "#plt.hist(d.S2e, 100, [4000,7000])\n",
    "plt.hist(d.S2e[sel], 100, [4000,7000])\n",
    "plt.hist(d.S2e[sel2], 100, [4000,7000])\n",
    "plt.hist(d.S2e[sel3], 100, [4000,7000])\n",
    "plt.xlabel('S2e')\n",
    "\n",
    "ax2 = fig.add_subplot(3,2,1)\n",
    "plt.hist2d(d.Z[sel3], d.S2e[sel3],[100,100],[[0,350],[2500,7000]])\n",
    "plt.xlabel('Z')\n",
    "plt.ylabel('S2e')\n",
    "plt.colorbar()\n",
    "\n",
    "ax2 = fig.add_subplot(3,2,2)\n",
    "plt.hist2d(d.Z[sel3], d.S1e[sel3],[100,100],[[0,350],[0,80]])\n",
    "plt.xlabel('Z')\n",
    "plt.ylabel('S1e')\n",
    "plt.colorbar()\n",
    "\n",
    "ax2 = fig.add_subplot(3,2,1)\n",
    "plt.hist2d(d.R[sel3], d.S2e[sel3],[100,100], [[0,80],[2500, 7000]])\n",
    "plt.xlabel('R')\n",
    "plt.ylabel('S2e')\n",
    "plt.colorbar()\n",
    "\n",
    "plt.show()"
   ]
  },
  {
   "cell_type": "code",
   "execution_count": null,
   "metadata": {},
   "outputs": [],
   "source": [
    "fig = plt.figure(figsize = (11,13))\n",
    "\n",
    "ax2 = fig.add_subplot(3,2,1)\n",
    "plt.hist(d.S2e[sel3],100,[4000,7000])\n",
    "plt.xlabel('S2e')\n",
    "\n",
    "ax2 = fig.add_subplot(3,2,2)\n",
    "plt.hist2d(d.Z[sel3], d.S2e[sel3],[50,50],[[0,350],[5000,6500]])\n",
    "plt.xlabel('Z')\n",
    "plt.ylabel('S2e')\n",
    "plt.colorbar()\n",
    "\n",
    "ax2 = fig.add_subplot(3,2,3)\n",
    "plt.hist2d(d.Z[sel3], d.S1e[sel3],[50,50],[[0,350],[0,20]])\n",
    "plt.xlabel('Z')\n",
    "plt.ylabel('S1e')\n",
    "plt.colorbar()\n",
    "\n",
    "ax2 = fig.add_subplot(3,2,4)\n",
    "plt.hist2d(d.S1e[sel3], d.S2e[sel3], 100, [[0,30], [3000,6500]])\n",
    "plt.xlabel('S1e')\n",
    "plt.ylabel('S2e')\n",
    "plt.colorbar()\n",
    "\n",
    "ax2 = fig.add_subplot(3,2,5)\n",
    "plt.hist2d(d.Nsipm[sel3], d.S2e[sel3], [50, 100], [[0,50],[3000,6500]])\n",
    "plt.xlabel('Nsipm')\n",
    "plt.ylabel('S2e')\n",
    "plt.colorbar()\n",
    "\n",
    "ax2 = fig.add_subplot(3,2,6)\n",
    "plt.hist2d(d.Nsipm[sel3],d.S1e[sel3], [20, 100], [[0,20],[0,40]])\n",
    "plt.xlabel('Nsipm')\n",
    "plt.ylabel('S1e')\n",
    "plt.colorbar()\n",
    "\n",
    "plt.show()"
   ]
  },
  {
   "cell_type": "code",
   "execution_count": null,
   "metadata": {
    "scrolled": true
   },
   "outputs": [],
   "source": [
    "fig = plt.figure(figsize = (11,13))\n",
    "\n",
    "ax2 = fig.add_subplot(3,2,3)\n",
    "plt.hist(d.Z[sel3],100)\n",
    "#plt.yscale('log', nonposy='clip')\n",
    "plt.xlabel('Z')\n",
    "\n",
    "ax2 = fig.add_subplot(3,2,4)\n",
    "plt.hist(d.X[sel3],100)\n",
    "#plt.yscale('log', nonposy='clip')\n",
    "plt.xlabel('X')\n",
    "\n",
    "ax2 = fig.add_subplot(3,2,5)\n",
    "plt.hist(d.Y[sel3],100)\n",
    "#plt.yscale('log', nonposy='clip')\n",
    "plt.xlabel('Y')\n",
    "\n",
    "ax2 = fig.add_subplot(3,2,3)\n",
    "plt.hist2d(d.X[sel3], d.Y[sel3],50)\n",
    "plt.xlabel('X')\n",
    "plt.ylabel('Y')\n",
    "plt.colorbar()\n",
    "\n",
    "plt.show()"
   ]
  },
  {
   "cell_type": "code",
   "execution_count": null,
   "metadata": {},
   "outputs": [],
   "source": [
    "fig = plt.figure(figsize = (11,13))\n",
    "\n",
    "ax2 = fig.add_subplot(3,2,1)\n",
    "plt.hist2d(d.R[sel3], d.S2e[sel3],[100,100], [[0,80],[2500, 7000]])\n",
    "plt.xlabel('R')\n",
    "plt.ylabel('S2e')\n",
    "plt.colorbar()\n",
    "\n",
    "plt.show()"
   ]
  },
  {
   "cell_type": "code",
   "execution_count": null,
   "metadata": {},
   "outputs": [],
   "source": [
    "8500*6000/12000"
   ]
  },
  {
   "cell_type": "markdown",
   "metadata": {},
   "source": [
    "## Lifetime:"
   ]
  },
  {
   "cell_type": "code",
   "execution_count": null,
   "metadata": {},
   "outputs": [],
   "source": [
    "Zrange  = 50,  300\n",
    "Znbins  =  50\n",
    "Zbins = np.linspace(*Zrange, Znbins + 1)"
   ]
  },
  {
   "cell_type": "code",
   "execution_count": null,
   "metadata": {},
   "outputs": [],
   "source": [
    "fig = plt.figure(figsize = (8,5))\n",
    "\n",
    "S2Erange            =   2e3, 10e3\n",
    "S2Enbins            = 50\n",
    "S2Ebins   = np.linspace(*S2Erange   , S2Enbins + 1)\n",
    "\n",
    "t, e, eu = fitf.profileX(d.Z[sel3], d.S2e[sel3], 50)\n",
    "plt.hist2d(d.Z[sel3],d.S2e[sel3] , (np.linspace(0, d.Z[sel3].max(), 50), S2Ebins), cmin=1)\n",
    "plt.errorbar(t, e, eu, fmt=\"kp\")\n",
    "plt.colorbar().set_label(\"# events\")\n",
    "plt.xlabel('Z')\n",
    "plt.ylabel('S2e')\n",
    "\n",
    "plt.show()"
   ]
  },
  {
   "cell_type": "markdown",
   "metadata": {},
   "source": [
    "### Drift velocity fit:"
   ]
  },
  {
   "cell_type": "code",
   "execution_count": null,
   "metadata": {},
   "outputs": [],
   "source": [
    "fig = plt.figure(figsize = (11,13))\n",
    "\n",
    "ax2 = fig.add_subplot(3,2,3)\n",
    "plt.hist(d.Z[sel],100 ,[310,350])\n",
    "plt.yscale('log', nonposy='clip')\n",
    "plt.xlabel('Z')\n",
    "\n",
    "plt.show()"
   ]
  },
  {
   "cell_type": "code",
   "execution_count": null,
   "metadata": {},
   "outputs": [],
   "source": []
  },
  {
   "cell_type": "code",
   "execution_count": null,
   "metadata": {},
   "outputs": [],
   "source": []
  },
  {
   "cell_type": "code",
   "execution_count": null,
   "metadata": {},
   "outputs": [],
   "source": []
  }
 ],
 "metadata": {
  "kernelspec": {
   "display_name": "Python 3",
   "language": "python",
   "name": "python3"
  },
  "language_info": {
   "codemirror_mode": {
    "name": "ipython",
    "version": 3
   },
   "file_extension": ".py",
   "mimetype": "text/x-python",
   "name": "python",
   "nbconvert_exporter": "python",
   "pygments_lexer": "ipython3",
   "version": "3.7.1"
  }
 },
 "nbformat": 4,
 "nbformat_minor": 2
}
