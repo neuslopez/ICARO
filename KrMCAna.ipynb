{
 "cells": [
  {
   "cell_type": "code",
   "execution_count": 1,
   "metadata": {
    "collapsed": false
   },
   "outputs": [],
   "source": [
    "from __future__ import print_function\n",
    "\n",
    "import sys\n",
    "import os\n",
    "from glob import glob\n",
    "from time import time\n",
    "%matplotlib inline\n",
    "#%load_ext autoreload\n",
    "#%autoreload 2\n",
    "import matplotlib.pyplot as plt\n",
    "import pandas as pd\n",
    "import tables as tb\n",
    "import numpy as np\n",
    "import math\n",
    "#plt.rcParams['figure.figsize'] = 10,8\n",
    "import datetime\n",
    "\n",
    "from   invisible_cities.database import load_db\n",
    "from   invisible_cities.core.system_of_units_c import SystemOfUnits\n",
    "import invisible_cities.sierpe.blr as blr\n",
    "import invisible_cities.core.mpl_functions as mpl\n",
    "import invisible_cities.reco.wfm_functions as wfm\n",
    "import invisible_cities.reco.tbl_functions as tbl\n",
    "import invisible_cities.core.peak_functions_c as cpf\n",
    "import invisible_cities.reco.pmaps_functions as pf\n",
    "import invisible_cities.core.sensor_functions as sf\n",
    "from   invisible_cities.core.core_functions import define_window\n",
    "\n",
    "import invisible_cities.core.pmaps_functions_c as cpm\n",
    "from   invisible_cities.core.core_functions import lrange\n",
    " \n",
    "units = SystemOfUnits()\n",
    "t0 = time()"
   ]
  },
  {
   "cell_type": "code",
   "execution_count": 2,
   "metadata": {
    "collapsed": true
   },
   "outputs": [],
   "source": [
    "import S1S2prop as prop\n",
    "import plotting as plot"
   ]
  },
  {
   "cell_type": "markdown",
   "metadata": {},
   "source": [
    "## Open 1 Krypton MC file"
   ]
  },
  {
   "cell_type": "code",
   "execution_count": 3,
   "metadata": {
    "collapsed": false
   },
   "outputs": [
    {
     "name": "stdout",
     "output_type": "stream",
     "text": [
      "/Users/neus/InvCities/data/pmaps_JM/Kr/pmaps_NEXT_v0_08_09_Kr_ACTIVE_1_0_7bar__10000.root.h5\n",
      "S1df entries (tbins x events): 51993\n",
      "S2df entries (tbins x events): 91086\n",
      "S2Sidf entries: 45115\n",
      "Keys of S1df panda dataframe: Index(['event', 'evtDaq', 'peak', 'time', 'ene'], dtype='object') \n",
      "Keys of S2df panda dataframe: Index(['event', 'evtDaq', 'peak', 'time', 'ene'], dtype='object') \n",
      "Keys of S2Sidf panda dataframe: Index(['event', 'evtDaq', 'peak', 'nsipm', 'nsample', 'ene'], dtype='object') \n",
      "First/last event ID (first item in sorted S1 dictionary): 0/9999\n",
      "First/last event ID (first item in sorted S2 dictionary): 0/9999\n",
      "Total number of events in S1 = 6980\n",
      "Total number of events in S2 = 9977\n"
     ]
    },
    {
     "data": {
      "text/plain": [
       "(6980, dict, 9977, dict)"
      ]
     },
     "execution_count": 3,
     "metadata": {},
     "output_type": "execute_result"
    }
   ],
   "source": [
    "#%%\n",
    "mydf_file = os.environ['IC_DATA']+'/pmaps_JM/Kr/pmaps_NEXT_v0_08_09_Kr_ACTIVE_1_0_7bar__10000.root.h5'\n",
    "print(mydf_file)\n",
    "\n",
    "mydf = pf.read_pmaps(mydf_file)\n",
    "#mydf\n",
    "list(map(type, mydf))\n",
    "S1df   = mydf[0]\n",
    "S2df   = mydf[1]\n",
    "S2Sidf = mydf[2]\n",
    "print('S1df entries (tbins x events):',len(S1df))\n",
    "print('S2df entries (tbins x events):',len(S2df))\n",
    "print('S2Sidf entries:',len(S2Sidf))\n",
    "type(S1df)\n",
    "print('Keys of S1df panda dataframe: {} '.format(S1df.keys()))\n",
    "print('Keys of S2df panda dataframe: {} '.format(S2df.keys()))\n",
    "print('Keys of S2Sidf panda dataframe: {} '.format(S2Sidf.keys()))\n",
    "\n",
    "# Convert S12df object  (an S12 pytable read as a PD dataframe) and return an S12L dictionary (list of dict, first dict)\n",
    "S1dict = pf.df_to_pmaps_dict(S1df,10000)\n",
    "S2dict = pf.df_to_pmaps_dict(S2df,10000)\n",
    "\n",
    "evid_S1min = sorted(S1dict.keys())[0]\n",
    "evid_S1max = sorted(S1dict.keys())[-1]\n",
    "evid_S2min = sorted(S2dict.keys())[0]\n",
    "evid_S2max = sorted(S2dict.keys())[-1]\n",
    "print('First/last event ID (first item in sorted S1 dictionary): {}/{}'.format(evid_S1min,evid_S1max))\n",
    "print('First/last event ID (first item in sorted S2 dictionary): {}/{}'.format(evid_S2min,evid_S2max))\n",
    "print('Total number of events in S1 = {}'.format(len(S1dict)))\n",
    "print('Total number of events in S2 = {}'.format(len(S2dict)))\n",
    "len(S1dict), type(S1dict), len(S2dict), type(S2dict)\n"
   ]
  },
  {
   "cell_type": "code",
   "execution_count": 4,
   "metadata": {
    "collapsed": false
   },
   "outputs": [],
   "source": [
    "length = len(S1dict)\n",
    "lemax = []\n",
    "emax       = np.zeros(length, dtype=np.double)\n",
    "for eventID, EVENTS in S1dict.items():  # loop over dic of events\n",
    "    for peakID, (ts,Es) in EVENTS.items():\n",
    "        if(peakID ==1): break\n",
    "        lemax.append(np.sum(Es))\n",
    "\n",
    "emax = np.array(lemax)"
   ]
  },
  {
   "cell_type": "code",
   "execution_count": null,
   "metadata": {
    "collapsed": true
   },
   "outputs": [],
   "source": []
  },
  {
   "cell_type": "code",
   "execution_count": 5,
   "metadata": {
    "collapsed": true
   },
   "outputs": [],
   "source": [
    "class S12Prop_new:\n",
    "    \"\"\"\n",
    "    input: S1L\n",
    "    returns a S1F object for specific peak\n",
    "    \"\"\"        \n",
    "    \n",
    "    def __init__(self, S12dict):\n",
    "        self.S12dict = S12dict\n",
    "        self.length  = len(self.S12dict)\n",
    "        self.prop()\n",
    "\n",
    "    def _dict(self):\n",
    "            return self.S12dict\n",
    "\n",
    "#    def length(self):\n",
    "#        return len(self.S12dict)\n",
    "\n",
    "#test len arrays is == length\n",
    "\n",
    "\n",
    "    def prop(self):\n",
    "        self.IDX        = np.zeros(self.length, dtype=np.int) # array index for emax\n",
    "        self.tIDX       = np.zeros(self.length, dtype=np.double) # time value for IDX\n",
    "        self.tmin       = np.zeros(self.length, dtype=np.double) # minimum t value\n",
    "        self.tmax       = np.zeros(self.length, dtype=np.double) # maximum t value\n",
    "        self.width      = np.zeros(self.length, dtype=np.double) # t width of signal (mus) \n",
    "        self.tmean      = np.zeros(self.length, dtype=np.double) # mean time\n",
    "        self.emin       = np.zeros(self.length, dtype=np.double) # min energy the S1/S2 pulse\n",
    "        self.emax       = np.zeros(self.length, dtype=np.double) # max energy the S1/S2 pulse\n",
    "        self.etot       = np.zeros(self.length, dtype=np.double) # total energy\n",
    "        self.emean      = np.zeros(self.length, dtype=np.double) # total energy\n",
    "        \n",
    "\n",
    "        # lists to be filled in the loop. Lists name added 'l': lVARIABLE\n",
    "        lIDX     = []\n",
    "        ltIDX    = []\n",
    "        lemax    = []\n",
    "        ltmin    = []\n",
    "        ltmax    = []\n",
    "        ltmean   = []\n",
    "        lwidth   = []\n",
    "        lemin    = []\n",
    "        lemax    = []\n",
    "        letot    = []\n",
    "        lemean   = []\n",
    "\n",
    "        # 1st loop over dic of events\n",
    "        # 2nd loop over dic of peaks,(ts,Es)=namedTuple (can also be accessed via value.t, value.E)\n",
    "        for eventID, EVENTS in self.S12dict.items():  \n",
    "            for peakID, (ts, Es) in EVENTS.items():  \n",
    "                if(eventID     == 9999): break  #------> PATCH\n",
    "                if(peakID        == 1):   break  #------> select one peak \n",
    "\n",
    "                lIDX       .append(np.argmax (Es))\n",
    "                ltIDX      .append(ts[lIDX[-1]]                / units.mus) # use last value of lIDX: [-1]\n",
    "                ltmin      .append(np.amin(ts))\n",
    "                ltmax      .append(np.amax(ts))\n",
    "                lwidth     .append((np.amax(ts) - np.amin(ts)) / units.mus)\n",
    "                ltmean     .append(np.mean  (ts)               / units.mus)\n",
    "                lemin      .append(np.amin  (Es))\n",
    "                lemax      .append(np.amax  (Es))\n",
    "                letot      .append(np.sum   (Es)) \n",
    "                lemean     .append(np.mean  (Es))\n",
    "                \n",
    "                \n",
    "        # convert lists to numpy arrays\n",
    "        self.IDX      = np.array(lIDX)  \n",
    "        self.tIDX     = np.array(ltIDX)\n",
    "        self.tmin     = np.array(ltmin)\n",
    "        self.tmax     = np.array(ltmax)\n",
    "        self.width    = np.array(lwidth)\n",
    "        self.tmean    = np.array(ltmean)\n",
    "        self.emax     = np.array(lemax)\n",
    "        self.emin     = np.array(lemin) \n",
    "        self.etot     = np.array(letot)\n",
    "        self.emean    = np.array(lemean)\n",
    "\n",
    "         \n",
    "    def S1S2mapd(self, other):\n",
    "        filt_dict = lambda x, y: dict([ (i , x[i] ) for i in x if i in set(y) ])\n",
    "      \n",
    "        keys_S1 = set(self.S12d.keys())\n",
    "        keys_S2 = set(other.S12d.keys())\n",
    "        intsect = keys_S1 & keys_S2\n",
    "\n",
    "        S1map = filt_dict(self.S12d,intsect)\n",
    "        S2map = filt_dict(other.S12d,intsect)\n",
    "        return S12Prop(S1map), S12Prop(S2map)\n",
    "        "
   ]
  },
  {
   "cell_type": "code",
   "execution_count": 6,
   "metadata": {
    "collapsed": false
   },
   "outputs": [],
   "source": [
    "S1_new = S12Prop_new(S1dict)"
   ]
  },
  {
   "cell_type": "markdown",
   "metadata": {},
   "source": [
    "### Get all S1 and S2 in file:  "
   ]
  },
  {
   "cell_type": "code",
   "execution_count": 7,
   "metadata": {
    "collapsed": false
   },
   "outputs": [
    {
     "data": {
      "text/plain": [
       "False"
      ]
     },
     "execution_count": 7,
     "metadata": {},
     "output_type": "execute_result"
    }
   ],
   "source": [
    "S1 = prop.S12Prop(S1dict)\n",
    "S2 = prop.S12Prop(S2dict)\n",
    "\n",
    "type(S1)\n",
    "S2.length, S1.length\n",
    "S1.dict().keys() == S2.dict().keys()"
   ]
  },
  {
   "cell_type": "code",
   "execution_count": 8,
   "metadata": {
    "collapsed": false
   },
   "outputs": [
    {
     "ename": "AttributeError",
     "evalue": "'S12Prop' object has no attribute '_dict'",
     "output_type": "error",
     "traceback": [
      "\u001b[0;31m---------------------------------------------------------------------------\u001b[0m",
      "\u001b[0;31mAttributeError\u001b[0m                            Traceback (most recent call last)",
      "\u001b[0;32m<ipython-input-8-ca6a0b29a4a6>\u001b[0m in \u001b[0;36m<module>\u001b[0;34m()\u001b[0m\n\u001b[0;32m----> 1\u001b[0;31m \u001b[0mS1\u001b[0m\u001b[0;34m.\u001b[0m\u001b[0m_dict\u001b[0m\u001b[0;34m(\u001b[0m\u001b[0;34m)\u001b[0m\u001b[0;34m.\u001b[0m\u001b[0mkeys\u001b[0m\u001b[0;34m(\u001b[0m\u001b[0;34m)\u001b[0m \u001b[0;34m==\u001b[0m \u001b[0mS1_new\u001b[0m\u001b[0;34m.\u001b[0m\u001b[0m_dict\u001b[0m\u001b[0;34m(\u001b[0m\u001b[0;34m)\u001b[0m\u001b[0;34m.\u001b[0m\u001b[0mkeys\u001b[0m\u001b[0;34m(\u001b[0m\u001b[0;34m)\u001b[0m\u001b[0;34m\u001b[0m\u001b[0m\n\u001b[0m",
      "\u001b[0;31mAttributeError\u001b[0m: 'S12Prop' object has no attribute '_dict'"
     ]
    }
   ],
   "source": [
    "S1._dict().keys() == S1_new._dict().keys()"
   ]
  },
  {
   "cell_type": "code",
   "execution_count": null,
   "metadata": {
    "collapsed": false
   },
   "outputs": [],
   "source": [
    "np.array_equal(S1_new.tIDX, np.array(S1.S12Sigt_))"
   ]
  },
  {
   "cell_type": "code",
   "execution_count": null,
   "metadata": {
    "collapsed": false
   },
   "outputs": [],
   "source": [
    "np.array_equal(S1_new.width, np.array(S1.wS12_))"
   ]
  },
  {
   "cell_type": "code",
   "execution_count": null,
   "metadata": {
    "collapsed": true
   },
   "outputs": [],
   "source": []
  },
  {
   "cell_type": "code",
   "execution_count": null,
   "metadata": {
    "collapsed": true
   },
   "outputs": [],
   "source": []
  },
  {
   "cell_type": "code",
   "execution_count": null,
   "metadata": {
    "collapsed": true
   },
   "outputs": [],
   "source": []
  },
  {
   "cell_type": "markdown",
   "metadata": {},
   "source": [
    "### Get S1/S2 for events containing 1S1 & 1S2:"
   ]
  },
  {
   "cell_type": "code",
   "execution_count": null,
   "metadata": {
    "collapsed": false
   },
   "outputs": [],
   "source": [
    "S1map = S1.S1S2mapd(S2)[0]\n",
    "S2map = S1.S1S2mapd(S2)[1]\n",
    "S1map._dict().keys() == S2map._dict().keys()"
   ]
  },
  {
   "cell_type": "code",
   "execution_count": null,
   "metadata": {
    "collapsed": false
   },
   "outputs": [],
   "source": [
    "len(S1map.wS12_)"
   ]
  },
  {
   "cell_type": "markdown",
   "metadata": {},
   "source": [
    "### S1 features for \"all\" S1 (\"all\" = no mapping with S2)"
   ]
  },
  {
   "cell_type": "code",
   "execution_count": null,
   "metadata": {
    "collapsed": true
   },
   "outputs": [],
   "source": [
    "def multh2(x, nbins, color=\"red\", title=\"\", xlabel=\"\", ylabel=\"Entries\"):\n",
    "    mycolor = color\n",
    "#    plt.hist(x, nbins, color = mycolor, histtype=\"step\", alpha=0.75)\n",
    "    #plt.figure(figsize=(7, 5), dpi=100)\n",
    "\n",
    "    ## no estamos cogiendo xmin y xmax\n",
    "    plt.hist(x, nbins, color = mycolor, histtype=\"bar\", alpha=0.75)\n",
    "    plt.title(title)\n",
    "    plt.xlabel(xlabel)\n",
    "    plt.ylabel(ylabel)\n",
    "    \n",
    "    ax = plt.axes()\n",
    "    ax.tick_params(which='both', direction='in')\n",
    "    ax.xaxis.set_minor_locator(AutoMinorLocator())\n",
    "    ax.yaxis.set_minor_locator(AutoMinorLocator())\n",
    "    # add ticks in opposite axis\n",
    "    ax.xaxis.set_ticks_position('both')\n",
    "    ax.yaxis.set_ticks_position('both')\n",
    "    # set labels in corners\n",
    "    ax.xaxis.set_label_coords(0.9, -0.10)\n",
    "    ax.yaxis.set_label_coords(-0.1, 0.95)\n",
    "    \n",
    "    #axes.xaxis.set_label_coords(0.95, -0.10)\n",
    "    #axes.yaxis.set_label_coords(-0.1, 0.95)\n",
    "    return plt"
   ]
  },
  {
   "cell_type": "code",
   "execution_count": null,
   "metadata": {
    "collapsed": false,
    "scrolled": true
   },
   "outputs": [],
   "source": [
    "fig = plt.subplots(nrows = 1, ncols=2, figsize=(15, 10))\n",
    "plt.rc('font', weight='bold')\n",
    "plt.subplot(221)   \n",
    "prop.multh(S1.idxt_,    14,  color= \"red\",title= \"\", xlabel =\"index array for highest phe \", ylabel= \"Entries\")\n",
    "plt.subplot(222)   \n",
    "prop.multh(S1.S12SigE_, 100, color= \"red\",title= \"\", xlabel =\"highest phe value in peak\", ylabel= \"Entries\")\n",
    "plt.subplot(223)   \n",
    "prop.multh(S1.S12Sigt_, 50, color= \"red\",title= \"\", xlabel =\"time in mus for idxt_ (mus)\", ylabel= \"Entries\")\n",
    "plt.subplot(224)   \n",
    "prop.multh(S1.wS12_,    10 , color= \"red\",title= \"\", xlabel =\"width of signal (mus)\", ylabel= \"Entries\")\n",
    "plt.show()\n"
   ]
  },
  {
   "cell_type": "code",
   "execution_count": null,
   "metadata": {
    "collapsed": false
   },
   "outputs": [],
   "source": [
    "fig = plt.subplots(nrows = 1, ncols=2, figsize=(15, 10))\n",
    "plt.subplot(221)   \n",
    "prop.multh(S1.tmean_, 50, color= \"red\",title= \"\", xlabel =\"mean time (mus)\", ylabel= \"Entries\")\n",
    "plt.subplot(222)   \n",
    "prop.multh(S1.E_,   100 , color= \"red\",title= \"\", xlabel =\"total energy (phe)\", ylabel= \"Entries\")\n",
    "plt.show()"
   ]
  },
  {
   "cell_type": "markdown",
   "metadata": {},
   "source": [
    "### Obtain drift length:"
   ]
  },
  {
   "cell_type": "code",
   "execution_count": null,
   "metadata": {
    "collapsed": false
   },
   "outputs": [],
   "source": [
    "S1t = np.array(S1map.S12Sigt_)\n",
    "S2t = np.array(S2map.S12Sigt_)\n",
    "z = np.subtract(S2t,S1t)\n",
    "len(S1t), len(S2t)"
   ]
  },
  {
   "cell_type": "markdown",
   "metadata": {},
   "source": [
    "### S2 features for \"all\" S1 (\"all\" = no mapping with S1)"
   ]
  },
  {
   "cell_type": "code",
   "execution_count": null,
   "metadata": {
    "collapsed": false
   },
   "outputs": [],
   "source": [
    "fig = plt.subplots(nrows = 1, ncols=2, figsize=(15, 10))\n",
    "plt.rc('font', weight='bold')\n",
    "plt.subplot(221)   \n",
    "prop.multh(S2.idxt_,    14,  color= \"green\",title= \"\", xlabel =\"index array for highest phe \", ylabel= \"Entries\")\n",
    "plt.subplot(222)   \n",
    "prop.multh(S2.S12SigE_, 100, color= \"green\",title= \"\", xlabel =\"highest phe value in peak\", ylabel= \"Entries\")\n",
    "plt.subplot(223)   \n",
    "prop.multh(S2.S12Sigt_, 50, color= \"green\",title= \"\", xlabel =\"time in mus for idxt_ (mus)\", ylabel= \"Entries\")\n",
    "plt.subplot(224)   \n",
    "prop.multh(S2.wS12_,    20 , color= \"green\",title= \"\", xlabel =\"width of signal (mus)\", ylabel= \"Entries\")\n",
    "plt.show()\n",
    "\n"
   ]
  },
  {
   "cell_type": "code",
   "execution_count": null,
   "metadata": {
    "collapsed": false
   },
   "outputs": [],
   "source": [
    "fig = plt.subplots(nrows = 1, ncols=2, figsize=(15, 10))\n",
    "plt.subplot(221)   \n",
    "prop.multh(S2.tmean_, 50, color= \"green\",title= \"\", xlabel =\"mean time (mus)\", ylabel= \"Entries\")\n",
    "plt.subplot(222)   \n",
    "prop.multh(S2.E_,   100 , color= \"green\",title= \"\", xlabel =\"total energy (phe)\", ylabel= \"Entries\")\n",
    "plt.show()"
   ]
  },
  {
   "cell_type": "markdown",
   "metadata": {},
   "source": [
    "### Analyze events with S1&S2: (to do: plot it above)"
   ]
  },
  {
   "cell_type": "markdown",
   "metadata": {},
   "source": [
    "### Obtain drift length:"
   ]
  },
  {
   "cell_type": "code",
   "execution_count": null,
   "metadata": {
    "collapsed": false
   },
   "outputs": [],
   "source": [
    "S1t = np.array(S1map.S12Sigt_)\n",
    "S2t = np.array(S2map.S12Sigt_)\n",
    "z = np.subtract(S2t,S1t)\n",
    "len(S1t), len(S2t)"
   ]
  },
  {
   "cell_type": "code",
   "execution_count": null,
   "metadata": {
    "collapsed": false,
    "scrolled": true
   },
   "outputs": [],
   "source": [
    "fig, ax = plt.subplots(nrows = 1, ncols=2, figsize=(15, 10))\n",
    "plt.subplot(221)   \n",
    "plt.hist(z,100,color='black',alpha=0.5)\n",
    "plt.subplot(222)   \n",
    "plt.scatter(z,S1map.wS12_)\n",
    "plt.subplot(223) \n",
    "plt.scatter(z,S2map.wS12_)\n",
    "plt.subplot(224) \n",
    "plt.scatter(S1map.wS12_,S2map.wS12_)\n",
    "plt.show()"
   ]
  },
  {
   "cell_type": "code",
   "execution_count": null,
   "metadata": {
    "collapsed": false
   },
   "outputs": [],
   "source": [
    "fig, ax = plt.subplots(nrows = 1, ncols=2, figsize=(15, 10))\n",
    "plt.subplot(221)   \n",
    "plt.hist(z,100,color='black',alpha=0.5)\n",
    "plt.subplot(222)   \n",
    "plt.scatter(z,S1map.wS12_)\n",
    "plt.subplot(223) \n",
    "plt.scatter(z,S2map.wS12_)\n",
    "plt.subplot(224) \n",
    "plt.scatter(S1map.wS12_,S2map.wS12_)\n",
    "plt.show()"
   ]
  },
  {
   "cell_type": "markdown",
   "metadata": {},
   "source": [
    "### Save a nice plot"
   ]
  },
  {
   "cell_type": "code",
   "execution_count": null,
   "metadata": {
    "collapsed": false,
    "scrolled": true
   },
   "outputs": [],
   "source": [
    "from matplotlib.ticker import AutoMinorLocator, MultipleLocator\n",
    "\n",
    "#fig = plt.subplots(nrows = 1, ncols=2, figsize=(15, 10))\n",
    "h1 = prop.h1(S2map.wS12_, 10 , color=\"black\",title=\"\", xlabel =\"x (cm)\", ylabel = \"Events\")\n",
    "h1.show()\n",
    "#h2 = prop.h1(_S2map.wS12_, 10 ,0., 0.4, color=\"green\",title=\"\", xlabel =\"x (cm)\", ylabel = \"Events\")\n",
    "#h2.show()\n",
    "#h1.savefig(\"h2\")\n",
    "#h2.savefig(\"h2\")"
   ]
  },
  {
   "cell_type": "code",
   "execution_count": null,
   "metadata": {
    "collapsed": false
   },
   "outputs": [],
   "source": [
    "from matplotlib.ticker import AutoMinorLocator, MultipleLocator\n",
    "import S1S2prop as prop"
   ]
  },
  {
   "cell_type": "code",
   "execution_count": null,
   "metadata": {
    "collapsed": false
   },
   "outputs": [],
   "source": [
    "#h1 = prop.new_h12(S2map.wS12_, 10 , color=\"black\",title=\"\", xlabel =\"x (cm)\", ylabel = \"Events\")\n",
    "#h1.show()"
   ]
  },
  {
   "cell_type": "code",
   "execution_count": null,
   "metadata": {
    "collapsed": true
   },
   "outputs": [],
   "source": [
    "def multh(x, nbins, color=\"red\", title=\"\", xlabel=\"\", ylabel=\"Entries\"):\n",
    "    mycolor = color\n",
    "#    plt.hist(x, nbins, color = mycolor, histtype=\"step\", alpha=0.75)\n",
    "    #plt.figure(figsize=(7, 5), dpi=100)\n",
    "\n",
    "    ## no estamos cogiendo xmin y xmax\n",
    "    plt.hist(x, nbins, color = mycolor, histtype=\"bar\", alpha=0.75)\n",
    "    plt.title(title)\n",
    "    plt.xlabel(xlabel)\n",
    "    plt.ylabel(ylabel)\n",
    "    \n",
    "    ax = plt.axes()\n",
    "    ax.tick_params(which='both', direction='in')\n",
    "    ax.xaxis.set_minor_locator(AutoMinorLocator())\n",
    "    ax.yaxis.set_minor_locator(AutoMinorLocator())\n",
    "    # add ticks in opposite axis\n",
    "    ax.xaxis.set_ticks_position('both')\n",
    "    ax.yaxis.set_ticks_position('both')\n",
    "    # set labels in corners\n",
    "    ax.xaxis.set_label_coords(0.9, -0.10)\n",
    "    ax.yaxis.set_label_coords(-0.1, 0.95)\n",
    "    \n",
    "    #axes.xaxis.set_label_coords(0.95, -0.10)\n",
    "    #axes.yaxis.set_label_coords(-0.1, 0.95)\n",
    "    return plt\n"
   ]
  },
  {
   "cell_type": "code",
   "execution_count": null,
   "metadata": {
    "collapsed": true
   },
   "outputs": [],
   "source": [
    "from matplotlib.ticker import AutoMinorLocator, MultipleLocator, FormatStrFormatter\n",
    "\n",
    "    #           10    2      20     \n",
    "def new_h12(x, nbins, xmin, xmax, color=\"red\", title=\"\", xlabel=\"\", ylabel=\"Entries\",\n",
    "       legend=\"hi\"):\n",
    "    mycolor = color\n",
    "##    plt.hist(x, nbins, color = mycolor, histtype=\"step\", alpha=0.75)\n",
    "  #  plt.figure(figsize=(7, 5), dpi=100) \n",
    "    plt.hist(x, nbins, color = mycolor, histtype=\"bar\", alpha=0.75)\n",
    "    plt.title(title)\n",
    "    plt.xlabel(xlabel)\n",
    "    plt.ylabel(ylabel)\n",
    "\n",
    "    # set axis range\n",
    "    #plt.xlim([xmin,xmax])\n",
    "    \n",
    "    majorLocator = MultipleLocator(2)  # x * 2 , subdivisió entre numeros visibles, cuants ticks entre els dos consecutius.\n",
    "    majorFormatter = FormatStrFormatter('%d')\n",
    "    minorLocator = MultipleLocator(0.5)  # x value for small ticks\n",
    "\n",
    "    ax = plt.axes()\n",
    "    #ax.set_yscale('log')\n",
    "    \n",
    "    #ax.xaxis.set_major_locator(majorLocator)\n",
    "    ax.xaxis.set_major_formatter(majorFormatter)\n",
    "\n",
    "    \n",
    "    ## for the minor ticks, use no labels; default NullFormatter\n",
    "    # ax.xaxis.set_minor_locator(minorLocator)\n",
    "    ax.tick_params(which='both', direction='in')\n",
    "    ###plt.rc('font', weight='bold')\n",
    "    ax.xaxis.set_minor_locator(AutoMinorLocator())\n",
    "    ax.yaxis.set_minor_locator(AutoMinorLocator())\n",
    "   \n",
    "    ax.xaxis.set_label_coords(0.9, -0.10)\n",
    "    ax.yaxis.set_label_coords(-0.1, 0.95)\n",
    "\n",
    "    # add ticks in opposite axis\n",
    "    ax.xaxis.set_ticks_position('both')\n",
    "    ax.yaxis.set_ticks_position('both')\n",
    "    \n",
    "    \n",
    "   # plt.legend(legend)\n",
    "    return plt\n"
   ]
  },
  {
   "cell_type": "code",
   "execution_count": null,
   "metadata": {
    "collapsed": false
   },
   "outputs": [],
   "source": [
    "h1 = new_h12(S2map.wS12_, 50, 2, 20, color=\"black\",title=\"\", xlabel =\"x (cm)\", ylabel = \"Events\")\n",
    "ax = h1.axes()\n",
    "ax.set_yscale('log')\n",
    "h1.show()"
   ]
  },
  {
   "cell_type": "code",
   "execution_count": null,
   "metadata": {
    "collapsed": false
   },
   "outputs": [],
   "source": [
    "fig = plt.figure(figsize = (10,7))\n",
    "h2 = multh(S2map.wS12_, 20,  color=\"black\",title=\"\", xlabel =\"x (cm)\", ylabel = \"Events\")\n",
    "ax = h2.axes()\n",
    "#ax.set_yscale('log')\n",
    "h2.show()\n"
   ]
  },
  {
   "cell_type": "code",
   "execution_count": null,
   "metadata": {
    "collapsed": false
   },
   "outputs": [],
   "source": [
    "min(S2map.E_)"
   ]
  },
  {
   "cell_type": "code",
   "execution_count": null,
   "metadata": {
    "collapsed": false
   },
   "outputs": [],
   "source": [
    "max(S2map.E_)"
   ]
  },
  {
   "cell_type": "code",
   "execution_count": null,
   "metadata": {
    "collapsed": false
   },
   "outputs": [],
   "source": [
    "fig = plt.subplots(nrows = 1, ncols=2, figsize=(15, 10))\n",
    "plt.rc('font', weight='bold')\n",
    "plt.subplot(221)   \n",
    "prop.multh(S2.idxt_,    14,  color= \"green\",title= \"\", xlabel =\"index array for highest phe \", ylabel= \"Entries\")\n",
    "plt.subplot(222)   \n",
    "prop.multh(S2.S12SigE_, 100, color= \"red\",title= \"\", xlabel =\"highest phe value in peak\", ylabel= \"Entries\")\n",
    "plt.subplot(223)   \n",
    "prop.multh(S2.S12Sigt_, 50, color= \"green\",title= \"\", xlabel =\"time in mus for idxt_ (mus)\", ylabel= \"Entries\")\n",
    "plt.subplot(224)   \n",
    "prop.multh(S2.wS12_,    20 , color= \"green\",title= \"\", xlabel =\"width of signal (mus)\", ylabel= \"Entries\")\n",
    "plt.show()"
   ]
  },
  {
   "cell_type": "code",
   "execution_count": null,
   "metadata": {
    "collapsed": true
   },
   "outputs": [],
   "source": [
    "from matplotlib.ticker import AutoMinorLocator, MultipleLocator, FormatStrFormatter\n",
    "\n",
    "    #           10    2      20     \n",
    "def new_h12(x, nbins, xmin, xmax, ax = None, color=\"red\", title=\"\", xlabel=\"\", ylabel=\"Entries\",\n",
    "       legend=\"hi\"):\n",
    "    \n",
    "    \n",
    "    if ax is None:\n",
    "        fig, ax = plt.subplots()\n",
    "        \n",
    "    mycolor = color\n",
    "##    plt.hist(x, nbins, color = mycolor, histtype=\"step\", alpha=0.75)\n",
    "  #  plt.figure(figsize=(7, 5), dpi=100) \n",
    "    plt.hist(x, nbins, color = mycolor, histtype=\"bar\", alpha=0.75)\n",
    "    plt.title(title)\n",
    "    plt.xlabel(xlabel)\n",
    "    plt.ylabel(ylabel)\n",
    "\n",
    "    # set axis range\n",
    "    #plt.xlim([xmin,xmax])\n",
    "    \n",
    "    majorLocator = MultipleLocator(2)  # x * 2 , subdivisió entre numeros visibles, cuants ticks entre els dos consecutius.\n",
    "    majorFormatter = FormatStrFormatter('%d')\n",
    "    minorLocator = MultipleLocator(0.5)  # x value for small ticks\n",
    "\n",
    "    #ax = plt.axes()\n",
    "    #ax.set_yscale('log')\n",
    "    \n",
    "    #ax.xaxis.set_major_locator(majorLocator)\n",
    "    ax.xaxis.set_major_formatter(majorFormatter)\n",
    "\n",
    "    \n",
    "    ## for the minor ticks, use no labels; default NullFormatter\n",
    "    # ax.xaxis.set_minor_locator(minorLocator)\n",
    "    ax.tick_params(which='both', direction='in')\n",
    "    ###plt.rc('font', weight='bold')\n",
    "    ax.xaxis.set_minor_locator(AutoMinorLocator())\n",
    "    ax.yaxis.set_minor_locator(AutoMinorLocator())\n",
    "   \n",
    "    ax.xaxis.set_label_coords(0.9, -0.10)\n",
    "    ax.yaxis.set_label_coords(-0.1, 0.95)\n",
    "\n",
    "    # add ticks in opposite axis\n",
    "    ax.xaxis.set_ticks_position('both')\n",
    "    ax.yaxis.set_ticks_position('both')\n",
    "    \n",
    "    \n",
    "   # plt.legend(legend)\n",
    "    #return plt\n",
    "\n"
   ]
  },
  {
   "cell_type": "code",
   "execution_count": null,
   "metadata": {
    "collapsed": false
   },
   "outputs": [],
   "source": [
    "#fig = plt.subplots(nrows = 1, ncols=2, figsize=(15, 10))\n",
    "#plt.rc('font', weight='bold')\n",
    "\n",
    "fig = plt.figure(figsize = (19,10))\n",
    "ax1 = fig.add_subplot(2,3,1)\n",
    "new_h12(S2map.wS12_, 50, 2, 20, ax1, color=\"black\",title=\"\", xlabel =\"x (cm)\", ylabel = \"Events\")\n",
    "ax1.set_yscale('log')\n",
    "ax2 = fig.add_subplot(2,3,2)\n",
    "new_h12(S2map.wS12_, 50, 2, 20, ax2, color=\"blue\",title=\"\", xlabel =\"x (cm)\", ylabel = \"Events\")\n",
    "ax3 = fig.add_subplot(2,3,3)\n",
    "new_h12(S2map.wS12_, 50, 2, 20, ax3, color=\"green\",title=\"\", xlabel =\"x (cm)\", ylabel = \"Events\")\n",
    "ax4 = fig.add_subplot(2,3,4)\n",
    "new_h12(S2map.wS12_, 50, 2, 20, ax4, color=\"green\",title=\"\", xlabel =\"x (cm)\", ylabel = \"Events\")\n",
    "ax5 = fig.add_subplot(2,3,6)\n",
    "new_h12(S2map.wS12_, 50, 2, 20, ax5, color=\"yellow\",title=\"\", xlabel =\"x (cm)\", ylabel = \"Events\")\n",
    "\n"
   ]
  },
  {
   "cell_type": "code",
   "execution_count": null,
   "metadata": {
    "collapsed": false
   },
   "outputs": [],
   "source": [
    "#fig = plt.subplots(nrows = 1, ncols=2, figsize=(15, 10))\n",
    "#plt.rc('font', weight='bold')\n",
    "\n",
    "fig = plt.figure(figsize = (25,20))\n",
    "ax1 = fig.add_subplot(3,3,1)\n",
    "new_h12(S2map.wS12_, 50, 2, 20, ax1, color=\"black\",title=\"\", xlabel =\"x (cm)\", ylabel = \"Events\")\n",
    "ax1.set_yscale('log')\n",
    "ax2 = fig.add_subplot(3,3,2)\n",
    "new_h12(S2map.wS12_, 50, 2, 20, ax2, color=\"blue\",title=\"\", xlabel =\"x (cm)\", ylabel = \"Events\")\n",
    "ax3 = fig.add_subplot(3,3,3)\n",
    "new_h12(S2map.wS12_, 50, 2, 20, ax3, color=\"green\",title=\"\", xlabel =\"x (cm)\", ylabel = \"Events\")\n",
    "ax4 = fig.add_subplot(3,3,4)\n",
    "new_h12(S2map.wS12_, 50, 2, 20, ax4, color=\"green\",title=\"\", xlabel =\"x (cm)\", ylabel = \"Events\")\n",
    "\n",
    "ax5 = fig.add_subplot(3,3,9)\n",
    "new_h12(S2map.wS12_, 50, 2, 20, ax5, color=\"yellow\",title=\"\", xlabel =\"x (cm)\", ylabel = \"Events\")\n"
   ]
  },
  {
   "cell_type": "code",
   "execution_count": null,
   "metadata": {
    "collapsed": true
   },
   "outputs": [],
   "source": [
    "fig = plt.figure(figsize = (15,8))\n",
    "ax1 = fig.add_subplot(1,2,1, projection = '3d')\n",
    "custom_plot1(ax1)\n",
    "ax2 = fig.add_subplot(1,2,2)\n",
    "custom_plot2(ax2)"
   ]
  },
  {
   "cell_type": "code",
   "execution_count": null,
   "metadata": {
    "collapsed": true
   },
   "outputs": [],
   "source": []
  },
  {
   "cell_type": "code",
   "execution_count": null,
   "metadata": {
    "collapsed": false,
    "scrolled": true
   },
   "outputs": [],
   "source": [
    "h1 = new_h12(S2map.wS12_, 50, 2, 20, color=\"black\",title=\"\", xlabel =\"x (cm)\", ylabel = \"Events\")\n",
    "ax = h1.axes()\n",
    "ax.set_yscale('log')\n",
    "h1.show()"
   ]
  },
  {
   "cell_type": "code",
   "execution_count": null,
   "metadata": {
    "collapsed": true
   },
   "outputs": [],
   "source": []
  }
 ],
 "metadata": {
  "kernelspec": {
   "display_name": "Python 3",
   "language": "python",
   "name": "python3"
  },
  "language_info": {
   "codemirror_mode": {
    "name": "ipython",
    "version": 3
   },
   "file_extension": ".py",
   "mimetype": "text/x-python",
   "name": "python",
   "nbconvert_exporter": "python",
   "pygments_lexer": "ipython3",
   "version": "3.5.2"
  }
 },
 "nbformat": 4,
 "nbformat_minor": 2
}
