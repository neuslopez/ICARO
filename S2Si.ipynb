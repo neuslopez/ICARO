{
 "cells": [
  {
   "cell_type": "code",
   "execution_count": 1,
   "metadata": {
    "collapsed": true
   },
   "outputs": [],
   "source": [
    "from __future__ import print_function\n",
    "\n",
    "import sys\n",
    "import os\n",
    "from glob import glob\n",
    "from time import time\n",
    "%matplotlib inline\n",
    "#%load_ext autoreload\n",
    "#%autoreload 2\n",
    "import matplotlib.pyplot as plt\n",
    "import pandas as pd\n",
    "import tables as tb\n",
    "import numpy as np\n",
    "import math\n",
    "#plt.rcParams['figure.figsize'] = 10,8\n",
    "import datetime\n",
    "\n",
    "from   invisible_cities.database import load_db\n",
    "from   invisible_cities.core.system_of_units_c import SystemOfUnits\n",
    "import invisible_cities.sierpe.blr as blr\n",
    "import invisible_cities.core.mpl_functions as mpl\n",
    "import invisible_cities.reco.wfm_functions as wfm\n",
    "import invisible_cities.reco.tbl_functions as tbl\n",
    "import invisible_cities.core.peak_functions_c as cpf\n",
    "import invisible_cities.reco.pmaps_functions as pf\n",
    "import invisible_cities.core.sensor_functions as sf\n",
    "from   invisible_cities.core.core_functions import define_window\n",
    "\n",
    "import invisible_cities.core.pmaps_functions_c as cpm\n",
    "from   invisible_cities.core.core_functions import lrange\n",
    " \n",
    "units = SystemOfUnits()\n",
    "t0 = time()"
   ]
  },
  {
   "cell_type": "code",
   "execution_count": 2,
   "metadata": {
    "collapsed": false
   },
   "outputs": [],
   "source": [
    "#import S1S2prop as prop\n",
    "#import plotting as plot"
   ]
  },
  {
   "cell_type": "code",
   "execution_count": 3,
   "metadata": {
    "collapsed": false
   },
   "outputs": [
    {
     "name": "stdout",
     "output_type": "stream",
     "text": [
      "/Users/neus/InvCities/data/pmaps_JM_NEW/Kr/dst_NEXT_v0_08_09_Kr_ACTIVE_0_0_7bar_pmaps_10000.root.h5\n",
      "S1df entries (tbins x events): 62893\n",
      "S2df entries (tbins x events): 90708\n",
      "S2Sidf entries: 409626\n",
      "Keys of S1df panda dataframe: Index(['event', 'peak', 'time', 'ene'], dtype='object') \n",
      "Keys of S2df panda dataframe: Index(['event', 'peak', 'time', 'ene'], dtype='object') \n",
      "Keys of S2Sidf panda dataframe: Index(['event', 'peak', 'nsipm', 'ene'], dtype='object') \n",
      "First/last event ID (first item in sorted S1 dictionary):   0/9998\n",
      "First/last event ID (first item in sorted S2 dictionary):   0/9998\n",
      "First/last event ID (first item in sorted S2Si dictionary): 0/9998\n",
      "Total number of events in S1   = 9420\n",
      "Total number of events in S2   = 9984\n",
      "Total number of events in S2Si = 9982\n"
     ]
    },
    {
     "data": {
      "text/plain": [
       "(9420,\n",
       " invisible_cities.reco.pmap_io.S12,\n",
       " 9984,\n",
       " invisible_cities.reco.pmap_io.S12,\n",
       " 9982,\n",
       " invisible_cities.reco.pmap_io.S2Si)"
      ]
     },
     "execution_count": 3,
     "metadata": {},
     "output_type": "execute_result"
    }
   ],
   "source": [
    "#%%\n",
    "mydf_file = os.environ['IC_DATA']+'/pmaps_JM_NEW/Kr/dst_NEXT_v0_08_09_Kr_ACTIVE_0_0_7bar_pmaps_10000.root.h5'\n",
    "#mydf_file = os.environ['IC_DATA']+'/pmaps_JM/Kr/pmaps_NEXT_v0_08_09_Kr_ACTIVE_1_0_7bar__10000.root.h5'\n",
    "#mydf_file = os.environ['IC_DATA']+'/pmaps_JM_NEW/Kr/dst_NEXT_v0_08_09_Kr_ACTIVE_10_0_7bar_pmaps_10000.root.h5'\n",
    "print(mydf_file)\n",
    "\n",
    "S1df, S2df, S2Sidf = pf.read_pmaps(mydf_file)\n",
    "\n",
    "#mydf\n",
    "#mydf = pf.read_pmaps(mydf_file)\n",
    "#list(map(type, mydf))\n",
    "#S1df   = mydf[0]\n",
    "#S2df   = mydf[1]\n",
    "#S2Sidf = mydf[2]\n",
    "\n",
    "print('S1df entries (tbins x events):',len(S1df))\n",
    "print('S2df entries (tbins x events):',len(S2df))\n",
    "print('S2Sidf entries:',len(S2Sidf))\n",
    "type(S1df)\n",
    "print('Keys of S1df panda dataframe: {} '  .format(S1df.keys()))\n",
    "print('Keys of S2df panda dataframe: {} '  .format(S2df.keys()))\n",
    "print('Keys of S2Sidf panda dataframe: {} '.format(S2Sidf.keys()))\n",
    "\n",
    "# Convert S12df object  (an S12 pytable read as a PD dataframe) and return an S12L dictionary (list of dict, first dict)\n",
    "S1dict   = pf.df_to_pmaps_dict(S1df,10000)  # revisar NO poner event max\n",
    "S2dict   = pf.df_to_pmaps_dict(S2df,10000)\n",
    "S2Sidict = pf.df_to_s2si_dict (S2Sidf,10000)\n",
    "\n",
    "evid_S1min   = sorted(S1dict.keys())  [0]\n",
    "evid_S1max   = sorted(S1dict.keys())  [-1]\n",
    "evid_S2min   = sorted(S2dict.keys())  [0]\n",
    "evid_S2max   = sorted(S2dict.keys())  [-1]\n",
    "evid_S2Simin = sorted(S2Sidict.keys())[0]\n",
    "evid_S2Simax = sorted(S2Sidict.keys())[-1]\n",
    "\n",
    "print('First/last event ID (first item in sorted S1 dictionary):   {}/{}'.format(evid_S1min,     evid_S1max))\n",
    "print('First/last event ID (first item in sorted S2 dictionary):   {}/{}'.format(evid_S2min,     evid_S2max))\n",
    "print('First/last event ID (first item in sorted S2Si dictionary): {}/{}'.format(evid_S2Simin, evid_S2Simax))\n",
    "print('Total number of events in S1   = {}'.format(len(S1dict)))\n",
    "print('Total number of events in S2   = {}'.format(len(S2dict)))\n",
    "print('Total number of events in S2Si = {}'.format(len(S2Sidict)))\n",
    "len(S1dict), type(S1dict), len(S2dict), type(S2dict), len(S2Sidict), type(S2Sidict)\n",
    "\n"
   ]
  },
  {
   "cell_type": "code",
   "execution_count": 4,
   "metadata": {
    "collapsed": false
   },
   "outputs": [],
   "source": [
    "import invisible_cities.database.load_db as DB\n",
    "DataPMT = DB.DataPMT()\n",
    "DataSiPM = DB.DataSiPM()\n",
    "\n",
    "pi = np.pi"
   ]
  },
  {
   "cell_type": "code",
   "execution_count": 5,
   "metadata": {
    "collapsed": false
   },
   "outputs": [],
   "source": [
    "#S2Sidict"
   ]
  },
  {
   "cell_type": "code",
   "execution_count": 6,
   "metadata": {
    "collapsed": false
   },
   "outputs": [],
   "source": [
    "#S2Sidf"
   ]
  },
  {
   "cell_type": "code",
   "execution_count": 7,
   "metadata": {
    "collapsed": true
   },
   "outputs": [],
   "source": [
    "### %%\n",
    "class S12Prop:\n",
    "    \"\"\"\n",
    "    properties\n",
    "    \"\"\"        \n",
    "    \n",
    "    def __init__(self, S12dict):\n",
    "        self.S12dict = S12dict\n",
    "        self.length  = len(self.S12dict)\n",
    "        self.prop()\n",
    "\n",
    "    def dict(self):\n",
    "            return self.S12dict\n",
    "\n",
    "#    def length(self):\n",
    "#        return len(self.S12dict)\n",
    "\n",
    "#test len arrays is == length\n",
    "\n",
    "\n",
    "    def prop(self):\n",
    "        self.IDX        = np.zeros(self.length, dtype=np.int) # array index for emax\n",
    "        self.tIDX       = np.zeros(self.length, dtype=np.double) # time value for IDX\n",
    "        self.tmin       = np.zeros(self.length, dtype=np.double) # minimum t value\n",
    "        self.tmax       = np.zeros(self.length, dtype=np.double) # maximum t value\n",
    "        self.twidth     = np.zeros(self.length, dtype=np.double) # t width of signal (mus) \n",
    "        self.tmean      = np.zeros(self.length, dtype=np.double) # mean time\n",
    "        self.emin       = np.zeros(self.length, dtype=np.double) # min energy the S1/S2 pulse\n",
    "        self.emax       = np.zeros(self.length, dtype=np.double) # max energy the S1/S2 pulse\n",
    "        self.etot       = np.zeros(self.length, dtype=np.double) # total energy\n",
    "        self.emean      = np.zeros(self.length, dtype=np.double) # total energy\n",
    "        \n",
    "\n",
    "        # lists to be filled in the loop. Lists name added 'l': lVARIABLE\n",
    "        lIDX     = []\n",
    "        ltIDX    = []\n",
    "        lemax    = []\n",
    "        ltmin    = []\n",
    "        ltmax    = []\n",
    "        ltmean   = []\n",
    "        ltwidth  = []\n",
    "        lemin    = []\n",
    "        lemax    = []\n",
    "        letot    = []\n",
    "        lemean   = []\n",
    "\n",
    "        # 1st loop over dic of events\n",
    "        # 2nd loop over dic of peaks,(ts,Es)=namedTuple (can also be accessed via value.t, value.E)\n",
    "        for evtID, evt in self.S12dict.items():  \n",
    "            for peakID, (ts, Es) in evt.items():  \n",
    "                if(evtID     == 9999): break  #------> PATCH\n",
    "                if(peakID        == 1):   break  #------> select one peak \n",
    "\n",
    "                lIDX       .append(np.argmax(Es))\n",
    "                ltIDX      .append(ts[lIDX[-1]]                / units.mus) # use last value of lIDX: [-1]\n",
    "                ltmin      .append(np.amin  (ts)               / units.mus)\n",
    "                ltmax      .append(np.amax  (ts)               / units.mus)\n",
    "                ltwidth    .append((np.amax (ts) - np.amin(ts))/ units.mus)\n",
    "                ltmean     .append(np.mean  (ts)               / units.mus)\n",
    "                lemin      .append(np.amin  (Es))\n",
    "                lemax      .append(np.amax  (Es))\n",
    "                letot      .append(np.sum   (Es))\n",
    "                lemean     .append(np.mean  (Es))\n",
    "                \n",
    "                \n",
    "        # convert lists to numpy arrays\n",
    "        self.IDX      = np.array(lIDX)  \n",
    "        self.tIDX     = np.array(ltIDX)\n",
    "        self.tmin     = np.array(ltmin)\n",
    "        self.tmax     = np.array(ltmax)\n",
    "        self.twidth   = np.array(ltwidth)\n",
    "        self.tmean    = np.array(ltmean)\n",
    "        self.emax     = np.array(lemax)\n",
    "        self.emin     = np.array(lemin) \n",
    "        self.etot     = np.array(letot)\n",
    "        self.emean    = np.array(lemean)\n",
    "\n",
    "         \n",
    "    def S1S2mapd(self, other):\n",
    "        filt_dict = lambda x, y: dict([ (i , x[i] ) for i in x if i in set(y) ])\n",
    "      \n",
    "        keys_S1 = set(self.S12dict.keys())\n",
    "        keys_S2 = set(other.S12dict.keys())\n",
    "        intsect = keys_S1 & keys_S2\n",
    "\n",
    "        S1map = filt_dict(self.S12dict,intsect)\n",
    "        S2map = filt_dict(other.S12dict,intsect)\n",
    "        return S12Prop(S1map), S12Prop(S2map)\n",
    "        "
   ]
  },
  {
   "cell_type": "code",
   "execution_count": 8,
   "metadata": {
    "collapsed": false
   },
   "outputs": [],
   "source": [
    "S1 = S12Prop(S1dict)\n",
    "S2 = S12Prop(S2dict)\n"
   ]
  },
  {
   "cell_type": "code",
   "execution_count": 9,
   "metadata": {
    "collapsed": false
   },
   "outputs": [],
   "source": [
    "filt_dict = lambda x, y: dict([ (i , x[i] ) for i in x if i in set(y) ])\n",
    "      \n",
    "keys_S1 = set(S1dict.keys())\n",
    "keys_S2 = set(S2dict.keys())\n",
    "intsect = keys_S1 & keys_S2\n",
    "\n",
    "S1map   = filt_dict(S1dict,intsect)\n",
    "S2map   = filt_dict(S2dict,intsect)"
   ]
  },
  {
   "cell_type": "code",
   "execution_count": 10,
   "metadata": {
    "collapsed": false
   },
   "outputs": [],
   "source": [
    "keys_S2map =  set(S2map.keys())\n",
    "keys_S2Si  =  set(S2Sidict.keys())\n",
    "intsect = keys_S2map & keys_S2Si\n",
    "\n",
    "S2map_Si = filt_dict(S2map,intsect)\n",
    "S2Simap  = filt_dict(S2Sidict,intsect)"
   ]
  },
  {
   "cell_type": "code",
   "execution_count": 11,
   "metadata": {
    "collapsed": false
   },
   "outputs": [
    {
     "data": {
      "text/plain": [
       "True"
      ]
     },
     "execution_count": 11,
     "metadata": {},
     "output_type": "execute_result"
    }
   ],
   "source": [
    "S2map_Si.keys() == S2Simap.keys() "
   ]
  },
  {
   "cell_type": "code",
   "execution_count": 12,
   "metadata": {
    "collapsed": false
   },
   "outputs": [
    {
     "data": {
      "text/plain": [
       "False"
      ]
     },
     "execution_count": 12,
     "metadata": {},
     "output_type": "execute_result"
    }
   ],
   "source": [
    "S2map.keys() == S2map_Si.keys()"
   ]
  },
  {
   "cell_type": "code",
   "execution_count": 13,
   "metadata": {
    "collapsed": false
   },
   "outputs": [
    {
     "data": {
      "text/plain": [
       "9417"
      ]
     },
     "execution_count": 13,
     "metadata": {},
     "output_type": "execute_result"
    }
   ],
   "source": [
    "len(S2map.keys())"
   ]
  },
  {
   "cell_type": "code",
   "execution_count": 14,
   "metadata": {
    "collapsed": false
   },
   "outputs": [
    {
     "data": {
      "text/plain": [
       "9416"
      ]
     },
     "execution_count": 14,
     "metadata": {},
     "output_type": "execute_result"
    }
   ],
   "source": [
    "len(S2map_Si.keys())"
   ]
  },
  {
   "cell_type": "code",
   "execution_count": 15,
   "metadata": {
    "collapsed": false
   },
   "outputs": [
    {
     "data": {
      "text/plain": [
       "False"
      ]
     },
     "execution_count": 15,
     "metadata": {},
     "output_type": "execute_result"
    }
   ],
   "source": [
    "S2Sidict.keys() == S2dict.keys()"
   ]
  },
  {
   "cell_type": "code",
   "execution_count": 16,
   "metadata": {
    "collapsed": false
   },
   "outputs": [
    {
     "data": {
      "text/plain": [
       "9416"
      ]
     },
     "execution_count": 16,
     "metadata": {},
     "output_type": "execute_result"
    }
   ],
   "source": [
    "len(S2Simap.keys())"
   ]
  },
  {
   "cell_type": "code",
   "execution_count": 17,
   "metadata": {
    "collapsed": false
   },
   "outputs": [
    {
     "data": {
      "text/plain": [
       "9417"
      ]
     },
     "execution_count": 17,
     "metadata": {},
     "output_type": "execute_result"
    }
   ],
   "source": [
    "len(S2map)"
   ]
  },
  {
   "cell_type": "code",
   "execution_count": 18,
   "metadata": {
    "collapsed": false
   },
   "outputs": [
    {
     "data": {
      "text/plain": [
       "True"
      ]
     },
     "execution_count": 18,
     "metadata": {},
     "output_type": "execute_result"
    }
   ],
   "source": [
    "S1map.keys() == S2map.keys() "
   ]
  },
  {
   "cell_type": "code",
   "execution_count": 19,
   "metadata": {
    "collapsed": false
   },
   "outputs": [],
   "source": [
    "#S2map.keys()"
   ]
  },
  {
   "cell_type": "code",
   "execution_count": 20,
   "metadata": {
    "collapsed": false
   },
   "outputs": [],
   "source": [
    "#S2Sidict"
   ]
  },
  {
   "cell_type": "code",
   "execution_count": 21,
   "metadata": {
    "collapsed": false
   },
   "outputs": [],
   "source": [
    "\n",
    "class S2SiProp:\n",
    "    \"\"\"\n",
    "    properties\n",
    "    \"\"\"        \n",
    "    \n",
    "    def __init__(self, S2Sidict):\n",
    "        self.S2Sidict = S2Sidict\n",
    "        self.length   = len(self.S2Sidict)\n",
    "        self.prop()\n",
    "\n",
    "    def dict(self):\n",
    "            return self.S2Sidict\n",
    "\n",
    "\n",
    "    def prop(self):\n",
    "        self.xsipms        = np.zeros(self.length, dtype=np.int) # \n",
    "        self.ysipms        = np.zeros(self.length, dtype=np.int) # \n",
    "        self.Qtot          = np.zeros(self.length, dtype=np.double) # Q total en el evento\n",
    "        self.x             = np.zeros(self.length, dtype=np.double) # x from barycenter\n",
    "        self.y             = np.zeros(self.length, dtype=np.double) # y from barycenter\n",
    "        \n",
    "        \n",
    "        lxsipms      = []\n",
    "        lysipms      = []\n",
    "        lQtot        = []\n",
    "        lx           = []\n",
    "        ly           = []\n",
    "        \n",
    "    \n",
    "        for evtID, evt in self.S2Sidict.items():  \n",
    "           # if evtID != 0: break \n",
    "            for peakID, sipms in evt.items(): \n",
    "                xsi = []\n",
    "                ysi = []\n",
    "                Q   = []   \n",
    "                if(peakID >=1):   break\n",
    "                for sipmID, Es in sipms.items(): \n",
    "                    lQtot     .append(np.sum(Es))               \n",
    "                    lxsipms   .append(DataSiPM.X.values[sipmID])\n",
    "                    lysipms   .append(DataSiPM.Y.values[sipmID])\n",
    "                    # for the weighted barycenter\n",
    "                    Q         .append(np.sum(Es))\n",
    "                    xsi       .append(DataSiPM.X.values[sipmID])  \n",
    "                    ysi       .append(DataSiPM.Y.values[sipmID])\n",
    "                # fill weighted average per event   \n",
    "                #print('lenght Q= {}, type = {}' .format(len(Q), type(Q)))\n",
    "                #print('lenght xsi= {}, type = {}'.format(len(xsi), type(xsi)))\n",
    "                #print('lenght ysi= {}, type = {}'.format(len(ysi), type(ysi)))\n",
    "                #print('++++++++')\n",
    "                lx  .append(np.average(xsi, weights = Q))\n",
    "                ly  .append(np.average(ysi, weights = Q))\n",
    "                \n",
    "       # convert lists to numpy arrays\n",
    "        self.xsipms      = np.array(lxsipms)  \n",
    "        self.ysipms      = np.array(lysipms)\n",
    "        self.Qtot        = np.array(lQtot)\n",
    "        self.x           = np.array(lx)\n",
    "        self.y           = np.array(ly)\n",
    "    "
   ]
  },
  {
   "cell_type": "code",
   "execution_count": 22,
   "metadata": {
    "collapsed": true
   },
   "outputs": [],
   "source": [
    "# gonzalo\n",
    "#x, y = np.average(xsipms, weights=Qs), np.average(ysipms, weights=Qs)\n",
    "#xsipms, ysipms = DataSiPM.X.values, DataSiPM.Y.values"
   ]
  },
  {
   "cell_type": "code",
   "execution_count": 23,
   "metadata": {
    "collapsed": true
   },
   "outputs": [],
   "source": [
    "#x, y = np.average(xsipms, weights=Qs), np.average(ysipms, weights=Qs)"
   ]
  },
  {
   "cell_type": "code",
   "execution_count": 24,
   "metadata": {
    "collapsed": false
   },
   "outputs": [],
   "source": [
    "#DataSiPM.X.values"
   ]
  },
  {
   "cell_type": "code",
   "execution_count": 25,
   "metadata": {
    "collapsed": false
   },
   "outputs": [],
   "source": [
    "#S2Simap"
   ]
  },
  {
   "cell_type": "markdown",
   "metadata": {},
   "source": [
    "### \"S2Simap\" is mapped with S2"
   ]
  },
  {
   "cell_type": "code",
   "execution_count": 26,
   "metadata": {
    "collapsed": false
   },
   "outputs": [
    {
     "data": {
      "text/plain": [
       "9416"
      ]
     },
     "execution_count": 26,
     "metadata": {},
     "output_type": "execute_result"
    }
   ],
   "source": [
    "len(S2Simap)"
   ]
  },
  {
   "cell_type": "code",
   "execution_count": 27,
   "metadata": {
    "collapsed": false
   },
   "outputs": [],
   "source": [
    "s2si = S2SiProp(S2Simap)"
   ]
  },
  {
   "cell_type": "code",
   "execution_count": 28,
   "metadata": {
    "collapsed": false
   },
   "outputs": [
    {
     "data": {
      "text/plain": [
       "9414"
      ]
     },
     "execution_count": 28,
     "metadata": {},
     "output_type": "execute_result"
    }
   ],
   "source": [
    "len(s2si.x)"
   ]
  },
  {
   "cell_type": "code",
   "execution_count": 29,
   "metadata": {
    "collapsed": false
   },
   "outputs": [
    {
     "data": {
      "image/png": "[encoded data removed]",
      "text/plain": [
       "<matplotlib.figure.Figure at 0x10faaf128>"
      ]
     },
     "metadata": {},
     "output_type": "display_data"
    }
   ],
   "source": [
    "from matplotlib.colors import LogNorm\n",
    "plt.hist2d(s2si.x, s2si.y, bins=40, norm=LogNorm())\n",
    "plt.colorbar()\n",
    "plt.show()"
   ]
  },
  {
   "cell_type": "code",
   "execution_count": 30,
   "metadata": {
    "collapsed": false
   },
   "outputs": [
    {
     "data": {
      "text/plain": [
       "(array([  444.,   862.,  1017.,  1201.,  1203.,  1201.,  1087.,  1077.,\n",
       "          863.,   459.]),\n",
       " array([ -1.97772551e+02,  -1.58220219e+02,  -1.18667886e+02,\n",
       "         -7.91155540e+01,  -3.95632217e+01,  -1.08894295e-02,\n",
       "          3.95414428e+01,   7.90937751e+01,   1.18646107e+02,\n",
       "          1.58198440e+02,   1.97750772e+02]),\n",
       " <a list of 10 Patch objects>)"
      ]
     },
     "execution_count": 30,
     "metadata": {},
     "output_type": "execute_result"
    },
    {
     "data": {
      "image/png": "[encoded data removed]",
      "text/plain": [
       "<matplotlib.figure.Figure at 0x111a679b0>"
      ]
     },
     "metadata": {},
     "output_type": "display_data"
    }
   ],
   "source": [
    "plt.hist(s2si.x)"
   ]
  },
  {
   "cell_type": "code",
   "execution_count": 31,
   "metadata": {
    "collapsed": false
   },
   "outputs": [
    {
     "data": {
      "text/plain": [
       "(array([ 2047.,  3888.,  4545.,  5238.,  5344.,  5199.,  4775.,  4695.,\n",
       "         4808.,  1937.]),\n",
       " array([-205., -164., -123.,  -82.,  -41.,    0.,   41.,   82.,  123.,\n",
       "         164.,  205.]),\n",
       " <a list of 10 Patch objects>)"
      ]
     },
     "execution_count": 31,
     "metadata": {},
     "output_type": "execute_result"
    },
    {
     "data": {
      "image/png": "[encoded data removed]",
      "text/plain": [
       "<matplotlib.figure.Figure at 0x112e99ba8>"
      ]
     },
     "metadata": {},
     "output_type": "display_data"
    }
   ],
   "source": [
    "plt.hist(s2si.xsipms)"
   ]
  },
  {
   "cell_type": "code",
   "execution_count": 32,
   "metadata": {
    "collapsed": false
   },
   "outputs": [
    {
     "data": {
      "text/plain": [
       "42476"
      ]
     },
     "execution_count": 32,
     "metadata": {},
     "output_type": "execute_result"
    }
   ],
   "source": [
    "len(s2si.Qtot)"
   ]
  },
  {
   "cell_type": "code",
   "execution_count": 33,
   "metadata": {
    "collapsed": false
   },
   "outputs": [
    {
     "data": {
      "text/plain": [
       "42476"
      ]
     },
     "execution_count": 33,
     "metadata": {},
     "output_type": "execute_result"
    }
   ],
   "source": [
    "len(s2si.xsipms)"
   ]
  },
  {
   "cell_type": "code",
   "execution_count": 34,
   "metadata": {
    "collapsed": false
   },
   "outputs": [
    {
     "data": {
      "text/plain": [
       "9414"
      ]
     },
     "execution_count": 34,
     "metadata": {},
     "output_type": "execute_result"
    }
   ],
   "source": [
    "len(s2si.x)"
   ]
  },
  {
   "cell_type": "code",
   "execution_count": 35,
   "metadata": {
    "collapsed": false
   },
   "outputs": [],
   "source": [
    "#x , y = np.average(s2si.xsipms, weights = s2si.Qtot), np.average(s2si.ysipms, weights = s2si.Qtot)"
   ]
  },
  {
   "cell_type": "code",
   "execution_count": 36,
   "metadata": {
    "collapsed": false
   },
   "outputs": [
    {
     "data": {
      "image/png": "[encoded data removed]",
      "text/plain": [
       "<matplotlib.figure.Figure at 0x11341fd68>"
      ]
     },
     "metadata": {},
     "output_type": "display_data"
    }
   ],
   "source": [
    "from matplotlib.colors import LogNorm\n",
    "plt.hist2d(s2si.xsipms, s2si.ysipms, bins=40, norm=LogNorm())\n",
    "plt.colorbar()\n",
    "plt.show()"
   ]
  },
  {
   "cell_type": "code",
   "execution_count": 37,
   "metadata": {
    "collapsed": false
   },
   "outputs": [
    {
     "data": {
      "text/plain": [
       "(array([  2.67320000e+04,   1.04590000e+04,   3.29400000e+03,\n",
       "          1.16800000e+03,   4.65000000e+02,   1.87000000e+02,\n",
       "          1.03000000e+02,   3.90000000e+01,   2.00000000e+01,\n",
       "          9.00000000e+00]),\n",
       " array([  30.0000596 ,   83.20766368,  136.41526775,  189.62287183,\n",
       "         242.8304759 ,  296.03807998,  349.24568405,  402.45328813,\n",
       "         455.6608922 ,  508.86849627,  562.07610035]),\n",
       " <a list of 10 Patch objects>)"
      ]
     },
     "execution_count": 37,
     "metadata": {},
     "output_type": "execute_result"
    },
    {
     "data": {
      "image/png": "[encoded data removed]",
      "text/plain": [
       "<matplotlib.figure.Figure at 0x111a35c50>"
      ]
     },
     "metadata": {},
     "output_type": "display_data"
    }
   ],
   "source": [
    "plt.hist(s2si.Qtot)"
   ]
  },
  {
   "cell_type": "markdown",
   "metadata": {},
   "source": [
    "### Open the pytable file for MC truth extraction"
   ]
  },
  {
   "cell_type": "code",
   "execution_count": 38,
   "metadata": {
    "collapsed": true
   },
   "outputs": [],
   "source": [
    "table = tb.open_file(mydf_file,mode='r')"
   ]
  },
  {
   "cell_type": "code",
   "execution_count": 39,
   "metadata": {
    "collapsed": false
   },
   "outputs": [
    {
     "data": {
      "text/plain": [
       "/MC/MCTracks (Table(69606,), shuffle, zlib(4)) 'MCTracks'\n",
       "  description := {\n",
       "  \"event_indx\": Int16Col(shape=(), dflt=0, pos=0),\n",
       "  \"mctrk_indx\": Int16Col(shape=(), dflt=0, pos=1),\n",
       "  \"particle_name\": StringCol(itemsize=10, shape=(), dflt=b'', pos=2),\n",
       "  \"pdg_code\": Int16Col(shape=(), dflt=0, pos=3),\n",
       "  \"initial_vertex\": Float32Col(shape=(3,), dflt=0.0, pos=4),\n",
       "  \"final_vertex\": Float32Col(shape=(3,), dflt=0.0, pos=5),\n",
       "  \"momentum\": Float32Col(shape=(3,), dflt=0.0, pos=6),\n",
       "  \"energy\": Float32Col(shape=(), dflt=0.0, pos=7),\n",
       "  \"nof_hits\": Int16Col(shape=(), dflt=0, pos=8),\n",
       "  \"hit_indx\": Int16Col(shape=(), dflt=0, pos=9),\n",
       "  \"hit_position\": Float32Col(shape=(3,), dflt=0.0, pos=10),\n",
       "  \"hit_time\": Float32Col(shape=(), dflt=0.0, pos=11),\n",
       "  \"hit_energy\": Float32Col(shape=(), dflt=0.0, pos=12)}\n",
       "  byteorder := 'little'\n",
       "  chunkshape := (819,)"
      ]
     },
     "execution_count": 39,
     "metadata": {},
     "output_type": "execute_result"
    }
   ],
   "source": [
    "table.root.MC.MCTracks"
   ]
  },
  {
   "cell_type": "code",
   "execution_count": 40,
   "metadata": {
    "collapsed": false
   },
   "outputs": [],
   "source": [
    "table_truth = table.root.MC.MCTracks\n",
    "table = table_truth[:]"
   ]
  },
  {
   "cell_type": "code",
   "execution_count": 41,
   "metadata": {
    "collapsed": true
   },
   "outputs": [],
   "source": [
    "from collections import namedtuple\n",
    "def xxx (mctruth_table, max_events=None):\n",
    "    \n",
    "    result = {}\n",
    "    Tuple = namedtuple('sipms','momentum, position, energies, hit_energies')\n",
    "    len_mc_truth_table = len(mctruth_table)\n",
    "\n",
    "#    convert table to numpy.ndarray\n",
    "    data       = mctruth_table[:]\n",
    "    data_size  = len(data)\n",
    "\n",
    "    event            =  data[\"event_indx\"]\n",
    "    particle         =  data[\"mctrk_indx\"]\n",
    "    particle_name    =  data[\"particle_name\"]\n",
    "    pdg_code         =  data[\"pdg_code\"]\n",
    "    initial_vertex   =  data[\"initial_vertex\"]\n",
    "    final_vertex     =  data[\"final_vertex\"]\n",
    "    momentum         =  data[\"momentum\"]\n",
    "    energy           =  data[\"energy\"]\n",
    "    nof_hits         =  data[\"nof_hits\"]\n",
    "    hit              =  data[\"hit_indx\"]\n",
    "    hit_position     =  data[\"hit_position\"]\n",
    "    hit_time         =  data[\"hit_time\"]\n",
    "    hit_energy       =  data[\"hit_energy\"]\n",
    "\n",
    "    event_boundary    = True\n",
    "    particle_boundary = True\n",
    "    hit_boundary      = True\n",
    "\n",
    "    current_event    = -2\n",
    "    current_particle = -1\n",
    "    current_hit      = -1\n",
    "\n",
    "    limit = np.iinfo(int).max if max_events is None or max_events < 0 else max_events\n",
    "    \n",
    "    for i in range(data_size):\n",
    "        #print('+++++++++start loop = {}, event= {}, particle= {}, hit= {}'.format(i,event[i], particle[i], hit[i]))\n",
    "        \n",
    "        if(event_boundary):    # start new event\n",
    "            current_event = event[i]\n",
    "            #print('-----current event= {}'.format(current_event))\n",
    "            if current_event >= limit: break\n",
    "            event_data = {}\n",
    "\n",
    "        if particle_boundary:  # Start new particle\n",
    "            current_particle = particle[i]\n",
    "            particle_data = {}\n",
    "\n",
    "        if hit_boundary:  # Start new hit\n",
    "            current_hit = hit[i]\n",
    "            momentums, hit_positions, energies, hit_energies = [], [], [], []\n",
    "           \n",
    "           \n",
    "\n",
    "       # Add position, momentum to current particle's data  \n",
    "       \n",
    "        momentums     .append(momentum    [i])\n",
    "        hit_positions .append(hit_position[i])\n",
    "        energies      .append(energy      [i])\n",
    "        hit_energies  .append(hit_energy  [i])\n",
    "      \n",
    "        #print(momentum)\n",
    "\n",
    "        event_boundary     = i+1 == data_size     or event     [i+1] != current_event\n",
    "        particle_boundary  = event_boundary       or particle [i+1]  != current_particle\n",
    "        hit_boundary       = particle_boundary    or hit      [i+1]  != current_hit\n",
    "        \n",
    "        if hit_boundary:  # End of hit: save it\n",
    "            #print('end of hit')\n",
    "#            particle_data[current_hit] = (momentums, hit_positions)\n",
    "           # print(hit_position)\n",
    "            particle_data[current_hit] = Tuple(np.array(momentums), \n",
    "                                               np.array(hit_positions), \n",
    "                                               np.array(energies), \n",
    "                                               np.array(hit_energies))\n",
    "            \n",
    "        if particle_boundary:  # End of particle: save it\n",
    "            #print('end of particle')\n",
    "            event_data[current_particle] = particle_data\n",
    "\n",
    "\n",
    "        if event_boundary: # End of event: save it\n",
    "            #print('end of event')\n",
    "            result[current_event] = event_data\n",
    "       \n",
    "    \n",
    "    return result\n",
    "\n",
    "\n"
   ]
  },
  {
   "cell_type": "code",
   "execution_count": 42,
   "metadata": {
    "collapsed": false
   },
   "outputs": [],
   "source": [
    "Truth_dict = xxx(table)"
   ]
  },
  {
   "cell_type": "markdown",
   "metadata": {},
   "source": [
    "### Intersect Truth-dict with S2Si-reco-dict"
   ]
  },
  {
   "cell_type": "code",
   "execution_count": 43,
   "metadata": {
    "collapsed": false
   },
   "outputs": [],
   "source": [
    "keys_Truth_dict =  set(Truth_dict.keys())\n",
    "keys_S2Si  =  set(S2Sidict.keys())\n",
    "intsect = keys_Truth_dict & keys_S2Si\n",
    "\n",
    "Truth_dict_map = filt_dict(Truth_dict,intsect)\n",
    "S2Simap  = filt_dict(S2Sidict,intsect)"
   ]
  },
  {
   "cell_type": "code",
   "execution_count": 44,
   "metadata": {
    "collapsed": false
   },
   "outputs": [
    {
     "data": {
      "text/plain": [
       "True"
      ]
     },
     "execution_count": 44,
     "metadata": {},
     "output_type": "execute_result"
    }
   ],
   "source": [
    "Truth_dict_map.keys() == S2Simap.keys()"
   ]
  },
  {
   "cell_type": "markdown",
   "metadata": {},
   "source": [
    "### Truth features:\n",
    "\n"
   ]
  },
  {
   "cell_type": "code",
   "execution_count": 45,
   "metadata": {
    "collapsed": true
   },
   "outputs": [],
   "source": [
    "\n",
    "\n",
    "class T_S2SiProp:\n",
    "    \"\"\"\n",
    "    properties\n",
    "    \"\"\"        \n",
    "    \n",
    "    def __init__(self, Tdict):\n",
    "        self.Tdict    = Tdict\n",
    "        self.length   = len(self.Tdict)\n",
    "        self.prop()\n",
    "\n",
    "    def dict(self):\n",
    "            return self.Tdict\n",
    "\n",
    "\n",
    "    def prop(self):\n",
    "        self.xposition        = np.zeros(self.length, dtype=np.double) # \n",
    "        self.yposition        = np.zeros(self.length, dtype=np.double) # \n",
    "        self.energies         = np.zeros(self.length, dtype=np.double) # Particle's energy\n",
    "        self.hit_energies     = np.zeros(self.length, dtype=np.double) # hit's energy\n",
    "        self.edepo            = np.zeros(self.length, dtype=np.double) # Sum of energy_hits\n",
    "        self.xtruth           = np.zeros(self.length, dtype=np.double) # x from barycenter\n",
    "        self.ytruth           = np.zeros(self.length, dtype=np.double) # y from barycenter\n",
    "        \n",
    "        \n",
    "        lxposition      = []\n",
    "        lyposition      = []\n",
    "        lenergies       = []\n",
    "        lhit_energies   = []\n",
    "        ledepo          = []\n",
    "        lx              = []\n",
    "        ly              = []\n",
    "    \n",
    "        energies = 0 \n",
    "        for evtID, evt in self.Tdict.items(): \n",
    "            edepo = 0\n",
    "            xsi   = []\n",
    "            ysi   = []\n",
    "            hitE  = []\n",
    "            for particle, hits in evt.items(): \n",
    "                # fill energy of particles               \n",
    "                for hitID, sipms in hits.items(): \n",
    "                    edepo = edepo + sipms.hit_energies               \n",
    "                    lxposition    .append(sipms.position[0][0])\n",
    "                    lyposition    .append(sipms.position[0][1])\n",
    "                    lhit_energies .append(sipms.hit_energies)\n",
    "                    ledepo        .append(edepo)\n",
    "                    energies      = sipms.energies\n",
    "                    xsi           .append(sipms.position[0][0])  \n",
    "                    ysi           .append(sipms.position[0][1])\n",
    "                    hitE          .append(sipms.hit_energies[0])\n",
    "                    #print('xsi = {}'.format(xsi))\n",
    "                    #print('ysi = {}'.format(ysi))\n",
    "                    #print('hitE = {}'.format(hitE))\n",
    "                    #print('sipms.hit_energies = {}'.format(sipms.hit_energies[0]))\n",
    "                    #print('sipms.position[0][0] = {}'.format(sipms.position[0][0]))\n",
    "                    \n",
    "                \n",
    "                # fill energy of particles \n",
    "                lenergies     .append(energies)  \n",
    "           \n",
    "            #fill weighted average per event\n",
    "            xarray = np.array(xsi)\n",
    "            yarray = np.array(ysi)\n",
    "            Earray = np.array(hitE)\n",
    "            lx  .append(np.average(xarray, weights = Earray))\n",
    "            ly  .append(np.average(yarray, weights = Earray))\n",
    "                \n",
    "                \n",
    "       # convert lists to numpy arrays\n",
    "        self.xposition      = np.array(lxposition)  \n",
    "        self.yposition      = np.array(lyposition)\n",
    "        self.energies       = np.array(lenergies)\n",
    "        self.hit_energies   = np.array(lhit_energies)\n",
    "        self.edepo          = np.array(ledepo)\n",
    "        self.xtruth         = np.array(lx)\n",
    "        self.ytruth         = np.array(ly)\n",
    "\n"
   ]
  },
  {
   "cell_type": "code",
   "execution_count": 46,
   "metadata": {
    "collapsed": true
   },
   "outputs": [],
   "source": [
    "T = T_S2SiProp(Truth_dict_map)"
   ]
  },
  {
   "cell_type": "code",
   "execution_count": 47,
   "metadata": {
    "collapsed": false
   },
   "outputs": [
    {
     "data": {
      "text/plain": [
       "array([  1.43937210e+02,   1.41104758e-01,  -5.75221405e+01, ...,\n",
       "         1.21402138e+02,   1.12295212e+02,  -3.84891582e+00], dtype=float32)"
      ]
     },
     "execution_count": 47,
     "metadata": {},
     "output_type": "execute_result"
    }
   ],
   "source": [
    "T.xtruth"
   ]
  },
  {
   "cell_type": "code",
   "execution_count": 48,
   "metadata": {
    "collapsed": false
   },
   "outputs": [
    {
     "data": {
      "text/plain": [
       "(array([  512.,   927.,  1097.,  1269.,  1266.,  1238.,  1139.,  1128.,\n",
       "          910.,   496.]),\n",
       " array([ -1.97329407e+02,  -1.57873193e+02,  -1.18416980e+02,\n",
       "         -7.89607666e+01,  -3.95045532e+01,  -4.83398438e-02,\n",
       "          3.94078735e+01,   7.88640869e+01,   1.18320300e+02,\n",
       "          1.57776514e+02,   1.97232727e+02]),\n",
       " <a list of 10 Patch objects>)"
      ]
     },
     "execution_count": 48,
     "metadata": {},
     "output_type": "execute_result"
    },
    {
     "data": {
      "image/png": "[encoded data removed]",
      "text/plain": [
       "<matplotlib.figure.Figure at 0x112e93b38>"
      ]
     },
     "metadata": {},
     "output_type": "display_data"
    }
   ],
   "source": [
    "plt.hist(T.xtruth)"
   ]
  },
  {
   "cell_type": "code",
   "execution_count": 49,
   "metadata": {
    "collapsed": false
   },
   "outputs": [
    {
     "data": {
      "image/png": "[encoded data removed]",
      "text/plain": [
       "<matplotlib.figure.Figure at 0x1133c5978>"
      ]
     },
     "metadata": {},
     "output_type": "display_data"
    }
   ],
   "source": [
    "from matplotlib.colors import LogNorm\n",
    "plt.hist2d(T.xtruth, T.ytruth, bins=40, norm=LogNorm())\n",
    "plt.colorbar()\n",
    "plt.show()"
   ]
  },
  {
   "cell_type": "code",
   "execution_count": 50,
   "metadata": {
    "collapsed": false
   },
   "outputs": [
    {
     "data": {
      "image/png": "[encoded data removed]",
      "text/plain": [
       "<matplotlib.figure.Figure at 0x11abeb9b0>"
      ]
     },
     "metadata": {},
     "output_type": "display_data"
    }
   ],
   "source": [
    "from matplotlib.colors import LogNorm\n",
    "plt.hist2d(T.xposition, T.yposition, bins=40, norm=LogNorm())\n",
    "plt.colorbar()\n",
    "plt.show()"
   ]
  },
  {
   "cell_type": "markdown",
   "metadata": {},
   "source": [
    "## Ongoing truth-reco comparison...."
   ]
  },
  {
   "cell_type": "code",
   "execution_count": 51,
   "metadata": {
    "collapsed": false
   },
   "outputs": [],
   "source": [
    "#plt.hist(T.xtruth-s2si.x)"
   ]
  },
  {
   "cell_type": "code",
   "execution_count": 52,
   "metadata": {
    "collapsed": false
   },
   "outputs": [
    {
     "data": {
      "text/plain": [
       "9982"
      ]
     },
     "execution_count": 52,
     "metadata": {},
     "output_type": "execute_result"
    }
   ],
   "source": [
    "len(Truth_dict_map)"
   ]
  }
 ],
 "metadata": {
  "kernelspec": {
   "display_name": "Python 3",
   "language": "python",
   "name": "python3"
  },
  "language_info": {
   "codemirror_mode": {
    "name": "ipython",
    "version": 3
   },
   "file_extension": ".py",
   "mimetype": "text/x-python",
   "name": "python",
   "nbconvert_exporter": "python",
   "pygments_lexer": "ipython3",
   "version": "3.5.2"
  }
 },
 "nbformat": 4,
 "nbformat_minor": 2
}
