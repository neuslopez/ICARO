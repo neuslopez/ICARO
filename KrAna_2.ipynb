{
 "cells": [
  {
   "cell_type": "code",
   "execution_count": 1,
   "metadata": {
    "collapsed": true
   },
   "outputs": [],
   "source": [
    "from __future__ import print_function\n",
    "\n",
    "import sys\n",
    "import os\n",
    "from glob import glob\n",
    "from time import time\n",
    "%matplotlib inline\n",
    "%load_ext autoreload\n",
    "%autoreload 2\n",
    "import matplotlib.pyplot as plt\n",
    "import pandas as pd\n",
    "import tables as tb\n",
    "import numpy as np\n",
    "import math\n",
    "#plt.rcParams['figure.figsize'] = 10,8\n",
    "import datetime\n",
    "\n",
    "from   invisible_cities.database import load_db\n",
    "from   invisible_cities.core.system_of_units_c import SystemOfUnits\n",
    "import invisible_cities.sierpe.blr as blr\n",
    "import invisible_cities.core.mpl_functions as mpl\n",
    "import invisible_cities.reco.wfm_functions as wfm\n",
    "import invisible_cities.reco.tbl_functions as tbl\n",
    "import invisible_cities.core.peak_functions_c as cpf\n",
    "import invisible_cities.reco.pmaps_functions as pf\n",
    "import invisible_cities.core.sensor_functions as sf\n",
    "from   invisible_cities.core.core_functions import define_window\n",
    "\n",
    "import invisible_cities.core.pmaps_functions_c as cpm\n",
    "from   invisible_cities.core.core_functions import lrange\n",
    "\n",
    "import S1S2prop as prop\n",
    " \n",
    "units = SystemOfUnits()\n",
    "t0 = time()"
   ]
  },
  {
   "cell_type": "code",
   "execution_count": 2,
   "metadata": {
    "collapsed": false
   },
   "outputs": [
    {
     "name": "stdout",
     "output_type": "stream",
     "text": [
      "/Users/neus/InvCities/data/Kr/pmaps_NEXT_v0_08_09_Kr_ACTIVE_1_0_7bar__10000.root.h5\n",
      "S1df entries (tbins x events): 51993\n",
      "S2df entries (tbins x events): 91086\n",
      "S2Sidf entries: 45115\n",
      "Keys of S1df panda dataframe: Index(['event', 'evtDaq', 'peak', 'time', 'ene'], dtype='object') \n",
      "Keys of S2df panda dataframe: Index(['event', 'evtDaq', 'peak', 'time', 'ene'], dtype='object') \n",
      "Keys of S2Sidf panda dataframe: Index(['event', 'evtDaq', 'peak', 'nsipm', 'nsample', 'ene'], dtype='object') \n",
      "First/last event ID (first item in sorted S1 dictionary): 0/9999\n",
      "First/last event ID (first item in sorted S2 dictionary): 0/9999\n",
      "Total number of events in S1 = 6980\n",
      "Total number of events in S2 = 9977\n"
     ]
    },
    {
     "data": {
      "text/plain": [
       "(6980, dict, 9977, dict)"
      ]
     },
     "execution_count": 2,
     "metadata": {},
     "output_type": "execute_result"
    }
   ],
   "source": [
    "# Open Krypton MC file\n",
    "#%%\n",
    "mydf_file = os.environ['IC_DATA']+'/Kr/pmaps_NEXT_v0_08_09_Kr_ACTIVE_1_0_7bar__10000.root.h5'\n",
    "print(mydf_file)\n",
    "\n",
    "mydf = pf.read_pmaps(mydf_file)\n",
    "#mydf\n",
    "list(map(type, mydf))\n",
    "S1df = mydf[0]\n",
    "S2df = mydf[1]\n",
    "S2Sidf = mydf[2]\n",
    "print('S1df entries (tbins x events):',len(S1df))\n",
    "print('S2df entries (tbins x events):',len(S2df))\n",
    "print('S2Sidf entries:',len(S2Sidf))\n",
    "type(S1df)\n",
    "print('Keys of S1df panda dataframe: {} '.format(S1df.keys()))\n",
    "print('Keys of S2df panda dataframe: {} '.format(S2df.keys()))\n",
    "print('Keys of S2Sidf panda dataframe: {} '.format(S2Sidf.keys()))\n",
    "\n",
    "# Convert S12df object  (an S12 pytable read as a PD dataframe) and return an S12L dictionary (list of dict, first dict)\n",
    "S1 = pf.s12df_to_s12l(S1df,10000)\n",
    "S2 = pf.s12df_to_s12l(S2df,10000)\n",
    "\n",
    "evid_S1min = sorted(S1.keys())[0]\n",
    "evid_S1max = sorted(S1.keys())[-1]\n",
    "evid_S2min = sorted(S2.keys())[0]\n",
    "evid_S2max = sorted(S2.keys())[-1]\n",
    "print('First/last event ID (first item in sorted S1 dictionary): {}/{}'.format(evid_S1min,evid_S1max))\n",
    "print('First/last event ID (first item in sorted S2 dictionary): {}/{}'.format(evid_S2min,evid_S2max))\n",
    "print('Total number of events in S1 = {}'.format(len(S1)))\n",
    "print('Total number of events in S2 = {}'.format(len(S2)))\n",
    "len(S1), type(S1), len(S2), type(S2)\n"
   ]
  },
  {
   "cell_type": "code",
   "execution_count": 3,
   "metadata": {
    "collapsed": false
   },
   "outputs": [
    {
     "data": {
      "text/plain": [
       "True"
      ]
     },
     "execution_count": 3,
     "metadata": {},
     "output_type": "execute_result"
    }
   ],
   "source": [
    "myS1 = prop.S12Prop(S1)\n",
    "myS2 = prop.S12Prop(S2)\n",
    "\n",
    "type(myS1)\n",
    "myS2.length(), myS1.length()\n",
    "_S1map = myS1.S1S2mapd(myS2)[0]\n",
    "_S2map = myS1.S1S2mapd(myS2)[1]\n",
    "_S1map._dict().keys() == _S2map._dict().keys()\n",
    "\n",
    "\n",
    "#p.myhistos(_S1map.wS12_, 100, 0.0, 0.5,color=\"green\", title=\"test_hist\",\"width S1\",\"prova\")\n",
    "\n",
    "#p.Histo(_S1map.wS12_,100,\"title\", \"x\", \"Entries\")\n",
    "#p.myhistos(_S1map.wS12_,100,\"red\",\"title\", \"x\", \"Entries\")\n",
    "#fig, ax = plt.subplots()"
   ]
  },
  {
   "cell_type": "code",
   "execution_count": 4,
   "metadata": {
    "collapsed": false
   },
   "outputs": [
    {
     "data": {
      "text/plain": [
       "6973"
      ]
     },
     "execution_count": 4,
     "metadata": {},
     "output_type": "execute_result"
    }
   ],
   "source": [
    "len(_S1map.wS12_)"
   ]
  },
  {
   "cell_type": "markdown",
   "metadata": {},
   "source": [
    "### Plotting 4 plots for the notebook"
   ]
  },
  {
   "cell_type": "code",
   "execution_count": 5,
   "metadata": {
    "collapsed": false
   },
   "outputs": [
    {
     "data": {
      "image/png": "[encoded data removed]",
      "text/plain": [
       "<matplotlib.figure.Figure at 0x10fd4bbe0>"
      ]
     },
     "metadata": {},
     "output_type": "display_data"
    }
   ],
   "source": [
    "fig = plt.subplots(nrows = 1, ncols=2, figsize=(15, 10))\n",
    "plt.subplot(221)   \n",
    "prop.myhistos(_S1map.wS12_, 100 ,0., 0.4, color=\"red\",title=\"1\", xlabel =\"x\", ylabel = \"Entries\")\n",
    "plt.subplot(222)   \n",
    "prop.myhistos(_S1map.wS12_, 10 ,0., 0.4, color=\"blue\",title=\"2\", xlabel =\"x\", ylabel = \"Entries\")\n",
    "plt.subplot(223)   \n",
    "prop.myhistos(_S1map.wS12_, 10 ,0., 0.4, color=\"green\",title=\"1\", xlabel =\"x\", ylabel = \"Entries\")\n",
    "plt.subplot(224)   \n",
    "prop.myhistos(_S1map.wS12_, 10 ,0., 0.4, color=\"black\",title=\"1\", xlabel =\"x\", ylabel = \"Entries\")\n",
    "#a.savefig(\"fig_red\")\n",
    "plt.show()\n"
   ]
  },
  {
   "cell_type": "markdown",
   "metadata": {},
   "source": [
    "### Save a nice plot"
   ]
  },
  {
   "cell_type": "code",
   "execution_count": 10,
   "metadata": {
    "collapsed": false,
    "scrolled": true
   },
   "outputs": [
    {
     "data": {
      "image/png": "[encoded data removed]",
      "text/plain": [
       "<matplotlib.figure.Figure at 0x115f57a90>"
      ]
     },
     "metadata": {},
     "output_type": "display_data"
    }
   ],
   "source": [
    "from matplotlib.ticker import AutoMinorLocator, MultipleLocator\n",
    "h1 = prop.h1(_S2map.wS12_, 10 ,0., 0.4, color=\"red\",title=\"\", xlabel =\"x (cm)\", ylabel = \"Events\")\n",
    "ax = plt.axes()\n",
    "ax.xaxis.set_minor_locator(AutoMinorLocator())\n",
    "ax.yaxis.set_minor_locator(AutoMinorLocator())\n",
    "#    ax.xaxis.set_label_coords(0.95, -0.10)\n",
    "#    ax.yaxis.set_label_coords(-0.1, 0.95)\n",
    "h1.savefig(\"h1\")"
   ]
  },
  {
   "cell_type": "code",
   "execution_count": 11,
   "metadata": {
    "collapsed": false
   },
   "outputs": [
    {
     "name": "stderr",
     "output_type": "stream",
     "text": [
      "/Users/neus/miniconda/envs/IC3.5/lib/python3.5/site-packages/matplotlib/axes/_axes.py:545: UserWarning: No labelled objects found. Use label='...' kwarg on individual plots.\n",
      "  warnings.warn(\"No labelled objects found. \"\n"
     ]
    },
    {
     "data": {
      "image/png": "[encoded data removed]",
      "text/plain": [
       "<matplotlib.figure.Figure at 0x1162af7f0>"
      ]
     },
     "metadata": {},
     "output_type": "display_data"
    }
   ],
   "source": [
    "from matplotlib.ticker import AutoMinorLocator, MultipleLocator, FormatStrFormatter\n",
    "h1 = prop.h1(_S2map.wS12_, 10 ,0., 0.4, color=\"red\",title=\"\", xlabel =\"drift time (mus)\", ylabel = \"Events\")\n",
    "ax = plt.axes()\n",
    "\n",
    "majorLocator = MultipleLocator(2)  # subdivisió entre numeros visibles\n",
    "majorFormatter = FormatStrFormatter('%d')\n",
    "minorLocator = MultipleLocator(0.5)  # subdivisio entre les ticks petites\n",
    "\n",
    "ax.xaxis.set_major_locator(majorLocator)\n",
    "ax.xaxis.set_major_formatter(majorFormatter)\n",
    "\n",
    "#plt.xlabel(\"drift time (mus)\",fontsize=15)\n",
    "#plt.ylabel(\"Events\",fontsize=15)\n",
    "    \n",
    "# for the minor ticks, use no labels; default NullFormatter\n",
    "ax.xaxis.set_minor_locator(minorLocator)\n",
    "ax.tick_params(which='both', direction='in')\n",
    "\n",
    "#plt.rc('font', weight='bold')\n",
    "\n",
    "#ax.xaxis.set_minor_locator(AutoMinorLocator())\n",
    "ax.yaxis.set_minor_locator(AutoMinorLocator())\n",
    "ax.xaxis.set_label_coords(0.9, -0.10)\n",
    "ax.yaxis.set_label_coords(-0.1, 0.95)\n",
    "\n",
    "#ax.text(0.3, 0.8, '', \n",
    "#          verticalalignment='center', horizontalalignment='center',\n",
    "#          transform=axes.transAxes, fontsize=20)\n",
    "\n",
    "plt.legend(loc='upper right')\n",
    "h1.savefig(\"h1\")"
   ]
  },
  {
   "cell_type": "code",
   "execution_count": 8,
   "metadata": {
    "collapsed": false
   },
   "outputs": [
    {
     "data": {
      "image/png": "[encoded data removed]",
      "text/plain": [
       "<matplotlib.figure.Figure at 0x115cc5f98>"
      ]
     },
     "metadata": {},
     "output_type": "display_data"
    }
   ],
   "source": [
    "a = prop.myhistos(_S1map.wS12_, 10 ,0., 0.4, color=\"red\",title=\"\", xlabel =\"x (cm)\", ylabel = \"Events\")\n",
    "b = prop.myhistos(_S1map.wS12_, 10 ,0., 0.4, color=\"blue\",title=\"\", xlabel =\"x (cm)\", ylabel = \"Events\")\n",
    "#plt.show()"
   ]
  },
  {
   "cell_type": "code",
   "execution_count": 9,
   "metadata": {
    "collapsed": false
   },
   "outputs": [],
   "source": [
    "#prop.Histo(_S1map.wS12_,100,\"title\", \"x\", \"Entries\")"
   ]
  },
  {
   "cell_type": "code",
   "execution_count": null,
   "metadata": {
    "collapsed": true
   },
   "outputs": [],
   "source": []
  },
  {
   "cell_type": "code",
   "execution_count": null,
   "metadata": {
    "collapsed": true
   },
   "outputs": [],
   "source": []
  }
 ],
 "metadata": {
  "kernelspec": {
   "display_name": "Python 3",
   "language": "python",
   "name": "python3"
  },
  "language_info": {
   "codemirror_mode": {
    "name": "ipython",
    "version": 3
   },
   "file_extension": ".py",
   "mimetype": "text/x-python",
   "name": "python",
   "nbconvert_exporter": "python",
   "pygments_lexer": "ipython3",
   "version": "3.5.2"
  }
 },
 "nbformat": 4,
 "nbformat_minor": 2
}
