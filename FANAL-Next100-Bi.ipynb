{
 "cells": [
  {
   "cell_type": "markdown",
   "metadata": {},
   "source": [
    "## Analisis next100 in IC"
   ]
  },
  {
   "cell_type": "markdown",
   "metadata": {},
   "source": [
    "### This notebook performs two tasks:\n",
    "1. reads nexus files and performs energy smearing, voxelization and fidicialization to write output in hdf5 file format\n",
    "2. read back file from 1. to make tracks and perform standard analysis"
   ]
  },
  {
   "cell_type": "markdown",
   "metadata": {},
   "source": [
    "### <u> Energy Smearing </u> : $ ~~~~ E_{tot} \\to E'_{tot}$, obtain ratio $F = E'_{tot}/E_{tot}$\n",
    "\n",
    "The smearing takes into account that the energy resolution at the $Q_{\\beta\\beta}$ is 0.75% FWHM; \n",
    "\n",
    "and the relation that the resolution as a function of E follows:  $1/\\sqrt(E)$ from $\\frac{\\sigma(E)}{E} = \\frac{a}{\\sqrt E}$, where $a$ is the stochastic term\n",
    "\n",
    "Inputs: 1) energy resolution in % and FWHM at $Q_{\\beta\\beta}$, 2) energy of the event $E$\n",
    "\n",
    "Steps: \n",
    "\n",
    " a) obtain resolution at the given energy: $\\sigma$       (FWHM = $2 ~ \\sqrt{2~ ln ~ 2}~ \\sigma$ )\n",
    "\n",
    " b) build a Gaussian function with $\\mu$ energy of the event and $\\sigma$ obtained in a) ---> TODO: gaussian 0 ,1 \n",
    "       \n",
    " c) obtain $E'_{tot}$ from the Gaussian in in **b)**\n",
    " \n",
    " \n",
    " \n",
    " ### Function:\n",
    "     1. fwhm_at_Qvalue in %\n",
    "     2. event_energy in MeV\n",
    "     3. sigma_at_Qvalue and sigma_at_event_energy adimensional\n",
    "     4. returns smear_energy adimensional from a Gaussian centered in 1 and sigma sigma_at_event_energy\n",
    "\n"
   ]
  },
  {
   "cell_type": "code",
   "execution_count": 1,
   "metadata": {},
   "outputs": [],
   "source": [
    "from collections import namedtuple\n",
    "\n",
    "smearing = namedtuple(\"Smearing\", ['factor', 'energy'])\n",
    "\n",
    "def fwhm_at_event_energy (fwhm_at_Qvalue, event_energy):\n",
    "    Qvalue = 2.458\n",
    "    fwhm_at_event_energy = fwhm_at_Qvalue * np.sqrt(Qvalue) / np.sqrt(event_energy)\n",
    "    return fwhm_at_event_energy\n",
    "\n",
    "def smeared_energy ( fwhm_at_Qvalue, event_energy ):\n",
    "    fwhm   = fwhm_at_event_energy (fwhm_at_Qvalue, event_energy)\n",
    "    sigma  = fwhm / (100 * 2 * np.sqrt(2*np.log(2)))\n",
    "    smearing_factor = np.random.normal( 1 ,sigma)\n",
    "    event_energy_smear = event_energy * smearing_factor\n",
    "    return smearing(factor = smearing_factor, energy = event_energy_smear)"
   ]
  },
  {
   "cell_type": "markdown",
   "metadata": {},
   "source": [
    "#### Smearing of voxels:     $~~~~~E'_{vox}= E_{vox}/E_{tot} \\times E'_{tot}$\n",
    "\n"
   ]
  },
  {
   "cell_type": "code",
   "execution_count": 2,
   "metadata": {},
   "outputs": [],
   "source": [
    "def smeared_energy_voxel (evoxel, etot, e_smear ):\n",
    "    return evoxel * e_smear / etot   "
   ]
  },
  {
   "cell_type": "markdown",
   "metadata": {},
   "source": [
    "### <u> Fiducial cut </u>:   \n",
    "exclude a region of <font color=red> **20 mm** </font> around the boundaries of the active volume, a) for the smear voxel and b) for the original voxel\n",
    "\n",
    "Exclude events with voxels located in the vetoed region with energy above **10 keV** (the detection threshold of the tracking plane)\n",
    "\n",
    "Dimensions of next100 detector: **anodePos, cathodePos, radius =  (0., 1300., 534.5)** mm\n",
    "\n",
    "### $x^2+y^2 < 534.5-fid$"
   ]
  },
  {
   "cell_type": "markdown",
   "metadata": {},
   "source": [
    "### Next100 nexus test input file:"
   ]
  },
  {
   "cell_type": "code",
   "execution_count": 3,
   "metadata": {},
   "outputs": [
    {
     "name": "stdout",
     "output_type": "stream",
     "text": [
      "\u001b[31m/Users/neus/current-work/tonne-work/nexus-files-next100/bi/Bi214-000-.next\u001b[m\u001b[m\r\n",
      "\u001b[31m/Users/neus/current-work/tonne-work/nexus-files-next100/bi/Bi214-000-.next.h5\u001b[m\u001b[m\r\n",
      "\u001b[31m/Users/neus/current-work/tonne-work/nexus-files-next100/bi/Bi214-001-.next\u001b[m\u001b[m\r\n",
      "\u001b[31m/Users/neus/current-work/tonne-work/nexus-files-next100/bi/Bi214-001-.next.h5\u001b[m\u001b[m\r\n",
      "\u001b[31m/Users/neus/current-work/tonne-work/nexus-files-next100/bi/Bi214-002-.next\u001b[m\u001b[m\r\n",
      "\u001b[31m/Users/neus/current-work/tonne-work/nexus-files-next100/bi/Bi214-002-.next.h5\u001b[m\u001b[m\r\n",
      "\u001b[31m/Users/neus/current-work/tonne-work/nexus-files-next100/bi/Bi214-003-.next\u001b[m\u001b[m\r\n",
      "\u001b[31m/Users/neus/current-work/tonne-work/nexus-files-next100/bi/Bi214-003-.next.h5\u001b[m\u001b[m\r\n",
      "\u001b[31m/Users/neus/current-work/tonne-work/nexus-files-next100/bi/Bi214-004-.next\u001b[m\u001b[m\r\n",
      "\u001b[31m/Users/neus/current-work/tonne-work/nexus-files-next100/bi/Bi214-004-.next.h5\u001b[m\u001b[m\r\n",
      "\u001b[31m/Users/neus/current-work/tonne-work/nexus-files-next100/bi/Bi214-005-.next\u001b[m\u001b[m\r\n",
      "\u001b[31m/Users/neus/current-work/tonne-work/nexus-files-next100/bi/Bi214-005-.next.h5\u001b[m\u001b[m\r\n",
      "\u001b[31m/Users/neus/current-work/tonne-work/nexus-files-next100/bi/Bi214-006-.next\u001b[m\u001b[m\r\n",
      "\u001b[31m/Users/neus/current-work/tonne-work/nexus-files-next100/bi/Bi214-006-.next.h5\u001b[m\u001b[m\r\n",
      "\u001b[31m/Users/neus/current-work/tonne-work/nexus-files-next100/bi/Bi214-007-.next\u001b[m\u001b[m\r\n",
      "\u001b[31m/Users/neus/current-work/tonne-work/nexus-files-next100/bi/Bi214-007-.next.h5\u001b[m\u001b[m\r\n",
      "\u001b[31m/Users/neus/current-work/tonne-work/nexus-files-next100/bi/Bi214-008-.next\u001b[m\u001b[m\r\n",
      "\u001b[31m/Users/neus/current-work/tonne-work/nexus-files-next100/bi/Bi214-008-.next.h5\u001b[m\u001b[m\r\n",
      "\u001b[31m/Users/neus/current-work/tonne-work/nexus-files-next100/bi/Bi214-009-.next\u001b[m\u001b[m\r\n",
      "\u001b[31m/Users/neus/current-work/tonne-work/nexus-files-next100/bi/Bi214-009-.next.h5\u001b[m\u001b[m\r\n",
      "\u001b[31m/Users/neus/current-work/tonne-work/nexus-files-next100/bi/Bi214-010-.next\u001b[m\u001b[m\r\n",
      "\u001b[31m/Users/neus/current-work/tonne-work/nexus-files-next100/bi/Bi214-010-.next.h5\u001b[m\u001b[m\r\n",
      "\u001b[31m/Users/neus/current-work/tonne-work/nexus-files-next100/bi/Bi214-011-.next\u001b[m\u001b[m\r\n",
      "\u001b[31m/Users/neus/current-work/tonne-work/nexus-files-next100/bi/Bi214-011-.next.h5\u001b[m\u001b[m\r\n",
      "\u001b[31m/Users/neus/current-work/tonne-work/nexus-files-next100/bi/Bi214-012-.next\u001b[m\u001b[m\r\n",
      "\u001b[31m/Users/neus/current-work/tonne-work/nexus-files-next100/bi/Bi214-012-.next.h5\u001b[m\u001b[m\r\n",
      "\u001b[31m/Users/neus/current-work/tonne-work/nexus-files-next100/bi/Bi214-013-.next\u001b[m\u001b[m\r\n",
      "\u001b[31m/Users/neus/current-work/tonne-work/nexus-files-next100/bi/Bi214-013-.next.h5\u001b[m\u001b[m\r\n",
      "\u001b[31m/Users/neus/current-work/tonne-work/nexus-files-next100/bi/Bi214-014-.next\u001b[m\u001b[m\r\n",
      "\u001b[31m/Users/neus/current-work/tonne-work/nexus-files-next100/bi/Bi214-014-.next.h5\u001b[m\u001b[m\r\n",
      "\u001b[31m/Users/neus/current-work/tonne-work/nexus-files-next100/bi/Bi214-015-.next\u001b[m\u001b[m\r\n",
      "\u001b[31m/Users/neus/current-work/tonne-work/nexus-files-next100/bi/Bi214-015-.next.h5\u001b[m\u001b[m\r\n",
      "\u001b[31m/Users/neus/current-work/tonne-work/nexus-files-next100/bi/Bi214-016-.next\u001b[m\u001b[m\r\n",
      "\u001b[31m/Users/neus/current-work/tonne-work/nexus-files-next100/bi/Bi214-016-.next.h5\u001b[m\u001b[m\r\n",
      "\u001b[31m/Users/neus/current-work/tonne-work/nexus-files-next100/bi/Bi214-017-.next\u001b[m\u001b[m\r\n",
      "\u001b[31m/Users/neus/current-work/tonne-work/nexus-files-next100/bi/Bi214-017-.next.h5\u001b[m\u001b[m\r\n",
      "\u001b[31m/Users/neus/current-work/tonne-work/nexus-files-next100/bi/Bi214-018-.next\u001b[m\u001b[m\r\n",
      "\u001b[31m/Users/neus/current-work/tonne-work/nexus-files-next100/bi/Bi214-018-.next.h5\u001b[m\u001b[m\r\n",
      "\u001b[31m/Users/neus/current-work/tonne-work/nexus-files-next100/bi/Bi214-019-.next\u001b[m\u001b[m\r\n",
      "\u001b[31m/Users/neus/current-work/tonne-work/nexus-files-next100/bi/Bi214-019-.next.h5\u001b[m\u001b[m\r\n",
      "\u001b[31m/Users/neus/current-work/tonne-work/nexus-files-next100/bi/Bi214-020-.next\u001b[m\u001b[m\r\n",
      "\u001b[31m/Users/neus/current-work/tonne-work/nexus-files-next100/bi/Bi214-020-.next.h5\u001b[m\u001b[m\r\n",
      "\u001b[31m/Users/neus/current-work/tonne-work/nexus-files-next100/bi/Bi214-021-.next\u001b[m\u001b[m\r\n",
      "\u001b[31m/Users/neus/current-work/tonne-work/nexus-files-next100/bi/Bi214-021-.next.h5\u001b[m\u001b[m\r\n",
      "\u001b[31m/Users/neus/current-work/tonne-work/nexus-files-next100/bi/Bi214-022-.next\u001b[m\u001b[m\r\n",
      "\u001b[31m/Users/neus/current-work/tonne-work/nexus-files-next100/bi/Bi214-022-.next.h5\u001b[m\u001b[m\r\n",
      "\u001b[31m/Users/neus/current-work/tonne-work/nexus-files-next100/bi/Bi214-023-.next\u001b[m\u001b[m\r\n",
      "\u001b[31m/Users/neus/current-work/tonne-work/nexus-files-next100/bi/Bi214-023-.next.h5\u001b[m\u001b[m\r\n",
      "\u001b[31m/Users/neus/current-work/tonne-work/nexus-files-next100/bi/Bi214-024-.next\u001b[m\u001b[m\r\n",
      "\u001b[31m/Users/neus/current-work/tonne-work/nexus-files-next100/bi/Bi214-024-.next.h5\u001b[m\u001b[m\r\n",
      "\u001b[31m/Users/neus/current-work/tonne-work/nexus-files-next100/bi/Bi214-025-.next\u001b[m\u001b[m\r\n",
      "\u001b[31m/Users/neus/current-work/tonne-work/nexus-files-next100/bi/Bi214-025-.next.h5\u001b[m\u001b[m\r\n",
      "\u001b[31m/Users/neus/current-work/tonne-work/nexus-files-next100/bi/Bi214-026-.next\u001b[m\u001b[m\r\n",
      "\u001b[31m/Users/neus/current-work/tonne-work/nexus-files-next100/bi/Bi214-026-.next.h5\u001b[m\u001b[m\r\n",
      "\u001b[31m/Users/neus/current-work/tonne-work/nexus-files-next100/bi/Bi214-027-.next\u001b[m\u001b[m\r\n",
      "\u001b[31m/Users/neus/current-work/tonne-work/nexus-files-next100/bi/Bi214-027-.next.h5\u001b[m\u001b[m\r\n",
      "\u001b[31m/Users/neus/current-work/tonne-work/nexus-files-next100/bi/Bi214-028-.next\u001b[m\u001b[m\r\n",
      "\u001b[31m/Users/neus/current-work/tonne-work/nexus-files-next100/bi/Bi214-028-.next.h5\u001b[m\u001b[m\r\n",
      "\u001b[31m/Users/neus/current-work/tonne-work/nexus-files-next100/bi/Bi214-030-.next\u001b[m\u001b[m\r\n",
      "\u001b[31m/Users/neus/current-work/tonne-work/nexus-files-next100/bi/Bi214-030-.next.h5\u001b[m\u001b[m\r\n",
      "\u001b[31m/Users/neus/current-work/tonne-work/nexus-files-next100/bi/Bi214-031-.next\u001b[m\u001b[m\r\n",
      "\u001b[31m/Users/neus/current-work/tonne-work/nexus-files-next100/bi/Bi214-031-.next.h5\u001b[m\u001b[m\r\n",
      "\u001b[31m/Users/neus/current-work/tonne-work/nexus-files-next100/bi/Bi214-032-.next\u001b[m\u001b[m\r\n",
      "\u001b[31m/Users/neus/current-work/tonne-work/nexus-files-next100/bi/Bi214-032-.next.h5\u001b[m\u001b[m\r\n",
      "\u001b[31m/Users/neus/current-work/tonne-work/nexus-files-next100/bi/Bi214-033-.next\u001b[m\u001b[m\r\n",
      "\u001b[31m/Users/neus/current-work/tonne-work/nexus-files-next100/bi/Bi214-033-.next.h5\u001b[m\u001b[m\r\n",
      "\u001b[31m/Users/neus/current-work/tonne-work/nexus-files-next100/bi/Bi214-034-.next\u001b[m\u001b[m\r\n",
      "\u001b[31m/Users/neus/current-work/tonne-work/nexus-files-next100/bi/Bi214-034-.next.h5\u001b[m\u001b[m\r\n",
      "\u001b[31m/Users/neus/current-work/tonne-work/nexus-files-next100/bi/Bi214-035-.next\u001b[m\u001b[m\r\n",
      "\u001b[31m/Users/neus/current-work/tonne-work/nexus-files-next100/bi/Bi214-035-.next.h5\u001b[m\u001b[m\r\n",
      "\u001b[31m/Users/neus/current-work/tonne-work/nexus-files-next100/bi/Bi214-036-.next\u001b[m\u001b[m\r\n",
      "\u001b[31m/Users/neus/current-work/tonne-work/nexus-files-next100/bi/Bi214-036-.next.h5\u001b[m\u001b[m\r\n",
      "\u001b[31m/Users/neus/current-work/tonne-work/nexus-files-next100/bi/Bi214-037-.next\u001b[m\u001b[m\r\n",
      "\u001b[31m/Users/neus/current-work/tonne-work/nexus-files-next100/bi/Bi214-037-.next.h5\u001b[m\u001b[m\r\n",
      "\u001b[31m/Users/neus/current-work/tonne-work/nexus-files-next100/bi/Bi214-038-.next\u001b[m\u001b[m\r\n",
      "\u001b[31m/Users/neus/current-work/tonne-work/nexus-files-next100/bi/Bi214-038-.next.h5\u001b[m\u001b[m\r\n",
      "\u001b[31m/Users/neus/current-work/tonne-work/nexus-files-next100/bi/Bi214-039-.next\u001b[m\u001b[m\r\n",
      "\u001b[31m/Users/neus/current-work/tonne-work/nexus-files-next100/bi/Bi214-039-.next.h5\u001b[m\u001b[m\r\n"
     ]
    }
   ],
   "source": [
    "input_files = \"/Users/neus/current-work/tonne-work/nexus-files-next100/bi/Bi214*-.next.h5\"\n",
    "!ls /Users/neus/current-work/tonne-work/nexus-files-next100/bi/Bi214-0*"
   ]
  },
  {
   "cell_type": "markdown",
   "metadata": {},
   "source": [
    "### Imports:"
   ]
  },
  {
   "cell_type": "code",
   "execution_count": 4,
   "metadata": {},
   "outputs": [
    {
     "name": "stdout",
     "output_type": "stream",
     "text": [
      "Running on  Thu Oct 25 18:16:57 2018\n"
     ]
    }
   ],
   "source": [
    "import sys\n",
    "import os\n",
    "import shutil\n",
    "import functools\n",
    "import time\n",
    "import glob\n",
    "\n",
    "%matplotlib inline\n",
    "print(\"Running on \", time.asctime())\n",
    "\n",
    "import numpy             as np\n",
    "import tables            as tb\n",
    "import matplotlib.pyplot as plt\n",
    "from   matplotlib.colors import LogNorm\n",
    "import pandas as pd"
   ]
  },
  {
   "cell_type": "code",
   "execution_count": 5,
   "metadata": {},
   "outputs": [
    {
     "data": {
      "text/plain": [
       "'3.6.6'"
      ]
     },
     "execution_count": 5,
     "metadata": {},
     "output_type": "execute_result"
    }
   ],
   "source": [
    "import platform\n",
    "platform.python_version()"
   ]
  },
  {
   "cell_type": "code",
   "execution_count": 6,
   "metadata": {},
   "outputs": [],
   "source": [
    "from invisible_cities.icaro.hst_functions import hist\n",
    "from invisible_cities.icaro.hst_functions import hist2d\n",
    "from invisible_cities.icaro.hst_functions import pdf\n",
    "from invisible_cities.icaro.hst_functions import labels\n",
    "from invisible_cities.icaro.hst_functions import display_matrix\n",
    "from invisible_cities.icaro.hst_functions import covariance\n",
    "from invisible_cities.icaro.hst_functions import resolution\n",
    "from invisible_cities.icaro.hst_functions import gausstext\n",
    "from invisible_cities.icaro.hst_functions import shift_to_bin_centers\n",
    "from invisible_cities.icaro.hst_functions import plot_writer\n",
    "from invisible_cities.icaro.hst_functions import measurement_string\n",
    "\n",
    "from invisible_cities.icaro.mpl_functions import plt_scatter3d,plt_scatter2d\n"
   ]
  },
  {
   "cell_type": "code",
   "execution_count": 7,
   "metadata": {},
   "outputs": [],
   "source": [
    "from networkx                   import Graph\n",
    "from invisible_cities.evm.event_model         import Voxel\n",
    "from invisible_cities.evm.event_model         import VoxelCollection\n",
    "from invisible_cities.core.exceptions         import NoHits\n",
    "from invisible_cities.core.exceptions         import NoVoxels\n",
    "from invisible_cities.evm.event_model         import MCHit\n",
    "from invisible_cities.evm.event_model         import BHit\n",
    "from invisible_cities.evm.event_model         import Voxel\n",
    "from invisible_cities.evm.event_model         import Track\n",
    "from invisible_cities.evm.event_model         import Blob\n",
    "from invisible_cities.evm.event_model         import TrackCollection\n",
    "from invisible_cities.core.system_of_units_c  import units\n",
    "\n",
    "from invisible_cities.reco.paolina_functions  import *\n",
    "from invisible_cities.io.mcinfo_io            import *\n",
    "\n",
    "from invisible_cities.reco import tbl_functions as tbl"
   ]
  },
  {
   "cell_type": "markdown",
   "metadata": {},
   "source": [
    "### Build hdf5 output: (missing: add table with production info)"
   ]
  },
  {
   "cell_type": "code",
   "execution_count": 8,
   "metadata": {},
   "outputs": [],
   "source": [
    "class VoxelsTable(tb.IsDescription):\n",
    "    event    = tb.  Int32Col(pos=0)\n",
    "    time     = tb.Float64Col(pos=1)\n",
    "    energy   = tb.Float64Col(pos=2)\n",
    "    energyS  = tb.Float64Col(pos=3)\n",
    "    X        = tb.Float64Col(pos=4)\n",
    "    Y        = tb.Float64Col(pos=5) \n",
    "    Z        = tb.Float64Col(pos=6)\n",
    "    E_v      = tb.Float64Col(pos=7)\n",
    "    ES_v     = tb.Float64Col(pos=8)\n",
    "    Etot_v   = tb.Float64Col(pos=9)\n",
    "    EStot_v  = tb.Float64Col(pos=10)\n"
   ]
  },
  {
   "cell_type": "code",
   "execution_count": 9,
   "metadata": {},
   "outputs": [],
   "source": [
    "output_file = \"voxels-Bi.h5\"\n",
    "FILTERS = tb.Filters(complib='zlib', complevel=4)\n",
    "h5file = tb.open_file(output_file, 'w', filters=FILTERS, title = \"Voxels file\") \n",
    "group = h5file.create_group(\"/\", 'events', 'Voxels information')\n",
    "table = h5file.create_table(group, 'voxels', VoxelsTable, \"voxels\")\n",
    "row = table.row"
   ]
  },
  {
   "cell_type": "markdown",
   "metadata": {},
   "source": [
    "### Read mc hits from nexus:\n",
    "0. use function *load_mchits* to get a dictionary whose keys are ID_number and values are a list of MCHit (from the IC Event Model)\n",
    "1. smear energy\n",
    "2. voxelize\n",
    "3. fiducialize \n",
    "4. write hdf5 file containing a table with variables: eventID, X, Y, Z, E"
   ]
  },
  {
   "cell_type": "code",
   "execution_count": 10,
   "metadata": {},
   "outputs": [
    {
     "name": "stdout",
     "output_type": "stream",
     "text": [
      "/Users/neus/current-work/tonne-work/nexus-files-next100/bi/Bi214-038-.next.h5\n",
      "/Users/neus/current-work/tonne-work/nexus-files-next100/bi/Bi214-039-.next.h5\n",
      "/Users/neus/current-work/tonne-work/nexus-files-next100/bi/Bi214-006-.next.h5\n",
      "/Users/neus/current-work/tonne-work/nexus-files-next100/bi/Bi214-007-.next.h5\n",
      "/Users/neus/current-work/tonne-work/nexus-files-next100/bi/Bi214-032-.next.h5\n",
      "/Users/neus/current-work/tonne-work/nexus-files-next100/bi/Bi214-033-.next.h5\n",
      "/Users/neus/current-work/tonne-work/nexus-files-next100/bi/Bi214-011-.next.h5\n",
      "/Users/neus/current-work/tonne-work/nexus-files-next100/bi/Bi214-010-.next.h5\n",
      "/Users/neus/current-work/tonne-work/nexus-files-next100/bi/Bi214-025-.next.h5\n",
      "/Users/neus/current-work/tonne-work/nexus-files-next100/bi/Bi214-024-.next.h5\n",
      "/Users/neus/current-work/tonne-work/nexus-files-next100/bi/Bi214-028-.next.h5\n",
      "/Users/neus/current-work/tonne-work/nexus-files-next100/bi/Bi214-016-.next.h5\n",
      "/Users/neus/current-work/tonne-work/nexus-files-next100/bi/Bi214-017-.next.h5\n",
      "/Users/neus/current-work/tonne-work/nexus-files-next100/bi/Bi214-022-.next.h5\n",
      "/Users/neus/current-work/tonne-work/nexus-files-next100/bi/Bi214-023-.next.h5\n",
      "/Users/neus/current-work/tonne-work/nexus-files-next100/bi/Bi214-001-.next.h5\n",
      "/Users/neus/current-work/tonne-work/nexus-files-next100/bi/Bi214-000-.next.h5\n",
      "/Users/neus/current-work/tonne-work/nexus-files-next100/bi/Bi214-035-.next.h5\n",
      "/Users/neus/current-work/tonne-work/nexus-files-next100/bi/Bi214-034-.next.h5\n",
      "/Users/neus/current-work/tonne-work/nexus-files-next100/bi/Bi214-026-.next.h5\n",
      "/Users/neus/current-work/tonne-work/nexus-files-next100/bi/Bi214-027-.next.h5\n",
      "/Users/neus/current-work/tonne-work/nexus-files-next100/bi/Bi214-018-.next.h5\n",
      "/Users/neus/current-work/tonne-work/nexus-files-next100/bi/Bi214-019-.next.h5\n",
      "/Users/neus/current-work/tonne-work/nexus-files-next100/bi/Bi214-012-.next.h5\n",
      "/Users/neus/current-work/tonne-work/nexus-files-next100/bi/Bi214-013-.next.h5\n",
      "/Users/neus/current-work/tonne-work/nexus-files-next100/bi/Bi214-031-.next.h5\n",
      "/Users/neus/current-work/tonne-work/nexus-files-next100/bi/Bi214-030-.next.h5\n",
      "/Users/neus/current-work/tonne-work/nexus-files-next100/bi/Bi214-005-.next.h5\n",
      "/Users/neus/current-work/tonne-work/nexus-files-next100/bi/Bi214-004-.next.h5\n",
      "/Users/neus/current-work/tonne-work/nexus-files-next100/bi/Bi214-036-.next.h5\n",
      "/Users/neus/current-work/tonne-work/nexus-files-next100/bi/Bi214-037-.next.h5\n",
      "/Users/neus/current-work/tonne-work/nexus-files-next100/bi/Bi214-008-.next.h5\n",
      "/Users/neus/current-work/tonne-work/nexus-files-next100/bi/Bi214-009-.next.h5\n",
      "/Users/neus/current-work/tonne-work/nexus-files-next100/bi/Bi214-002-.next.h5\n",
      "/Users/neus/current-work/tonne-work/nexus-files-next100/bi/Bi214-003-.next.h5\n",
      "/Users/neus/current-work/tonne-work/nexus-files-next100/bi/Bi214-021-.next.h5\n",
      "/Users/neus/current-work/tonne-work/nexus-files-next100/bi/Bi214-020-.next.h5\n",
      "/Users/neus/current-work/tonne-work/nexus-files-next100/bi/Bi214-015-.next.h5\n",
      "/Users/neus/current-work/tonne-work/nexus-files-next100/bi/Bi214-014-.next.h5\n",
      "+++++++-------------------------------------------------+++++++\n",
      "\n",
      "Total events analized =                      = 27739\n",
      "Events passing energy smearing cut           = 14920\n",
      "Events passing fiducial cut                  = 11269\n",
      "\n",
      "\n",
      "+++++++-------------------------------------------------+++++++\n"
     ]
    }
   ],
   "source": [
    "# cuts (energies in MeV, dimensions in mm)\n",
    "emin      = 2.4 \n",
    "emax      = 2.5\n",
    "tpc_radius = 534.5 \n",
    "fid_cut    = 20.0\n",
    "fid        = tpc_radius - fid_cut\n",
    "zmin       = 0. + fid_cut\n",
    "zmax       = 1200.0 - fid_cut \n",
    " \n",
    "# parameters\n",
    "voxel_dim    = np.array([10,10,10]) # mm\n",
    "\n",
    "# counters\n",
    "evtot = 0\n",
    "c_Es_smear      = 0\n",
    "c_fid           = 0\n",
    "\n",
    "\n",
    "for input_file in glob.glob(input_files):\n",
    "    \n",
    "    print(input_file)\n",
    "    events =  load_mchits(input_file)\n",
    "    evtot = evtot + len(events)\n",
    "    for evID, hits in events.items():\n",
    "        fiducial_cut     = False \n",
    "        Es = sum(hit.E for hit in hits)\n",
    "        Es_smear = smeared_energy(0.75, Es).energy\n",
    "        \n",
    "        if( emin < Es_smear < emax ):\n",
    "            c_Es_smear += 1\n",
    "            voxels = voxelize_hits(hits,voxel_dim) \n",
    "            totE_voxel  = sum(voxel.E for voxel in voxels)\n",
    "            totES_voxel = sum(smeared_energy_voxel (voxel.E, Es, Es_smear ) for voxel in voxels)\n",
    "            for voxel in voxels:\n",
    "                if( (np.sqrt( voxel.X**2 + voxel.Y**2) < fid ) and zmin < voxel.Z < zmax ):\n",
    "                    fiducial_cut = True\n",
    "                    row[\"event\" ]  = evID\n",
    "                    row[\"time\"  ]  = 0.\n",
    "                    row[\"energy\"]  = Es\n",
    "                    row[\"energyS\"] = Es_smear\n",
    "                    row[\"X\"     ]  = voxel.X\n",
    "                    row[\"Y\"     ]  = voxel.Y\n",
    "                    row[\"Z\"     ]  = voxel.Z\n",
    "                    row[\"E_v\"]     = voxel.E\n",
    "                    row[\"ES_v\"]    = smeared_energy_voxel (voxel.E, Es, Es_smear )\n",
    "                    row[\"Etot_v\"]  = totE_voxel\n",
    "                    row[\"EStot_v\"] = totES_voxel\n",
    "                    row.append()\n",
    "                else: \n",
    "                    break                    \n",
    "        else: \n",
    "            continue\n",
    "\n",
    "        if ( fiducial_cut )     : c_fid            += 1\n",
    "\n",
    "table.flush()  \n",
    "h5file.close()\n",
    "        \n",
    "print(\"+++++++-------------------------------------------------+++++++\\n\")\n",
    "print(\"Total events analized =                      = \" + str(evtot))\n",
    "print(\"Events passing energy smearing cut           = \" + str(c_Es_smear))\n",
    "print(\"Events passing fiducial cut                  = \" + str(c_fid))\n",
    "print(\"\\n\")     \n",
    "print(\"+++++++-------------------------------------------------+++++++\")\n"
   ]
  },
  {
   "cell_type": "markdown",
   "metadata": {},
   "source": [
    "### Read back the pytable using DataFrames"
   ]
  },
  {
   "cell_type": "code",
   "execution_count": null,
   "metadata": {},
   "outputs": [],
   "source": [
    "intable = tb.open_file(output_file,mode='r')\n",
    "to_df = pd.DataFrame.from_records\n",
    "data = to_df(intable.root.events.voxels.read())\n",
    "data.head(10)\n",
    "#data"
   ]
  },
  {
   "cell_type": "code",
   "execution_count": null,
   "metadata": {},
   "outputs": [],
   "source": [
    "events = data['event'].unique().tolist()\n",
    "#print(min(events),\" to \",max(events))\n",
    "len(events)"
   ]
  },
  {
   "cell_type": "code",
   "execution_count": null,
   "metadata": {},
   "outputs": [],
   "source": [
    "type(data)"
   ]
  },
  {
   "cell_type": "code",
   "execution_count": null,
   "metadata": {},
   "outputs": [],
   "source": [
    "#events"
   ]
  },
  {
   "cell_type": "code",
   "execution_count": null,
   "metadata": {},
   "outputs": [],
   "source": [
    "energies               = data['energy'] .values\n",
    "energies_Smear         = data['energyS'].values\n",
    "voxel_energies         = data['E_v']    .values\n",
    "voxel_energies_Smear   = data['ES_v']   .values\n",
    "v_x                    = data['X']      .values\n",
    "v_y                    = data['Y']      .values\n",
    "v_z                    = data['Z']      .values\n",
    "tot_energies_v         = data['Etot_v'] .values\n",
    "tot_energies_Smear_v   = data['EStot_v'].values\n"
   ]
  },
  {
   "cell_type": "code",
   "execution_count": null,
   "metadata": {},
   "outputs": [],
   "source": [
    "fig = plt.figure(figsize = (12,9))\n",
    "bins = 100\n",
    "\n",
    "ax1 = fig.add_subplot(2,2,1)\n",
    "plt.hist(energies_Smear,bins,[2.3,2.5])\n",
    "plt.hist(energies,100,[2.3,2.5])\n",
    "plt.yscale('log', nonposy='clip')\n",
    "plt.xlabel('Total energy (MeV)')\n",
    "\n",
    "ax2 = fig.add_subplot(2,2,2)\n",
    "plt.hist(energies_Smear,bins,[2.3,2.5])\n",
    "plt.xlabel('Total energy smeared (MeV)')\n",
    "\n",
    "\n",
    "ax3 = fig.add_subplot(2,2,3)\n",
    "plt.hist(voxel_energies_Smear, bins, stacked=True)\n",
    "plt.hist(voxel_energies, bins, stacked=True, )\n",
    "plt.xlabel('voxels energy (MeV)')\n",
    "\n",
    "\n",
    "ax4 = fig.add_subplot(2,2,4)\n",
    "plt.yscale('log', nonposy='clip')\n",
    "plt.hist( voxel_energies - voxel_energies_Smear , bins)\n",
    "plt.xlabel('voxels energy - voxels energy smeared (MeV)')\n",
    "\n"
   ]
  },
  {
   "cell_type": "code",
   "execution_count": null,
   "metadata": {},
   "outputs": [],
   "source": [
    "bins = 100\n",
    "\n",
    "fig = plt.figure(figsize = (12,9))\n",
    "\n",
    "ax1 = fig.add_subplot(2,2,1)\n",
    "plt.hist(tot_energies_Smear_v,bins)\n",
    "plt.hist(tot_energies_v, bins)\n",
    "plt.yscale('log', nonposy='clip')\n",
    "plt.xlabel('tot E of the event from voxelsE (MeV) (from smeared and non smeared voxelsE)')\n",
    "\n",
    "ax2 = fig.add_subplot(2,2,2)\n",
    "plt.hist(v_x, bins)\n",
    "plt.xlabel('voxels Y (mm)')\n",
    "\n",
    "ax3 = fig.add_subplot(2,2,3)\n",
    "plt.hist(v_y, bins)\n",
    "plt.xlabel('voxels Z (mm)')\n",
    "\n",
    "ax1 = fig.add_subplot(2,2,4)\n",
    "plt.hist(v_z, bins)\n",
    "plt.xlabel('voxels X (mm)')\n",
    "\n",
    "plt.show()\n",
    "\n"
   ]
  },
  {
   "cell_type": "code",
   "execution_count": null,
   "metadata": {},
   "outputs": [],
   "source": [
    "bins = 100\n",
    "\n",
    "fig = plt.figure(figsize = (12,9))\n",
    "ax1 = fig.add_subplot(2,2,1)\n",
    "plt.hist2d(v_x, v_y, bins, norm=LogNorm())\n",
    "plt.colorbar()\n",
    "plt.title('X-Y voxels position')\n",
    "plt.xlabel('X (mm)')\n",
    "plt.ylabel('Y (mm)')\n",
    "\n",
    "\n",
    "ax2 = fig.add_subplot(2,2,2)\n",
    "plt.hist2d(v_z, v_x, bins, norm=LogNorm())\n",
    "plt.colorbar()\n",
    "plt.title('Z-X voxels position')\n",
    "plt.xlabel('Z (mm)')\n",
    "plt.ylabel('X (mm)')\n",
    "\n",
    "ax3 = fig.add_subplot(2,2,3)\n",
    "ax3.hist2d(v_z, v_y, bins, norm=LogNorm())\n",
    "plt.colorbar()\n",
    "plt.title('Z-Y voxels position')\n",
    "plt.xlabel('Z (mm)')\n",
    "plt.ylabel('Y (mm)')\n",
    "plt.show()\n",
    "\n"
   ]
  },
  {
   "cell_type": "code",
   "execution_count": null,
   "metadata": {},
   "outputs": [],
   "source": [
    "intable"
   ]
  },
  {
   "cell_type": "code",
   "execution_count": null,
   "metadata": {},
   "outputs": [],
   "source": [
    "to_df = pd.DataFrame.from_records\n",
    "data = to_df(intable.root.events.voxels.read())\n",
    "data.head(40)"
   ]
  },
  {
   "cell_type": "markdown",
   "metadata": {},
   "source": [
    "### Tracks:\n",
    "\n",
    "\n",
    "**make_tracks** ( \n",
    "                \n",
    "                evt_number       : float,\n",
    "\n",
    "                evt_time         : float,\n",
    "                \n",
    "                voxels           : List[Voxel],\n",
    "                \n",
    "                voxel_dimensions : np.ndarray,\n",
    "                \n",
    "                contiguity       : float = 1,\n",
    "                \n",
    "                blob_radius      : float = 30 * units.mm) "
   ]
  },
  {
   "cell_type": "code",
   "execution_count": null,
   "metadata": {},
   "outputs": [],
   "source": [
    "events = data['event'].unique().tolist()"
   ]
  },
  {
   "cell_type": "code",
   "execution_count": null,
   "metadata": {},
   "outputs": [],
   "source": [
    "len(events)"
   ]
  },
  {
   "cell_type": "code",
   "execution_count": null,
   "metadata": {},
   "outputs": [],
   "source": [
    "# cuts (energies in MeV, dimensions in mm)\n",
    "trk_minE   = 0.003  # not used\n",
    "blob_minE  = 0.3 \n",
    "emin      =  2.453 \n",
    "emax      =  2.475\n",
    "# parameters\n",
    "\n",
    "\n",
    "lnum_trk   = []\n",
    "ltrk_E     = []\n",
    "lblob1_E   = []\n",
    "lblob2_E   = []\n",
    "\n",
    "# counters\n",
    "ev_tot = 0\n",
    "c_single_track  = 0\n",
    "c_trk_minE      = 0\n",
    "c_blob_minE     = 0\n",
    "\n",
    "# lists for plotting (will be changed by writting an hdf5 specific for plotting)\n",
    "lnum_trk   = []\n",
    "ltrk_E     = []\n",
    "lblob1_E   = []\n",
    "lblob2_E   = []\n",
    "\n",
    "\n",
    "\n",
    "ev_tot = 0\n",
    "\n",
    "for ev in events:\n",
    "    single_track_cut = False \n",
    "    trk_minE_cut     = False\n",
    "    blob_minE_cut    = False\n",
    "    ev_tot += 1\n",
    "    ev_data = data[data['event'].isin([ev])]\n",
    "    vx =  ev_data['X'].tolist()\n",
    "    vy =  ev_data['Y'].tolist()\n",
    "    vz =  ev_data['Z'].tolist()\n",
    "    ve =  ev_data['ES_v'].tolist()\n",
    "    posE = list(zip(vx,vy,vz,ve))\n",
    "    voxels = [ Voxel(pos[0], pos[1], pos[2], pos[3], voxel_dim) for pos in posE]\n",
    "    trks = make_tracks(ev, 2, voxels, voxel_dim, 18, 15)\n",
    "    if (trks.number_of_tracks == 1):\n",
    "        single_track_cut = True\n",
    "        lnum_trk.append(trks.number_of_tracks)                    \n",
    "        for trk in trks.tracks:\n",
    "            if(trk.blobs[0].E > blob_minE and trk.blobs[1].E > blob_minE ):\n",
    "                blob_minE_cut = True\n",
    "                lblob1_E.append(trk.blobs[0].E)\n",
    "                lblob2_E.append(trk.blobs[1].E)\n",
    "                if ( emin < trk.E < emax):\n",
    "                    trk_minE_cut = True\n",
    "                    ltrk_E.append(trk.E)\n",
    "\n",
    "    if ( single_track_cut ) : c_single_track   += 1\n",
    "    if ( trk_minE_cut )     : c_trk_minE       += 1\n",
    "    if ( blob_minE_cut)     : c_blob_minE      += 1\n",
    "\n",
    "print(\"+++++++-------------------------------------------------+++++++\")\n",
    "print(\"Total events analized                        = \" + str(ev_tot))\n",
    "print(\"Events passing single track                  = \" + str(c_single_track))\n",
    "print(\"Events passing energy track cut              = \" + str(c_trk_minE))\n",
    "print(\"Events passing energy blob min energy cut    = \" + str(c_blob_minE))\n",
    "#print(\"Efficiency = \"+c_blob_minE/ev_tot +\" %\")\n",
    "print(\"\\n\")     \n",
    "print(\"+++++++-------------------------------------------------+++++++\")\n",
    "\n",
    "print(\"Running on \", time.asctime())\n",
    "\n",
    "\n",
    "num_trk = np.array(lnum_trk)\n",
    "trk_E   = np.array(ltrk_E)\n",
    "blob1_E = np.array(lblob1_E)\n",
    "blob2_E = np.array(lblob2_E)"
   ]
  },
  {
   "cell_type": "code",
   "execution_count": null,
   "metadata": {},
   "outputs": [],
   "source": [
    "bins = 100\n",
    "#w = v_E - v_E_smear\n",
    "\n",
    "fig = plt.figure(figsize = (12,9))\n",
    "\n",
    "ax1 = fig.add_subplot(2,2,1)\n",
    "plt.hist(trk_E,100,[2.4,2.5])\n",
    "plt.xlabel('Track energy (MeV)')\n",
    "\n",
    "ax2 = fig.add_subplot(2,2,2)\n",
    "plt.hist(blob1_E,100)\n",
    "plt.xlabel('blob1 energy (MeV)')\n",
    "\n",
    "\n",
    "ax3 = fig.add_subplot(2,2,3)\n",
    "plt.hist(blob2_E, bins, stacked=True)\n",
    "plt.xlabel('blob2 energy (MeV)')\n",
    "\n",
    "\n",
    "ax4 = fig.add_subplot(2,2,4)\n",
    "plt.yscale('log', nonposy='clip')\n",
    "plt.hist( num_trk, bins )\n",
    "plt.xlabel('number of tracks per event')\n",
    "\n"
   ]
  },
  {
   "cell_type": "code",
   "execution_count": null,
   "metadata": {},
   "outputs": [],
   "source": [
    "bins = 50 \n",
    "\n",
    "fig = plt.figure(figsize = (12,9))\n",
    "ax1 = fig.add_subplot(2,2,1)\n",
    "plt.hist2d(blob2_E, blob1_E, bins, [[0.0, 2.5], [0.0, 2.5]] , norm=LogNorm())\n",
    "#plt.colorbar()\n",
    "plt.title('voxels Energy ')\n",
    "plt.xlabel('e1')\n",
    "plt.ylabel('e2')\n",
    "\n"
   ]
  },
  {
   "cell_type": "code",
   "execution_count": null,
   "metadata": {},
   "outputs": [],
   "source": []
  }
 ],
 "metadata": {
  "kernelspec": {
   "display_name": "Python 3",
   "language": "python",
   "name": "python3"
  },
  "language_info": {
   "codemirror_mode": {
    "name": "ipython",
    "version": 3
   },
   "file_extension": ".py",
   "mimetype": "text/x-python",
   "name": "python",
   "nbconvert_exporter": "python",
   "pygments_lexer": "ipython3",
   "version": "3.6.6"
  }
 },
 "nbformat": 4,
 "nbformat_minor": 2
}
