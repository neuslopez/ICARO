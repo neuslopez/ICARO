{
 "cells": [
  {
   "cell_type": "code",
   "execution_count": 1,
   "metadata": {
    "collapsed": false
   },
   "outputs": [],
   "source": [
    "from __future__ import print_function\n",
    "\n",
    "import sys\n",
    "import os\n",
    "from glob import glob\n",
    "from time import time\n",
    "%matplotlib inline\n",
    "#%load_ext autoreload\n",
    "#%autoreload 2\n",
    "import matplotlib.pyplot as plt\n",
    "import pandas as pd\n",
    "import tables as tb\n",
    "import numpy as np\n",
    "import math\n",
    "#plt.rcParams['figure.figsize'] = 10,8\n",
    "import datetime\n",
    "\n",
    "from   invisible_cities.database import load_db\n",
    "from   invisible_cities.core.system_of_units_c import SystemOfUnits\n",
    "import invisible_cities.sierpe.blr as blr\n",
    "import invisible_cities.core.mpl_functions as mpl\n",
    "import invisible_cities.reco.wfm_functions as wfm\n",
    "import invisible_cities.reco.tbl_functions as tbl\n",
    "import invisible_cities.core.peak_functions_c as cpf\n",
    "import invisible_cities.reco.pmaps_functions as pf\n",
    "import invisible_cities.core.sensor_functions as sf\n",
    "from   invisible_cities.core.core_functions import define_window\n",
    "\n",
    "import invisible_cities.core.pmaps_functions_c as cpm\n",
    "from   invisible_cities.core.core_functions import lrange\n",
    " \n",
    "units = SystemOfUnits()\n",
    "t0 = time()"
   ]
  },
  {
   "cell_type": "code",
   "execution_count": 2,
   "metadata": {
    "collapsed": false
   },
   "outputs": [],
   "source": [
    "#import S1S2prop as prop\n",
    "#import plotting as plot"
   ]
  },
  {
   "cell_type": "code",
   "execution_count": 3,
   "metadata": {
    "collapsed": false
   },
   "outputs": [
    {
     "name": "stdout",
     "output_type": "stream",
     "text": [
      "/Users/neus/InvCities/data/pmaps_JM_NEW/Kr/dst_NEXT_v0_08_09_Kr_ACTIVE_0_0_7bar_pmaps_10000.root.h5\n",
      "S1df entries (tbins x events): 62893\n",
      "S2df entries (tbins x events): 90708\n",
      "S2Sidf entries: 409626\n",
      "Keys of S1df panda dataframe: Index(['event', 'peak', 'time', 'ene'], dtype='object') \n",
      "Keys of S2df panda dataframe: Index(['event', 'peak', 'time', 'ene'], dtype='object') \n",
      "Keys of S2Sidf panda dataframe: Index(['event', 'peak', 'nsipm', 'ene'], dtype='object') \n",
      "First/last event ID (first item in sorted S1 dictionary): 0/9998\n",
      "First/last event ID (first item in sorted S2 dictionary): 0/9998\n",
      "Total number of events in S1 = 9420\n",
      "Total number of events in S2 = 9984\n"
     ]
    },
    {
     "data": {
      "text/plain": [
       "(9420,\n",
       " invisible_cities.reco.pmap_io.S12,\n",
       " 9984,\n",
       " invisible_cities.reco.pmap_io.S12)"
      ]
     },
     "execution_count": 3,
     "metadata": {},
     "output_type": "execute_result"
    }
   ],
   "source": [
    "#%%\n",
    "mydf_file = os.environ['IC_DATA']+'/pmaps_JM_NEW/Kr/dst_NEXT_v0_08_09_Kr_ACTIVE_0_0_7bar_pmaps_10000.root.h5'\n",
    "#mydf_file = os.environ['IC_DATA']+'/irene/Kr/pmaps_NEXT_v0_08_09_Kr_ACTIVE_55_0_7bar__10000.root.h5'\n",
    "#mydf_file = os.environ['IC_DATA']+'/irene/Co/pmaps_NEXT_v0_08_09_Co56_INTERNALPORTANODE_102_0_7bar__10000.root.h5'\n",
    "print(mydf_file)\n",
    "\n",
    "mydf = pf.read_pmaps(mydf_file)\n",
    "#mydf\n",
    "list(map(type, mydf))\n",
    "S1df   = mydf[0]\n",
    "S2df   = mydf[1]\n",
    "S2Sidf = mydf[2]\n",
    "print('S1df entries (tbins x events):',len(S1df))\n",
    "print('S2df entries (tbins x events):',len(S2df))\n",
    "print('S2Sidf entries:',len(S2Sidf))\n",
    "type(S1df)\n",
    "print('Keys of S1df panda dataframe: {} '.format(S1df.keys()))\n",
    "print('Keys of S2df panda dataframe: {} '.format(S2df.keys()))\n",
    "print('Keys of S2Sidf panda dataframe: {} '.format(S2Sidf.keys()))\n",
    "\n",
    "# Convert S12df object  (an S12 pytable read as a PD dataframe) and return an S12L dictionary (list of dict, first dict)\n",
    "S1dict = pf.df_to_pmaps_dict(S1df,10000)\n",
    "S2dict = pf.df_to_pmaps_dict(S2df,10000)\n",
    "\n",
    "\n",
    "evid_S1min = sorted(S1dict.keys())[0]\n",
    "evid_S1max = sorted(S1dict.keys())[-1]\n",
    "evid_S2min = sorted(S2dict.keys())[0]\n",
    "evid_S2max = sorted(S2dict.keys())[-1]\n",
    "print('First/last event ID (first item in sorted S1 dictionary): {}/{}'.format(evid_S1min,evid_S1max))\n",
    "print('First/last event ID (first item in sorted S2 dictionary): {}/{}'.format(evid_S2min,evid_S2max))\n",
    "print('Total number of events in S1 = {}'.format(len(S1dict)))\n",
    "print('Total number of events in S2 = {}'.format(len(S2dict)))\n",
    "len(S1dict), type(S1dict), len(S2dict), type(S2dict)\n",
    "\n",
    "\n"
   ]
  },
  {
   "cell_type": "code",
   "execution_count": 4,
   "metadata": {
    "collapsed": false
   },
   "outputs": [],
   "source": [
    "#S1dict"
   ]
  },
  {
   "cell_type": "code",
   "execution_count": 5,
   "metadata": {
    "collapsed": false
   },
   "outputs": [],
   "source": [
    "#table_pmaps = tb.open_file(mydf_file,'r')"
   ]
  },
  {
   "cell_type": "code",
   "execution_count": 6,
   "metadata": {
    "collapsed": false
   },
   "outputs": [],
   "source": [
    "#table_pmaps"
   ]
  },
  {
   "cell_type": "code",
   "execution_count": 7,
   "metadata": {
    "collapsed": false
   },
   "outputs": [],
   "source": [
    "#S1 = table_pmaps.root.PMAPS.S1"
   ]
  },
  {
   "cell_type": "code",
   "execution_count": 8,
   "metadata": {
    "collapsed": false
   },
   "outputs": [],
   "source": [
    "#pd.DataFrame.from_records(S1.read())"
   ]
  },
  {
   "cell_type": "code",
   "execution_count": 9,
   "metadata": {
    "collapsed": false
   },
   "outputs": [],
   "source": [
    "#table_pmaps.root.PMAPS.S1"
   ]
  },
  {
   "cell_type": "code",
   "execution_count": 10,
   "metadata": {
    "collapsed": false
   },
   "outputs": [],
   "source": [
    "#table_pmaps"
   ]
  },
  {
   "cell_type": "markdown",
   "metadata": {},
   "source": [
    "## Open MCRD file to extract MCTrack info"
   ]
  },
  {
   "cell_type": "code",
   "execution_count": 11,
   "metadata": {
    "collapsed": false
   },
   "outputs": [],
   "source": [
    "pytable_file = os.environ['IC_DATA']+'/pmaps_JM_NEW/Kr/dst_NEXT_v0_08_09_Kr_ACTIVE_0_0_7bar_pmaps_10000.root.h5'\n",
    "#pytable_file = os.environ['IC_DATA']+'/MCRD/Kr/dst_NEXT_v0_08_09_Kr_ACTIVE_55_0_7bar_MCRD_10000.root.h5'\n",
    "pytable_file = os.environ['IC_DATA']+'/pmaps_JM_NEW/Kr/dst_NEXT_v0_08_09_Kr_ACTIVE_10_0_7bar_pmaps_10000.root.h5'"
   ]
  },
  {
   "cell_type": "code",
   "execution_count": 12,
   "metadata": {
    "collapsed": false
   },
   "outputs": [
    {
     "data": {
      "text/plain": [
       "'/Users/neus/InvCities/data/pmaps_JM_NEW/Kr/dst_NEXT_v0_08_09_Kr_ACTIVE_10_0_7bar_pmaps_10000.root.h5'"
      ]
     },
     "execution_count": 12,
     "metadata": {},
     "output_type": "execute_result"
    }
   ],
   "source": [
    "pytable_file"
   ]
  },
  {
   "cell_type": "code",
   "execution_count": 13,
   "metadata": {
    "collapsed": true
   },
   "outputs": [],
   "source": [
    "table = tb.open_file(pytable_file,mode='r')"
   ]
  },
  {
   "cell_type": "code",
   "execution_count": 14,
   "metadata": {
    "collapsed": false
   },
   "outputs": [],
   "source": [
    "#table"
   ]
  },
  {
   "cell_type": "code",
   "execution_count": 15,
   "metadata": {
    "collapsed": false
   },
   "outputs": [
    {
     "data": {
      "text/plain": [
       "/MC/MCTracks (Table(69837,), shuffle, zlib(4)) 'MCTracks'\n",
       "  description := {\n",
       "  \"event_indx\": Int16Col(shape=(), dflt=0, pos=0),\n",
       "  \"mctrk_indx\": Int16Col(shape=(), dflt=0, pos=1),\n",
       "  \"particle_name\": StringCol(itemsize=10, shape=(), dflt=b'', pos=2),\n",
       "  \"pdg_code\": Int16Col(shape=(), dflt=0, pos=3),\n",
       "  \"initial_vertex\": Float32Col(shape=(3,), dflt=0.0, pos=4),\n",
       "  \"final_vertex\": Float32Col(shape=(3,), dflt=0.0, pos=5),\n",
       "  \"momentum\": Float32Col(shape=(3,), dflt=0.0, pos=6),\n",
       "  \"energy\": Float32Col(shape=(), dflt=0.0, pos=7),\n",
       "  \"nof_hits\": Int16Col(shape=(), dflt=0, pos=8),\n",
       "  \"hit_indx\": Int16Col(shape=(), dflt=0, pos=9),\n",
       "  \"hit_position\": Float32Col(shape=(3,), dflt=0.0, pos=10),\n",
       "  \"hit_time\": Float32Col(shape=(), dflt=0.0, pos=11),\n",
       "  \"hit_energy\": Float32Col(shape=(), dflt=0.0, pos=12)}\n",
       "  byteorder := 'little'\n",
       "  chunkshape := (819,)"
      ]
     },
     "execution_count": 15,
     "metadata": {},
     "output_type": "execute_result"
    }
   ],
   "source": [
    "table.root.MC.MCTracks"
   ]
  },
  {
   "cell_type": "code",
   "execution_count": 16,
   "metadata": {
    "collapsed": false
   },
   "outputs": [],
   "source": [
    "#table.root.Run.events"
   ]
  },
  {
   "cell_type": "code",
   "execution_count": 17,
   "metadata": {
    "collapsed": true
   },
   "outputs": [],
   "source": [
    "b = table.root.MC.MCTracks\n",
    "a = b[:]"
   ]
  },
  {
   "cell_type": "code",
   "execution_count": 18,
   "metadata": {
    "collapsed": false
   },
   "outputs": [
    {
     "data": {
      "text/plain": [
       "array([0, 0, 0, 0, 0, 0, 0, 0, 1, 1, 1, 1, 1, 2, 2, 2, 2, 2, 2, 2], dtype=int16)"
      ]
     },
     "execution_count": 18,
     "metadata": {},
     "output_type": "execute_result"
    }
   ],
   "source": [
    "a['event_indx'][0:20]"
   ]
  },
  {
   "cell_type": "code",
   "execution_count": 19,
   "metadata": {
    "collapsed": false
   },
   "outputs": [
    {
     "data": {
      "text/plain": [
       "tables.table.Table"
      ]
     },
     "execution_count": 19,
     "metadata": {},
     "output_type": "execute_result"
    }
   ],
   "source": [
    "type(b)"
   ]
  },
  {
   "cell_type": "code",
   "execution_count": 20,
   "metadata": {
    "collapsed": false
   },
   "outputs": [
    {
     "data": {
      "text/plain": [
       "numpy.ndarray"
      ]
     },
     "execution_count": 20,
     "metadata": {},
     "output_type": "execute_result"
    }
   ],
   "source": [
    "type(b[:])"
   ]
  },
  {
   "cell_type": "code",
   "execution_count": 21,
   "metadata": {
    "collapsed": false,
    "scrolled": false
   },
   "outputs": [
    {
     "data": {
      "text/plain": [
       "(0, 0, b'e-', 11, [70.34581756591797, -37.00787353515625, 345.2931823730469], [70.33417510986328, -37.01640319824219, 345.3054504394531], [-0.06322100013494492, -0.03542151674628258, 0.06662880629301071], 0.00939599983394146, 2, 0, [70.33509063720703, -37.013885498046875, 345.30450439453125], 0.0002945603337138891, 0.006669693160802126)"
      ]
     },
     "execution_count": 21,
     "metadata": {},
     "output_type": "execute_result"
    }
   ],
   "source": [
    "b[0]"
   ]
  },
  {
   "cell_type": "code",
   "execution_count": 22,
   "metadata": {
    "collapsed": false
   },
   "outputs": [
    {
     "data": {
      "text/plain": [
       "(0, 0, b'e-', 11, [70.34581756591797, -37.00787353515625, 345.2931823730469], [70.33417510986328, -37.01640319824219, 345.3054504394531], [-0.06322100013494492, -0.03542151674628258, 0.06662880629301071], 0.00939599983394146, 2, 0, [70.33509063720703, -37.013885498046875, 345.30450439453125], 0.0002945603337138891, 0.006669693160802126)"
      ]
     },
     "execution_count": 22,
     "metadata": {},
     "output_type": "execute_result"
    }
   ],
   "source": [
    "b[0]"
   ]
  },
  {
   "cell_type": "code",
   "execution_count": 23,
   "metadata": {
    "collapsed": false
   },
   "outputs": [
    {
     "data": {
      "text/plain": [
       "(0, 0, b'e-', 11, [70.34581756591797, -37.00787353515625, 345.2931823730469], [70.33417510986328, -37.01640319824219, 345.3054504394531], [-0.06322100013494492, -0.03542151674628258, 0.06662880629301071], 0.00939599983394146, 2, 1, [70.33417510986328, -37.01640319824219, 345.3054504394531], 0.0003867837367579341, 0.0027263066731393337)"
      ]
     },
     "execution_count": 23,
     "metadata": {},
     "output_type": "execute_result"
    }
   ],
   "source": [
    "b[1]"
   ]
  },
  {
   "cell_type": "markdown",
   "metadata": {},
   "source": [
    "## suma de hits es mayor que la energía"
   ]
  },
  {
   "cell_type": "code",
   "execution_count": 24,
   "metadata": {
    "collapsed": false
   },
   "outputs": [
    {
     "data": {
      "text/plain": [
       "True"
      ]
     },
     "execution_count": 24,
     "metadata": {},
     "output_type": "execute_result"
    }
   ],
   "source": [
    "(0.005795191042125225+0.0036008090246468782) > 0.00939599983394146"
   ]
  },
  {
   "cell_type": "code",
   "execution_count": 25,
   "metadata": {
    "collapsed": false
   },
   "outputs": [
    {
     "data": {
      "text/plain": [
       "2.3283064365386963e-10"
      ]
     },
     "execution_count": 25,
     "metadata": {},
     "output_type": "execute_result"
    }
   ],
   "source": [
    "0.005795191042125225+0.0036008090246468782-0.00939599983394146"
   ]
  },
  {
   "cell_type": "code",
   "execution_count": 26,
   "metadata": {
    "collapsed": false
   },
   "outputs": [
    {
     "data": {
      "text/plain": [
       "False"
      ]
     },
     "execution_count": 26,
     "metadata": {},
     "output_type": "execute_result"
    }
   ],
   "source": [
    "b[0]== b[1]"
   ]
  },
  {
   "cell_type": "code",
   "execution_count": 27,
   "metadata": {
    "collapsed": false
   },
   "outputs": [
    {
     "data": {
      "text/plain": [
       "False"
      ]
     },
     "execution_count": 27,
     "metadata": {},
     "output_type": "execute_result"
    }
   ],
   "source": [
    "b[2] == b[3]"
   ]
  },
  {
   "cell_type": "code",
   "execution_count": 28,
   "metadata": {
    "collapsed": false
   },
   "outputs": [
    {
     "data": {
      "text/plain": [
       "69837"
      ]
     },
     "execution_count": 28,
     "metadata": {},
     "output_type": "execute_result"
    }
   ],
   "source": [
    "len(b) "
   ]
  },
  {
   "cell_type": "code",
   "execution_count": 29,
   "metadata": {
    "collapsed": false
   },
   "outputs": [],
   "source": [
    "#a = b[:]"
   ]
  },
  {
   "cell_type": "code",
   "execution_count": 30,
   "metadata": {
    "collapsed": false
   },
   "outputs": [
    {
     "data": {
      "text/plain": [
       "numpy.ndarray"
      ]
     },
     "execution_count": 30,
     "metadata": {},
     "output_type": "execute_result"
    }
   ],
   "source": [
    "type(a)"
   ]
  },
  {
   "cell_type": "code",
   "execution_count": 31,
   "metadata": {
    "collapsed": false
   },
   "outputs": [
    {
     "data": {
      "text/plain": [
       "69837"
      ]
     },
     "execution_count": 31,
     "metadata": {},
     "output_type": "execute_result"
    }
   ],
   "source": [
    "len(a)"
   ]
  },
  {
   "cell_type": "code",
   "execution_count": 32,
   "metadata": {
    "collapsed": false
   },
   "outputs": [
    {
     "data": {
      "text/plain": [
       "(69837,)"
      ]
     },
     "execution_count": 32,
     "metadata": {},
     "output_type": "execute_result"
    }
   ],
   "source": [
    "a.shape"
   ]
  },
  {
   "cell_type": "code",
   "execution_count": 33,
   "metadata": {
    "collapsed": false
   },
   "outputs": [
    {
     "data": {
      "text/plain": [
       "numpy.ndarray"
      ]
     },
     "execution_count": 33,
     "metadata": {},
     "output_type": "execute_result"
    }
   ],
   "source": [
    "type(a['mctrk_indx']) "
   ]
  },
  {
   "cell_type": "code",
   "execution_count": 34,
   "metadata": {
    "collapsed": false
   },
   "outputs": [
    {
     "data": {
      "text/plain": [
       "array([-0.063221  , -0.03542152,  0.06662881], dtype=float32)"
      ]
     },
     "execution_count": 34,
     "metadata": {},
     "output_type": "execute_result"
    }
   ],
   "source": [
    "a['momentum'][0]"
   ]
  },
  {
   "cell_type": "code",
   "execution_count": 35,
   "metadata": {
    "collapsed": false
   },
   "outputs": [
    {
     "data": {
      "text/plain": [
       "array([0, 0, 0, 0, 0, 0, 0, 0, 1, 1], dtype=int16)"
      ]
     },
     "execution_count": 35,
     "metadata": {},
     "output_type": "execute_result"
    }
   ],
   "source": [
    "a['event_indx'][0:10]"
   ]
  },
  {
   "cell_type": "code",
   "execution_count": 36,
   "metadata": {
    "collapsed": false
   },
   "outputs": [
    {
     "data": {
      "text/plain": [
       "69837"
      ]
     },
     "execution_count": 36,
     "metadata": {},
     "output_type": "execute_result"
    }
   ],
   "source": [
    "len(a['momentum'])"
   ]
  },
  {
   "cell_type": "code",
   "execution_count": 37,
   "metadata": {
    "collapsed": false
   },
   "outputs": [
    {
     "data": {
      "text/plain": [
       "False"
      ]
     },
     "execution_count": 37,
     "metadata": {},
     "output_type": "execute_result"
    }
   ],
   "source": [
    "a['momentum'].shape == (69063, 3)"
   ]
  },
  {
   "cell_type": "code",
   "execution_count": 38,
   "metadata": {
    "collapsed": false
   },
   "outputs": [
    {
     "data": {
      "text/plain": [
       "(69837,)"
      ]
     },
     "execution_count": 38,
     "metadata": {},
     "output_type": "execute_result"
    }
   ],
   "source": [
    "a['mctrk_indx'].shape"
   ]
  },
  {
   "cell_type": "code",
   "execution_count": 39,
   "metadata": {
    "collapsed": false
   },
   "outputs": [
    {
     "data": {
      "text/plain": [
       "array([  70.34581757,  -37.00787354,  345.29318237], dtype=float32)"
      ]
     },
     "execution_count": 39,
     "metadata": {},
     "output_type": "execute_result"
    }
   ],
   "source": [
    "a['initial_vertex'][0]"
   ]
  },
  {
   "cell_type": "code",
   "execution_count": 40,
   "metadata": {
    "collapsed": false
   },
   "outputs": [
    {
     "data": {
      "text/plain": [
       "array([0, 0, 0, 0, 0, 0, 0, 0, 1, 1, 1, 1, 1, 2, 2, 2, 2, 2, 2, 2, 3, 3, 3,\n",
       "       3, 3, 4, 4, 4, 4, 4, 4, 5, 5, 5, 5, 5, 5, 5, 6, 6], dtype=int16)"
      ]
     },
     "execution_count": 40,
     "metadata": {},
     "output_type": "execute_result"
    }
   ],
   "source": [
    "a['event_indx'][0:40]"
   ]
  },
  {
   "cell_type": "code",
   "execution_count": 41,
   "metadata": {
    "collapsed": false
   },
   "outputs": [
    {
     "data": {
      "text/plain": [
       "array([ (0, 0, b'e-', 11, [70.34581756591797, -37.00787353515625, 345.2931823730469], [70.33417510986328, -37.01640319824219, 345.3054504394531], [-0.06322100013494492, -0.03542151674628258, 0.06662880629301071], 0.00939599983394146, 2, 0, [70.33509063720703, -37.013885498046875, 345.30450439453125], 0.0002945603337138891, 0.006669693160802126),\n",
       "       (0, 0, b'e-', 11, [70.34581756591797, -37.00787353515625, 345.2931823730469], [70.33417510986328, -37.01640319824219, 345.3054504394531], [-0.06322100013494492, -0.03542151674628258, 0.06662880629301071], 0.00939599983394146, 2, 1, [70.33417510986328, -37.01640319824219, 345.3054504394531], 0.0003867837367579341, 0.0027263066731393337),\n",
       "       (0, 1, b'e-', 11, [70.34581756591797, -37.00787353515625, 345.2931823730469], [70.33882904052734, -36.93152618408203, 345.0984191894531], [0.05445895344018936, 0.07797137647867203, -0.15761537849903107], 0.032147299498319626, 6, 0, [70.37931823730469, -36.959903717041016, 345.19622802734375], 0.0011146435281261802, 0.007002348080277443),\n",
       "       ...,\n",
       "       (9998, 1, b'e-', 11, [19.383554458618164, 67.50745391845703, 325.2886657714844], [19.279909133911133, 67.34782409667969, 325.21697998046875], [-0.10130397975444794, -0.11312991380691528, -0.10405309498310089], 0.032147299498319626, 4, 1, [19.298587799072266, 67.36771392822266, 325.2392272949219], 0.0019502926152199507, 0.007955718785524368),\n",
       "       (9998, 1, b'e-', 11, [19.383554458618164, 67.50745391845703, 325.2886657714844], [19.279909133911133, 67.34782409667969, 325.21697998046875], [-0.10130397975444794, -0.11312991380691528, -0.10405309498310089], 0.032147299498319626, 4, 2, [19.2634334564209, 67.3592300415039, 325.21978759765625], 0.0024990669917315245, 0.006061500869691372),\n",
       "       (9998, 1, b'e-', 11, [19.383554458618164, 67.50745391845703, 325.2886657714844], [19.279909133911133, 67.34782409667969, 325.21697998046875], [-0.10130397975444794, -0.11312991380691528, -0.10405309498310089], 0.032147299498319626, 4, 3, [19.279909133911133, 67.34782409667969, 325.21697998046875], 0.0028349158819764853, 0.010641740635037422)], \n",
       "      dtype=[('event_indx', '<i2'), ('mctrk_indx', '<i2'), ('particle_name', 'S10'), ('pdg_code', '<i2'), ('initial_vertex', '<f4', (3,)), ('final_vertex', '<f4', (3,)), ('momentum', '<f4', (3,)), ('energy', '<f4'), ('nof_hits', '<i2'), ('hit_indx', '<i2'), ('hit_position', '<f4', (3,)), ('hit_time', '<f4'), ('hit_energy', '<f4')])"
      ]
     },
     "execution_count": 41,
     "metadata": {},
     "output_type": "execute_result"
    }
   ],
   "source": [
    "a"
   ]
  },
  {
   "cell_type": "code",
   "execution_count": 42,
   "metadata": {
    "collapsed": false
   },
   "outputs": [],
   "source": [
    "from collections import namedtuple\n",
    "def xxx (mctruth_table, max_events=None):\n",
    "    \n",
    "    result = {}\n",
    "    Tuple = namedtuple('sipms','momentum, position, energies, hit_energies')\n",
    "    len_mc_truth_table = len(mctruth_table)\n",
    "\n",
    "#    convert table to numpy.ndarray\n",
    "    data       = mctruth_table[:]\n",
    "    data_size  = len(data)\n",
    "\n",
    "    event            =  data[\"event_indx\"]\n",
    "    particle         =  data[\"mctrk_indx\"]\n",
    "    particle_name    =  data[\"particle_name\"]\n",
    "    pdg_code         =  data[\"pdg_code\"]\n",
    "    initial_vertex   =  data[\"initial_vertex\"]\n",
    "    final_vertex     =  data[\"final_vertex\"]\n",
    "    momentum         =  data[\"momentum\"]\n",
    "    energy           =  data[\"energy\"]\n",
    "    nof_hits         =  data[\"nof_hits\"]\n",
    "    hit              =  data[\"hit_indx\"]\n",
    "    hit_position     =  data[\"hit_position\"]\n",
    "    hit_time         =  data[\"hit_time\"]\n",
    "    hit_energy       =  data[\"hit_energy\"]\n",
    "\n",
    "    event_boundary    = True\n",
    "    particle_boundary = True\n",
    "    hit_boundary      = True\n",
    "\n",
    "    current_event    = -2\n",
    "    current_particle = -1\n",
    "    current_hit      = -1\n",
    "\n",
    "    limit = np.iinfo(int).max if max_events is None or max_events < 0 else max_events\n",
    "    \n",
    "    for i in range(data_size):\n",
    "       # print('+++++++++start loop = {}, event= {}, particle= {}, hit= {}'.format(i,event[i], particle[i], hit[i]))\n",
    "        \n",
    "        if(event_boundary):    # start new event\n",
    "            current_event = event[i]\n",
    "            #print('-----current event= {}'.format(current_event))\n",
    "            if current_event >= limit: break\n",
    "            event_data = {}\n",
    "\n",
    "        if particle_boundary:  # Start new particle\n",
    "            current_particle = particle[i]\n",
    "            particle_data = {}\n",
    "\n",
    "        if hit_boundary:  # Start new hit\n",
    "            current_hit = hit[i]\n",
    "            momentums, hit_positions, energies, hit_energies = [], [], [], []\n",
    "           \n",
    "           \n",
    "\n",
    "       # Add position, momentum to current particle's data  \n",
    "       \n",
    "        momentums     .append(momentum    [i])\n",
    "        hit_positions .append(hit_position[i])\n",
    "        energies      .append(energy      [i])\n",
    "        hit_energies  .append(hit_energy  [i])\n",
    "      \n",
    "        #print(momentum)\n",
    "\n",
    "        event_boundary     = i+1 == data_size     or event     [i+1] != current_event\n",
    "        particle_boundary  = event_boundary       or particle [i+1]  != current_particle\n",
    "        hit_boundary       = particle_boundary    or hit      [i+1]  != current_hit\n",
    "        \n",
    "        if hit_boundary:  # End of hit: save it\n",
    "            particle_data[current_hit] = Tuple(np.array(momentums), \n",
    "                                               np.array(hit_positions), \n",
    "                                               np.array(energies), \n",
    "                                               np.array(hit_energies))\n",
    "            \n",
    "        if particle_boundary:  # End of particle: save it\n",
    "            #print('end of particle')\n",
    "            event_data[current_particle] = particle_data\n",
    "\n",
    "\n",
    "        if event_boundary: # End of event: save it\n",
    "            #print('end of event')\n",
    "            result[current_event] = event_data\n",
    "       \n",
    "    \n",
    "    return result\n",
    "\n",
    "\n"
   ]
  },
  {
   "cell_type": "markdown",
   "metadata": {},
   "source": [
    "### Max events: revisar. Corre hasta el evento siguiente"
   ]
  },
  {
   "cell_type": "code",
   "execution_count": 43,
   "metadata": {
    "collapsed": false
   },
   "outputs": [],
   "source": [
    "x = xxx(a)"
   ]
  },
  {
   "cell_type": "code",
   "execution_count": 44,
   "metadata": {
    "collapsed": false
   },
   "outputs": [
    {
     "data": {
      "text/plain": [
       "array([[-0.063221  , -0.03542152,  0.06662881]], dtype=float32)"
      ]
     },
     "execution_count": 44,
     "metadata": {},
     "output_type": "execute_result"
    }
   ],
   "source": [
    "x[0][0][0].momentum"
   ]
  },
  {
   "cell_type": "code",
   "execution_count": 45,
   "metadata": {
    "collapsed": false
   },
   "outputs": [
    {
     "data": {
      "text/plain": [
       "array([[  70.33509064,  -37.0138855 ,  345.30450439]], dtype=float32)"
      ]
     },
     "execution_count": 45,
     "metadata": {},
     "output_type": "execute_result"
    }
   ],
   "source": [
    "x[0][0][0].position"
   ]
  },
  {
   "cell_type": "code",
   "execution_count": 46,
   "metadata": {
    "collapsed": false
   },
   "outputs": [
    {
     "data": {
      "text/plain": [
       "numpy.ndarray"
      ]
     },
     "execution_count": 46,
     "metadata": {},
     "output_type": "execute_result"
    }
   ],
   "source": [
    "type(x[0][0][0].position[0])"
   ]
  },
  {
   "cell_type": "code",
   "execution_count": 47,
   "metadata": {
    "collapsed": false
   },
   "outputs": [
    {
     "data": {
      "text/plain": [
       "numpy.ndarray"
      ]
     },
     "execution_count": 47,
     "metadata": {},
     "output_type": "execute_result"
    }
   ],
   "source": [
    "type(x[0][0][0].hit_energies)"
   ]
  },
  {
   "cell_type": "code",
   "execution_count": 48,
   "metadata": {
    "collapsed": false
   },
   "outputs": [
    {
     "data": {
      "text/plain": [
       "array([ 0.00666969], dtype=float32)"
      ]
     },
     "execution_count": 48,
     "metadata": {},
     "output_type": "execute_result"
    }
   ],
   "source": [
    "x[0][0][0].hit_energies"
   ]
  },
  {
   "cell_type": "code",
   "execution_count": 49,
   "metadata": {
    "collapsed": false
   },
   "outputs": [
    {
     "data": {
      "text/plain": [
       "array([ 0.009396], dtype=float32)"
      ]
     },
     "execution_count": 49,
     "metadata": {},
     "output_type": "execute_result"
    }
   ],
   "source": [
    "x[0][0][0].energies"
   ]
  },
  {
   "cell_type": "markdown",
   "metadata": {
    "collapsed": true
   },
   "source": [
    "### Dictionary: {event: {particle: {hit: [momentums, position, energies]}}}"
   ]
  },
  {
   "cell_type": "code",
   "execution_count": 50,
   "metadata": {
    "collapsed": false
   },
   "outputs": [
    {
     "data": {
      "text/plain": [
       "{0: {0: sipms(momentum=array([[-0.063221  , -0.03542152,  0.06662881]], dtype=float32), position=array([[  70.33509064,  -37.0138855 ,  345.30450439]], dtype=float32), energies=array([ 0.009396], dtype=float32), hit_energies=array([ 0.00666969], dtype=float32)),\n",
       "  1: sipms(momentum=array([[-0.063221  , -0.03542152,  0.06662881]], dtype=float32), position=array([[  70.33417511,  -37.0164032 ,  345.30545044]], dtype=float32), energies=array([ 0.009396], dtype=float32), hit_energies=array([ 0.00272631], dtype=float32))},\n",
       " 1: {0: sipms(momentum=array([[ 0.05445895,  0.07797138, -0.15761538]], dtype=float32), position=array([[  70.37931824,  -36.95990372,  345.19622803]], dtype=float32), energies=array([ 0.0321473], dtype=float32), hit_energies=array([ 0.00700235], dtype=float32)),\n",
       "  1: sipms(momentum=array([[ 0.05445895,  0.07797138, -0.15761538]], dtype=float32), position=array([[  70.34996796,  -36.90391922,  345.15142822]], dtype=float32), energies=array([ 0.0321473], dtype=float32), hit_energies=array([ 0.00333719], dtype=float32)),\n",
       "  2: sipms(momentum=array([[ 0.05445895,  0.07797138, -0.15761538]], dtype=float32), position=array([[  70.36346436,  -36.87809753,  345.0970459 ]], dtype=float32), energies=array([ 0.0321473], dtype=float32), hit_energies=array([ 0.00464577], dtype=float32)),\n",
       "  3: sipms(momentum=array([[ 0.05445895,  0.07797138, -0.15761538]], dtype=float32), position=array([[  70.34234619,  -36.91085052,  345.07940674]], dtype=float32), energies=array([ 0.0321473], dtype=float32), hit_energies=array([ 0.00456898], dtype=float32)),\n",
       "  4: sipms(momentum=array([[ 0.05445895,  0.07797138, -0.15761538]], dtype=float32), position=array([[  70.33404541,  -36.93085861,  345.09463501]], dtype=float32), energies=array([ 0.0321473], dtype=float32), hit_energies=array([ 0.00783905], dtype=float32)),\n",
       "  5: sipms(momentum=array([[ 0.05445895,  0.07797138, -0.15761538]], dtype=float32), position=array([[  70.33882904,  -36.93152618,  345.09841919]], dtype=float32), energies=array([ 0.0321473], dtype=float32), hit_energies=array([ 0.00475397], dtype=float32))}}"
      ]
     },
     "execution_count": 50,
     "metadata": {},
     "output_type": "execute_result"
    }
   ],
   "source": [
    "x[0]"
   ]
  },
  {
   "cell_type": "code",
   "execution_count": 51,
   "metadata": {
    "collapsed": false
   },
   "outputs": [],
   "source": [
    "class T_S2SiProp:\n",
    "    \"\"\"\n",
    "    properties\n",
    "    \"\"\"        \n",
    "    \n",
    "    def __init__(self, Tdict):\n",
    "        self.Tdict    = Tdict\n",
    "        self.length   = len(self.Tdict)\n",
    "        self.prop()\n",
    "\n",
    "    def dict(self):\n",
    "            return self.Tdict\n",
    "\n",
    "\n",
    "    def prop(self):\n",
    "        self.xposition        = np.zeros(self.length, dtype=np.double) # \n",
    "        self.yposition        = np.zeros(self.length, dtype=np.double) # \n",
    "        self.energies         = np.zeros(self.length, dtype=np.double) # Particle's energy\n",
    "        self.hit_energies     = np.zeros(self.length, dtype=np.double) # hit's energy\n",
    "        self.edepo            = np.zeros(self.length, dtype=np.double) # Sum of energy_hits\n",
    "        self.xtruth           = np.zeros(self.length, dtype=np.double) # x from barycenter\n",
    "        self.ytruth           = np.zeros(self.length, dtype=np.double) # y from barycenter\n",
    "        \n",
    "        \n",
    "        lxposition      = []\n",
    "        lyposition      = []\n",
    "        lenergies       = []\n",
    "        lhit_energies   = []\n",
    "        ledepo          = []\n",
    "        lx              = []\n",
    "        ly              = []\n",
    "    \n",
    "        energies = 0 \n",
    "        for evtID, evt in self.Tdict.items(): \n",
    "            edepo = 0\n",
    "            xsi   = []\n",
    "            ysi   = []\n",
    "            hitE  = []\n",
    "            for particle, hits in evt.items(): \n",
    "                # fill energy of particles               \n",
    "                for hitID, sipms in hits.items(): \n",
    "                    edepo = edepo + sipms.hit_energies               \n",
    "                    lxposition    .append(sipms.position[0][0])\n",
    "                    lyposition    .append(sipms.position[0][1])\n",
    "                    lhit_energies .append(sipms.hit_energies)\n",
    "                    ledepo        .append(edepo)\n",
    "                    energies      = sipms.energies\n",
    "                    xsi           .append(sipms.position[0][0])  \n",
    "                    ysi           .append(sipms.position[0][1])\n",
    "                    hitE          .append(sipms.hit_energies[0])\n",
    "                    #print('xsi = {}'.format(xsi))\n",
    "                    #print('ysi = {}'.format(ysi))\n",
    "                    #print('hitE = {}'.format(hitE))\n",
    "                    #print('sipms.hit_energies = {}'.format(sipms.hit_energies[0]))\n",
    "                    #print('sipms.position[0][0] = {}'.format(sipms.position[0][0]))\n",
    "                    \n",
    "                \n",
    "                # fill energy of particles \n",
    "                lenergies     .append(energies)  \n",
    "           \n",
    "            #fill weighted average per event\n",
    "            xarray = np.array(xsi)\n",
    "            yarray = np.array(ysi)\n",
    "            Earray = np.array(hitE)\n",
    "           # print('lenght E= {}, type = {}'.format(len(Earray), Earray.shape))\n",
    "           # print(xarray)\n",
    "           # print(Earray)\n",
    "           # print('lenght x= {}, type = {}'.format(len(xarray), xarray.shape))\n",
    "           # print('lenght y= {}, type = {}'.format(len(yarray), yarray.shape))\n",
    "           # print('+++++++++++++++++++++++++++++')\n",
    "            lx  .append(np.average(xarray, weights = Earray))\n",
    "            ly  .append(np.average(yarray, weights = Earray))\n",
    "            \n",
    "            #print('+++++++++++++++++++++++++++++')\n",
    "                \n",
    "                \n",
    "       # convert lists to numpy arrays\n",
    "        self.xposition      = np.array(lxposition)  \n",
    "        self.yposition      = np.array(lyposition)\n",
    "        self.energies       = np.array(lenergies)\n",
    "        self.hit_energies   = np.array(lhit_energies)\n",
    "        self.edepo          = np.array(ledepo)\n",
    "        self.xtruth         = np.array(lx)\n",
    "        self.ytruth         = np.array(ly)\n"
   ]
  },
  {
   "cell_type": "code",
   "execution_count": 52,
   "metadata": {
    "collapsed": false
   },
   "outputs": [],
   "source": [
    "T = T_S2SiProp(x)"
   ]
  },
  {
   "cell_type": "code",
   "execution_count": 53,
   "metadata": {
    "collapsed": false
   },
   "outputs": [
    {
     "data": {
      "text/plain": [
       "(array([  533.,   889.,  1141.,  1214.,  1232.,  1303.,  1175.,  1106.,\n",
       "          864.,   542.]),\n",
       " array([-197.7361145 , -158.23493195, -118.73374939,  -79.23256683,\n",
       "         -39.73138428,   -0.23020172,   39.27098083,   78.77216339,\n",
       "         118.27334595,  157.7745285 ,  197.27571106]),\n",
       " <a list of 10 Patch objects>)"
      ]
     },
     "execution_count": 53,
     "metadata": {},
     "output_type": "execute_result"
    },
    {
     "data": {
      "image/png": "[encoded data removed]",
      "text/plain": [
       "<matplotlib.figure.Figure at 0x10f19d400>"
      ]
     },
     "metadata": {},
     "output_type": "display_data"
    }
   ],
   "source": [
    "plt.hist(T.xtruth)"
   ]
  },
  {
   "cell_type": "code",
   "execution_count": 54,
   "metadata": {
    "collapsed": false
   },
   "outputs": [
    {
     "data": {
      "text/plain": [
       "(array([  543.,   943.,  1061.,  1277.,  1223.,  1274.,  1218.,  1081.,\n",
       "          866.,   513.]),\n",
       " array([ -1.97504013e+02,  -1.57984462e+02,  -1.18464911e+02,\n",
       "         -7.89453598e+01,  -3.94258087e+01,   9.37423706e-02,\n",
       "          3.96132935e+01,   7.91328445e+01,   1.18652396e+02,\n",
       "          1.58171947e+02,   1.97691498e+02]),\n",
       " <a list of 10 Patch objects>)"
      ]
     },
     "execution_count": 54,
     "metadata": {},
     "output_type": "execute_result"
    },
    {
     "data": {
      "image/png": "[encoded data removed]",
      "text/plain": [
       "<matplotlib.figure.Figure at 0x115c48be0>"
      ]
     },
     "metadata": {},
     "output_type": "display_data"
    }
   ],
   "source": [
    "plt.hist(T.ytruth)"
   ]
  },
  {
   "cell_type": "code",
   "execution_count": 55,
   "metadata": {
    "collapsed": false
   },
   "outputs": [
    {
     "data": {
      "text/plain": [
       "9999"
      ]
     },
     "execution_count": 55,
     "metadata": {},
     "output_type": "execute_result"
    }
   ],
   "source": [
    "len(x)"
   ]
  },
  {
   "cell_type": "code",
   "execution_count": 56,
   "metadata": {
    "collapsed": false
   },
   "outputs": [
    {
     "data": {
      "text/plain": [
       "69837"
      ]
     },
     "execution_count": 56,
     "metadata": {},
     "output_type": "execute_result"
    }
   ],
   "source": [
    "len(T.xposition)"
   ]
  },
  {
   "cell_type": "code",
   "execution_count": 57,
   "metadata": {
    "collapsed": false
   },
   "outputs": [
    {
     "data": {
      "text/plain": [
       "True"
      ]
     },
     "execution_count": 57,
     "metadata": {},
     "output_type": "execute_result"
    }
   ],
   "source": [
    "len(T.hit_energies) == len(T.yposition)"
   ]
  },
  {
   "cell_type": "code",
   "execution_count": 58,
   "metadata": {
    "collapsed": false
   },
   "outputs": [
    {
     "data": {
      "text/plain": [
       "array([ 70.33509064,  70.33417511,  70.37931824, ...,  19.2985878 ,\n",
       "        19.26343346,  19.27990913], dtype=float32)"
      ]
     },
     "execution_count": 58,
     "metadata": {},
     "output_type": "execute_result"
    }
   ],
   "source": [
    "T.xposition"
   ]
  },
  {
   "cell_type": "code",
   "execution_count": 59,
   "metadata": {
    "collapsed": false
   },
   "outputs": [
    {
     "data": {
      "text/plain": [
       "array([-37.0138855 , -37.0164032 , -36.95990372, ...,  67.36771393,\n",
       "        67.35923004,  67.3478241 ], dtype=float32)"
      ]
     },
     "execution_count": 59,
     "metadata": {},
     "output_type": "execute_result"
    }
   ],
   "source": [
    "T.yposition"
   ]
  },
  {
   "cell_type": "code",
   "execution_count": 60,
   "metadata": {
    "collapsed": false
   },
   "outputs": [
    {
     "data": {
      "text/plain": [
       "array([[ 0.00666969],\n",
       "       [ 0.00272631],\n",
       "       [ 0.00700235],\n",
       "       ..., \n",
       "       [ 0.00795572],\n",
       "       [ 0.0060615 ],\n",
       "       [ 0.01064174]], dtype=float32)"
      ]
     },
     "execution_count": 60,
     "metadata": {},
     "output_type": "execute_result"
    }
   ],
   "source": [
    "T.hit_energies"
   ]
  },
  {
   "cell_type": "code",
   "execution_count": 61,
   "metadata": {
    "collapsed": false
   },
   "outputs": [
    {
     "data": {
      "text/plain": [
       "array([[ 0.009396 ],\n",
       "       [ 0.0321473],\n",
       "       [ 0.009396 ],\n",
       "       ..., \n",
       "       [ 0.0321473],\n",
       "       [ 0.009396 ],\n",
       "       [ 0.0321473]], dtype=float32)"
      ]
     },
     "execution_count": 61,
     "metadata": {},
     "output_type": "execute_result"
    }
   ],
   "source": [
    "T.energies"
   ]
  },
  {
   "cell_type": "code",
   "execution_count": 62,
   "metadata": {
    "collapsed": false
   },
   "outputs": [
    {
     "data": {
      "text/plain": [
       "array([[ 0.00666969],\n",
       "       [ 0.009396  ],\n",
       "       [ 0.01639835],\n",
       "       ..., \n",
       "       [ 0.02484006],\n",
       "       [ 0.03090156],\n",
       "       [ 0.0415433 ]], dtype=float32)"
      ]
     },
     "execution_count": 62,
     "metadata": {},
     "output_type": "execute_result"
    }
   ],
   "source": [
    "T.edepo"
   ]
  },
  {
   "cell_type": "code",
   "execution_count": 63,
   "metadata": {
    "collapsed": false
   },
   "outputs": [
    {
     "data": {
      "text/plain": [
       "(array([  1078.,   5449.,  13301.,   6990.,   5807.,   7021.,   5935.,\n",
       "          5524.,   5004.,  13728.]),\n",
       " array([  1.09599996e-05,   4.16419449e-03,   8.31742898e-03,\n",
       "          1.24706635e-02,   1.66238980e-02,   2.07771325e-02,\n",
       "          2.49303670e-02,   2.90836014e-02,   3.32368359e-02,\n",
       "          3.73900704e-02,   4.15433049e-02]),\n",
       " <a list of 10 Patch objects>)"
      ]
     },
     "execution_count": 63,
     "metadata": {},
     "output_type": "execute_result"
    },
    {
     "data": {
      "image/png": "[encoded data removed]",
      "text/plain": [
       "<matplotlib.figure.Figure at 0x115cc3978>"
      ]
     },
     "metadata": {},
     "output_type": "display_data"
    }
   ],
   "source": [
    "plt.hist(T.edepo)"
   ]
  },
  {
   "cell_type": "code",
   "execution_count": 64,
   "metadata": {
    "collapsed": false
   },
   "outputs": [
    {
     "data": {
      "text/plain": [
       "(dict, __main__.T_S2SiProp)"
      ]
     },
     "execution_count": 64,
     "metadata": {},
     "output_type": "execute_result"
    }
   ],
   "source": [
    "type(x), type(T)"
   ]
  },
  {
   "cell_type": "code",
   "execution_count": 65,
   "metadata": {
    "collapsed": false
   },
   "outputs": [
    {
     "data": {
      "text/plain": [
       "(array([  1.54800000e+03,   2.27100000e+03,   1.08890000e+04,\n",
       "          3.03000000e+02,   2.70000000e+01,   1.58000000e+02,\n",
       "          1.52100000e+03,   8.00000000e+00,   3.00000000e+01,\n",
       "          8.26400000e+03]),\n",
       " array([  9.97347342e-06,   3.22370608e-03,   6.43743868e-03,\n",
       "          9.65117128e-03,   1.28649039e-02,   1.60786365e-02,\n",
       "          1.92923691e-02,   2.25061017e-02,   2.57198343e-02,\n",
       "          2.89335669e-02,   3.21472995e-02]),\n",
       " <a list of 10 Patch objects>)"
      ]
     },
     "execution_count": 65,
     "metadata": {},
     "output_type": "execute_result"
    },
    {
     "data": {
      "image/png": "[encoded data removed]",
      "text/plain": [
       "<matplotlib.figure.Figure at 0x115dac7f0>"
      ]
     },
     "metadata": {},
     "output_type": "display_data"
    }
   ],
   "source": [
    "plt.hist(T.energies)"
   ]
  },
  {
   "cell_type": "code",
   "execution_count": 66,
   "metadata": {
    "collapsed": false
   },
   "outputs": [
    {
     "data": {
      "text/plain": [
       "array([[ 0.009396 ],\n",
       "       [ 0.0321473],\n",
       "       [ 0.009396 ],\n",
       "       [ 0.0321473],\n",
       "       [ 0.009396 ],\n",
       "       [ 0.0321473],\n",
       "       [ 0.009396 ],\n",
       "       [ 0.0054169],\n",
       "       [ 0.0086871],\n",
       "       [ 0.0180433],\n",
       "       [ 0.009396 ],\n",
       "       [ 0.0321473],\n",
       "       [ 0.009396 ],\n",
       "       [ 0.0321473],\n",
       "       [ 0.009396 ],\n",
       "       [ 0.0321473],\n",
       "       [ 0.009396 ],\n",
       "       [ 0.0321473],\n",
       "       [ 0.009396 ],\n",
       "       [ 0.0321473]], dtype=float32)"
      ]
     },
     "execution_count": 66,
     "metadata": {},
     "output_type": "execute_result"
    }
   ],
   "source": [
    "T.energies[0:20]"
   ]
  },
  {
   "cell_type": "code",
   "execution_count": 67,
   "metadata": {
    "collapsed": false
   },
   "outputs": [
    {
     "data": {
      "text/plain": [
       "(array([ 3925.,  6221.,  7875.,  8436.,  8473.,  9038.,  8031.,  7536.,\n",
       "         6249.,  4053.]),\n",
       " array([-197.82458496, -158.30831451, -118.79204407,  -79.27577362,\n",
       "         -39.75950317,   -0.24323273,   39.27303772,   78.78930817,\n",
       "         118.30557861,  157.82184906,  197.33811951]),\n",
       " <a list of 10 Patch objects>)"
      ]
     },
     "execution_count": 67,
     "metadata": {},
     "output_type": "execute_result"
    },
    {
     "data": {
      "image/png": "[encoded data removed]",
      "text/plain": [
       "<matplotlib.figure.Figure at 0x115dc4128>"
      ]
     },
     "metadata": {},
     "output_type": "display_data"
    }
   ],
   "source": [
    "plt.hist(T.xposition)"
   ]
  },
  {
   "cell_type": "code",
   "execution_count": 72,
   "metadata": {
    "collapsed": false
   },
   "outputs": [
    {
     "data": {
      "text/plain": [
       "(array([ 3903.,  6583.,  7277.,  8768.,  8472.,  8817.,  8551.,  7522.,\n",
       "         6166.,  3778.]),\n",
       " array([ -1.97581650e+02,  -1.58050060e+02,  -1.18518469e+02,\n",
       "         -7.89868790e+01,  -3.94552887e+01,   7.63015747e-02,\n",
       "          3.96078918e+01,   7.91394821e+01,   1.18671072e+02,\n",
       "          1.58202663e+02,   1.97734253e+02]),\n",
       " <a list of 10 Patch objects>)"
      ]
     },
     "execution_count": 72,
     "metadata": {},
     "output_type": "execute_result"
    },
    {
     "data": {
      "image/png": "[encoded data removed]",
      "text/plain": [
       "<matplotlib.figure.Figure at 0x116805390>"
      ]
     },
     "metadata": {},
     "output_type": "display_data"
    }
   ],
   "source": [
    "plt.hist(T.yposition)"
   ]
  },
  {
   "cell_type": "code",
   "execution_count": 73,
   "metadata": {
    "collapsed": false
   },
   "outputs": [
    {
     "data": {
      "image/png": "[encoded data removed]",
      "text/plain": [
       "<matplotlib.figure.Figure at 0x115fddef0>"
      ]
     },
     "metadata": {},
     "output_type": "display_data"
    }
   ],
   "source": [
    "from matplotlib.colors import LogNorm\n",
    "plt.hist2d(T.xposition, T.yposition, bins=40, norm=LogNorm())\n",
    "plt.colorbar()\n",
    "plt.show()"
   ]
  },
  {
   "cell_type": "markdown",
   "metadata": {},
   "source": []
  },
  {
   "cell_type": "code",
   "execution_count": null,
   "metadata": {
    "collapsed": true
   },
   "outputs": [],
   "source": []
  }
 ],
 "metadata": {
  "kernelspec": {
   "display_name": "Python 3",
   "language": "python",
   "name": "python3"
  },
  "language_info": {
   "codemirror_mode": {
    "name": "ipython",
    "version": 3
   },
   "file_extension": ".py",
   "mimetype": "text/x-python",
   "name": "python",
   "nbconvert_exporter": "python",
   "pygments_lexer": "ipython3",
   "version": "3.5.2"
  }
 },
 "nbformat": 4,
 "nbformat_minor": 2
}
